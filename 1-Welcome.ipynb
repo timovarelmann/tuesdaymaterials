{
 "cells": [
  {
   "cell_type": "markdown",
   "metadata": {
    "slideshow": {
     "slide_type": "slide"
    }
   },
   "source": [
    "# Elementare Statistik für Musikwissenschaft - Einführung in grundlegende Konzepte und R\n",
    "\n",
    "WiSe 2018/19"
   ]
  },
  {
   "cell_type": "markdown",
   "metadata": {
    "slideshow": {
     "slide_type": "fragment"
    }
   },
   "source": [
    "## **Willkommen // Welcome** "
   ]
  },
  {
   "cell_type": "markdown",
   "metadata": {
    "slideshow": {
     "slide_type": "slide"
    }
   },
   "source": [
    "## Formalia"
   ]
  },
  {
   "cell_type": "markdown",
   "metadata": {
    "slideshow": {
     "slide_type": "subslide"
    }
   },
   "source": [
    "### Enrollment\n",
    "KLIPS 2.0 Course-ID: 14206.0402\n",
    "\n",
    "You have enrolled for these modules:  \n",
    "\n",
    "*Musikwissenschaft*\n",
    "- BA-AM 3: Ästhetik, Kognitionswissenschaft, Psychologie\n",
    "- BA-AM 4: Methoden und Probleme\n",
    "- BA-EST, MA-EST\n",
    "\n",
    "*Studium Integrale (3LP), Extracurriculares Angebot*"
   ]
  },
  {
   "cell_type": "markdown",
   "metadata": {
    "slideshow": {
     "slide_type": "subslide"
    }
   },
   "source": [
    "### Dates\n",
    "Every Tuesday from 12:00 to 13:30  \n",
    "In the period from 09.10.2018  to 29.01.2019  \n",
    "Except christmas/new year vacations (25.12. and 01.01.)  \n",
    "\n",
    "Where? Musiksaal or Systematischen Arbeitsraum (room 1.402)"
   ]
  },
  {
   "cell_type": "markdown",
   "metadata": {
    "slideshow": {
     "slide_type": "subslide"
    }
   },
   "source": [
    "### If you cannot participate a session... \n",
    "\n",
    "Please inform me (E-Mail)  \n",
    "Worksheets and presentations of the session will be provided online and/or information will be send to you per e-mail\n",
    "\n",
    "-> Please follow-up the course work and prepare for the next session"
   ]
  },
  {
   "cell_type": "markdown",
   "metadata": {
    "slideshow": {
     "slide_type": "subslide"
    }
   },
   "source": [
    "### If you have questions or troubles ...\n",
    "\n",
    "concerning coding, software, homework assignment etc.:  \n",
    "please let me know about them two days ahead of our course (thus, by Sunday)"
   ]
  },
  {
   "cell_type": "markdown",
   "metadata": {
    "slideshow": {
     "slide_type": "subslide"
    }
   },
   "source": [
    "### Contact  \n",
    "Mail to:  timo.varelmann@uni-koeln.de  \n",
    "Phone: 0221-470-2578 (Tuesdays)\n",
    "\n",
    "Office hours:  \n",
    "Tuesdays 13.50 - 14.50 (on appointment)  \n",
    "... or just take a look at room 1.406"
   ]
  },
  {
   "cell_type": "markdown",
   "metadata": {
    "slideshow": {
     "slide_type": "slide"
    }
   },
   "source": [
    "## R"
   ]
  },
  {
   "cell_type": "markdown",
   "metadata": {
    "slideshow": {
     "slide_type": "subslide"
    }
   },
   "source": [
    "Besides SPSS (“Statistical Package for the Social Science”, IBM), R is one of the most popular data science software (see graph \"Number of scholarly articles found in 2016 for the more popular data science software.\", in: A. Muenchen, *The Popularity of Data Science Software*, r4stats.com, retrieved 2017-10-04)"
   ]
  },
  {
   "cell_type": "markdown",
   "metadata": {
    "slideshow": {
     "slide_type": "fragment"
    }
   },
   "source": [
    "Knowledge of a programming language like R and experience in data management and analysis may be beneficial for your future academic or non-academic carreer"
   ]
  },
  {
   "cell_type": "markdown",
   "metadata": {
    "slideshow": {
     "slide_type": "subslide"
    }
   },
   "source": [
    "### What is R?\n",
    "R is \n",
    "- programming language\n",
    "- free software environment for statistical computing and graphics"
   ]
  },
  {
   "cell_type": "markdown",
   "metadata": {
    "slideshow": {
     "slide_type": "fragment"
    }
   },
   "source": [
    "<img src=\"Example_R_Environment1.jpg\">"
   ]
  },
  {
   "cell_type": "markdown",
   "metadata": {
    "slideshow": {
     "slide_type": "subslide"
    }
   },
   "source": [
    "### What are (some of) the benefits of using R?\n",
    "- free software\n",
    "(MS, Mac & Linux compatible versions: https://www.r-project.org/ )\n",
    "- ongoing improvements by the R community: R upgrades, new packages for statistical computing and graphics\n",
    "- detailed online documentations"
   ]
  },
  {
   "cell_type": "markdown",
   "metadata": {
    "slideshow": {
     "slide_type": "fragment"
    }
   },
   "source": [
    "- data management, statistical computing and creation of graphics in one environment\n",
    "- parameter control\n",
    "- flexibility"
   ]
  },
  {
   "cell_type": "markdown",
   "metadata": {
    "slideshow": {
     "slide_type": "fragment"
    }
   },
   "source": [
    "<img src=\"Example_R_Environment.jpg\">"
   ]
  },
  {
   "cell_type": "markdown",
   "metadata": {
    "slideshow": {
     "slide_type": "fragment"
    }
   },
   "source": [
    "- transparency for collaborative work and quality assurance  \n",
    "e.g. http://bodowinter.com/publications.html"
   ]
  },
  {
   "cell_type": "markdown",
   "metadata": {
    "slideshow": {
     "slide_type": "subslide"
    }
   },
   "source": [
    "### What are typical demands and challenges of using R? (beneficial by the way!)\n",
    "- as a beginner, you need exercise and patience to get used to the programming language\n",
    "- good planning and well-structured programming is required"
   ]
  },
  {
   "cell_type": "markdown",
   "metadata": {
    "slideshow": {
     "slide_type": "subslide"
    }
   },
   "source": [
    "...and the most important prerequisite for data analysis (in general):   \n",
    "**theoretical knowledge of statistics**!"
   ]
  },
  {
   "cell_type": "markdown",
   "metadata": {
    "slideshow": {
     "slide_type": "slide"
    }
   },
   "source": [
    "## Jupyter\n",
    "Throughout our seminar, we will use Juypter as environment for  \n",
    "- data management, statistical computing and visualisations in R  \n",
    "\n",
    "plus (e.g.):\n",
    "- notes\n",
    "- worksheets\n",
    "- presentations\n",
    "- *Hausarbeit (Modulabschlussprüfung)*"
   ]
  },
  {
   "cell_type": "markdown",
   "metadata": {
    "slideshow": {
     "slide_type": "subslide"
    }
   },
   "source": [
    "### Jupyter in short \n",
    "(you will get to know more about Jupyter in the following sessions)\n",
    "\n",
    "\"Project Jupyter exists to develop open-source software, open-standards, and services for interactive computing across dozens of programming languages\" (https://jupyter.org/). Juypter is an acronym for the three core programming languages supported: Julia, Python and R."
   ]
  },
  {
   "cell_type": "markdown",
   "metadata": {
    "slideshow": {
     "slide_type": "subslide"
    }
   },
   "source": [
    "### Notebook\n",
    "Jupyter\n",
    "- runs the code\n",
    "- stores the code and its output\n",
    "- stores your notes   \n",
    "\n",
    "in an editable document called a **notebook**.\n",
    "\n",
    "<img src=\"notebook_components.png\">\n",
    "\n",
    "(https://jupyter.readthedocs.io/en/latest/architecture/how_jupyter_ipython_work.html, retrieved 08-10-2018)"
   ]
  },
  {
   "cell_type": "markdown",
   "metadata": {
    "slideshow": {
     "slide_type": "subslide"
    }
   },
   "source": [
    "<img src=\"Example_Jupyter_Notebook.jpg\">"
   ]
  },
  {
   "cell_type": "markdown",
   "metadata": {
    "slideshow": {
     "slide_type": "subslide"
    }
   },
   "source": [
    "### JupyterHub\n",
    "\n",
    "My colleage Sebastian Klaßmann (WHK musicology department) set up a Jupyter-server within the university intranet which allows you to get access to your notebooks from any device (Laptop, Destop, smart phone, iPad, tablet) *without* installing Jupyter on it.\n",
    "\n",
    "All you need is...\n",
    "- an internet browser\n",
    "- access to the university intranet\n",
    " - at university: connect to UniKoeln-802.1X or other university networks\n",
    " - elsewhere: get access to the university network via VPN (virtual private network) (http://rrzk.uni-koeln.de/vpn.html)\n",
    "- your personal JupyterHub log-in username and password for our server https://jhmuwi.uni-koeln.de"
   ]
  },
  {
   "cell_type": "markdown",
   "metadata": {
    "slideshow": {
     "slide_type": "subslide"
    }
   },
   "source": [
    "Actually, we are now in the presentation mode of a Jupyter notebook."
   ]
  },
  {
   "cell_type": "markdown",
   "metadata": {
    "slideshow": {
     "slide_type": "fragment"
    }
   },
   "source": [
    "We can edit the text in our markdown cell ... "
   ]
  },
  {
   "cell_type": "markdown",
   "metadata": {
    "slideshow": {
     "slide_type": "subslide"
    }
   },
   "source": [
    "or try out some coding in R"
   ]
  },
  {
   "cell_type": "code",
   "execution_count": null,
   "metadata": {
    "slideshow": {
     "slide_type": "fragment"
    }
   },
   "outputs": [],
   "source": []
  },
  {
   "cell_type": "markdown",
   "metadata": {
    "slideshow": {
     "slide_type": "subslide"
    }
   },
   "source": [
    "We will come back to Jupyter features in the next sessions."
   ]
  },
  {
   "cell_type": "markdown",
   "metadata": {
    "slideshow": {
     "slide_type": "slide"
    }
   },
   "source": [
    "## Contents of the Course"
   ]
  },
  {
   "cell_type": "markdown",
   "metadata": {
    "slideshow": {
     "slide_type": "subslide"
    }
   },
   "source": [
    "### This course will cover:\n",
    "- an introductory approach to statistics, including\n",
    " - descriptive statistics\n",
    " - inferential statistics\n",
    " - the logic of hypothesis testing\n",
    " - ... (see preliminary timetable\n",
    "\n",
    "\n",
    "- examples of statistics applied in music science  \n",
    "(-> students' expectations about the course!)\n",
    "\n",
    "\n",
    "- introduction to the R programming language including\n",
    " - data types\n",
    " - data structures\n",
    " - statistical computing\n",
    " - visualisation\n",
    " \n",
    " \n",
    "- introduction to features of Jupyter and its interfaces including\n",
    " - interactive coding\n",
    " - markdown\n",
    " - github"
   ]
  },
  {
   "cell_type": "markdown",
   "metadata": {
    "slideshow": {
     "slide_type": "subslide"
    }
   },
   "source": [
    "### Time table (preliminary)\n",
    "09.10. Introduction  \n",
    "16.10. Jupyter Basics  \n",
    "23.10. Introduction to R  \n",
    "30.10. Descriptive Statistics I  and practicing R  \n",
    "06.11. Descriptive Statistics II  and practicing R  \n",
    "13.11. Descriptive Statistics III  and practicing R  \n",
    "20.11. Probability  \n",
    "27.11. Sample and population  \n",
    "04.12. Hypothesis testing  \n",
    "11.12. Nonparametric and Parametric tests  \n",
    "18.12. Confidence Intervals  \n",
    "08.01. *still open for suggestions, training, group work*  \n",
    "15.01. *still open for suggestions, training, group work*  \n",
    "23.01. *still open for suggestions, training, group work*  \n",
    "30.01. Presentations of individual / group work"
   ]
  },
  {
   "cell_type": "markdown",
   "metadata": {
    "slideshow": {
     "slide_type": "slide"
    }
   },
   "source": [
    "## Presentations:\n",
    "The course will end with short presentations of your descriptive data analysis projects. This is **mandatory** for achieving your credit points.  \n",
    "- You may collect the data to be analysed by yourself or create simulated data sets.  \n",
    "- For presentation, you will create a Jupyter Notebook that includes notes, code, and visualisations. \n",
    "- You may work individually or in a group (N=2).\n",
    "\n",
    "Precise assignments of tasks will follow by mid/end of November."
   ]
  },
  {
   "cell_type": "markdown",
   "metadata": {
    "slideshow": {
     "slide_type": "subslide"
    }
   },
   "source": [
    "Some examples of students' topics the last semesters:\n",
    "- \"Wie populär ist Pop\"? Vergleich von Klicks unterschiedlicher Genre bei kostenlosen Streamprogrammen am Beispiel von Spotify\n",
    "- Neuerscheinungen der Kinofilme im Jahr 2014 \n",
    "- Mediennutzung in der Freizeit. Ein Vergleich internetbasierter und nicht-internetbasierter Medien\n",
    "- Einfluss gelenkter Aufmerksamkeit auf die Bewertung geometrischer Figuren\n",
    "- Musikparadigmen in Horrorfilm-Originalen und -Remakes"
   ]
  },
  {
   "cell_type": "markdown",
   "metadata": {
    "slideshow": {
     "slide_type": "subslide"
    }
   },
   "source": [
    "## *Modulabschlussprüfung*\n",
    "\n",
    "For musicology students who enrolled for BA AM 3 or 4, a combined module examination is possible. If you are interested, please contact me for first individual considerations."
   ]
  }
 ],
 "metadata": {
  "kernelspec": {
   "display_name": "R",
   "language": "R",
   "name": "ir"
  },
  "language_info": {
   "codemirror_mode": "r",
   "file_extension": ".r",
   "mimetype": "text/x-r-source",
   "name": "R",
   "pygments_lexer": "r",
   "version": "3.5.1"
  }
 },
 "nbformat": 4,
 "nbformat_minor": 2
}
