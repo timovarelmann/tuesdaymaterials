{
 "cells": [
  {
   "cell_type": "markdown",
   "metadata": {},
   "source": [
    "# Introduction to Markdown\n",
    "\n",
    "author: &nbsp;&nbsp; timo.varelmann@uni-koeln.de  \n",
    "date: &nbsp;&nbsp;&nbsp;&nbsp;&nbsp; 13.10.2018  \n",
    "version:&nbsp;&nbsp; 1.1 (reviewed and edited by Sebastian Klaßmann)"
   ]
  },
  {
   "cell_type": "markdown",
   "metadata": {},
   "source": [
    "In the Jupyter notebook, markdown cells are used for several purposes; they are used to\n",
    "- give structure to the overall notebook and the notebook contents\n",
    "- write text ranging from comments to entire articles \n",
    "- insert symbols, formulae, links, images, etc."
   ]
  },
  {
   "cell_type": "markdown",
   "metadata": {},
   "source": [
    "This notebook introduces basic features of markdown using different formatting syntaxes supported by Jupyter notebook markdown cells:\n",
    "- Markdown\n",
    "- HTML\n",
    "- LaTeX"
   ]
  },
  {
   "cell_type": "markdown",
   "metadata": {},
   "source": [
    "**List of Contents** <a name=\"contents\"></a>\n",
    "\n",
    "- [Providing structure to the notebook](#structure)\n",
    " - [Heading](#heading) \n",
    " - [Lists](#lists)\n",
    "   - [Unordered Lists](#ul)\n",
    "   - [Ordered or enumerated lists](#ol)\n",
    " - [Tables](#tables)\n",
    " - [Line breaks and paragraphs](#break)\n",
    " - [Horizontal line](#horizontal)\n",
    " - [Block quote](#block)\n",
    "- [Formatting text](#format)\n",
    " - [Bold](#bold)\n",
    " - [Italics](#ital)\n",
    " - [Bold and italics combined](#comb)\n",
    " - [Strikethrough](#strike)\n",
    " - [Highlight syntax](#syntax)\n",
    "- [Insert symbols](#symbols)\n",
    " - [HTML symbols](#HTML)\n",
    "   - [en dash and em dash](#en-dash)\n",
    " - [Latex mathematical symbols and expressions](#latex)\n",
    "   - [Sub- and superscripts](#index)\n",
    "   - [Grouping](#grouping)\n",
    "   - [LaTeX Math Symbols](#latex-syntax)\n",
    " - [Escaping formatting language characters](#escaping)\n",
    "- [Embedding links, anchors and media](#links-head)\n",
    " - [Auto links](#links)\n",
    " - [Inline links](#i-links)\n",
    " - [Anchors](#anchors)\n",
    " - [Images](#images)\n"
   ]
  },
  {
   "cell_type": "markdown",
   "metadata": {},
   "source": [
    "## Providing structure to the notebook<a name=\"structure\"></a>"
   ]
  },
  {
   "cell_type": "markdown",
   "metadata": {},
   "source": [
    "### Heading<a name=\"heading\"></a>\n",
    "Headings provide the overall structure to the notebook. Markdown syntax gives six levels of heading, indicidated by the number of hashes. Hashes are recognised as headings only if they:\n",
    "- are placed in the beginning of a line\n",
    "- are followed by a space.\n",
    "\n",
    "`# Heading 1`  \n",
    "`## Heading 2`  \n",
    "`### Heading 3`  \n",
    "`### Heading 3`  \n",
    "`#### Heading 4`  \n",
    "`##### Heading 5`  \n",
    "`###### Heading 6`"
   ]
  },
  {
   "cell_type": "code",
   "execution_count": null,
   "metadata": {},
   "outputs": [],
   "source": []
  },
  {
   "cell_type": "markdown",
   "metadata": {},
   "source": [
    "  "
   ]
  },
  {
   "cell_type": "markdown",
   "metadata": {},
   "source": [
    "#### HTML alternative\n",
    "\n",
    "The HTML alternative to the Markdown syntax for headings is:  \n",
    "\n",
    "`<h1>Heading1</h1>`  \n",
    "`<h2>Heading2</h2>`  \n",
    "`<h3>Heading3</h3>`  \n",
    "..."
   ]
  },
  {
   "cell_type": "code",
   "execution_count": null,
   "metadata": {},
   "outputs": [],
   "source": [
    "  "
   ]
  },
  {
   "cell_type": "markdown",
   "metadata": {},
   "source": [
    "### Lists<a name=\"lists\"></a>"
   ]
  },
  {
   "cell_type": "markdown",
   "metadata": {},
   "source": [
    "#### Unordered lists<a name=\"ul\"></a>\n",
    "Mardown regognises `-`, `*` or `+`as syntactic pointers for creating unordered lists if these symbols:\n",
    "- are placed at the beginning of a line\n",
    "- are followed by a space.\n",
    "\n",
    "`- Item A`  \n",
    "`- Item B`  \n",
    "\n",
    "`* Item A`  \n",
    "`* Item B` "
   ]
  },
  {
   "cell_type": "code",
   "execution_count": null,
   "metadata": {},
   "outputs": [],
   "source": [
    "  "
   ]
  },
  {
   "cell_type": "markdown",
   "metadata": {},
   "source": [
    "Nesting is achieved by spacing. Depending on the numbers of spaces set at the beginning of a line, the bullets will be indented.\n",
    "\n",
    "For example:\n",
    "\n",
    "\\- Item A  \n",
    "&nbsp;\\- Subitem A' (one space)    \n",
    "&nbsp;&nbsp;&nbsp;\\- Subitem A'' (three spaces)  \n",
    "&nbsp;&nbsp;&nbsp;&nbsp;&nbsp;\\- Subitem A''' (five spaces)  \n",
    "\\- Item B\n",
    "\n",
    "produces this nested bullet list:\n",
    "- Item A\n",
    " - Subitem A' \n",
    "     - Subitem A''\n",
    "- Item B"
   ]
  },
  {
   "cell_type": "code",
   "execution_count": null,
   "metadata": {},
   "outputs": [],
   "source": [
    "  "
   ]
  },
  {
   "cell_type": "markdown",
   "metadata": {},
   "source": [
    "#### HTML alternative\n",
    "The HMTL tag for an unordered list is `<ul>`. Emdedding lists in lists provides nesting.  \n",
    "List items start with the tag `<li>`:\n",
    "\n",
    "`<ul>`     \n",
    "&nbsp;&nbsp;   `<li>Item A</li>`  \n",
    "&nbsp;&nbsp;   `<li>Item B</li>`  \n",
    "&nbsp;&nbsp;    `<ul>`  \n",
    "&nbsp;&nbsp;&nbsp;&nbsp;      `<li>Item B'</li>`  \n",
    "&nbsp;&nbsp;    `</ul>`  \n",
    "&nbsp;&nbsp;    `<li>Item C</li>`  \n",
    "    `</ul>`\n",
    "\n",
    "\n",
    "produces this unordered nested list:\n",
    "<ul>     \n",
    "  <li>Item A</li>  \n",
    "  <li>Item B</li>  \n",
    "  <ul> \n",
    "     <li>Item B'</li>  \n",
    "  </ul>  \n",
    "  <li>Item C</li>  \n",
    "</ul>"
   ]
  },
  {
   "cell_type": "code",
   "execution_count": null,
   "metadata": {},
   "outputs": [],
   "source": [
    "  "
   ]
  },
  {
   "cell_type": "markdown",
   "metadata": {},
   "source": [
    "### Ordered or enumenrated lists<a name=\"ol\"></a>\n",
    "\n",
    "Ordinal numbers set at the beginning of a markdown line will be recognised as syntax elements if they are followed by a space. Markdown indents only one sublevel of enumerated lists, and only if the line ends with minimally two spaces:\n",
    "\n",
    "`1. Item`   (2 spaces on the right)  \n",
    "`1.1. Subitem`  (2 spaces on the right)  \n",
    "`2. Item`\n",
    "\n",
    "1. Item   \n",
    "1.1. Subitem  \n",
    "2. Item\n"
   ]
  },
  {
   "cell_type": "code",
   "execution_count": null,
   "metadata": {},
   "outputs": [],
   "source": [
    "  "
   ]
  },
  {
   "cell_type": "markdown",
   "metadata": {},
   "source": [
    "#### HTML alternative\n",
    "The HMTL tag for an ordered list is `<ol>`. Emdedding lists in lists provides nesting.  \n",
    "List items start with the tag `<li>`:\n",
    "\n",
    "`<ol>`     \n",
    "&nbsp;&nbsp;   `<li>Item A</li>`  \n",
    "&nbsp;&nbsp;   `<li>Item B</li>`  \n",
    "&nbsp;&nbsp;    `<ol>`  \n",
    "&nbsp;&nbsp;&nbsp;&nbsp;      `<li>Item B'</li>`  \n",
    "&nbsp;&nbsp;    `</ol>`  \n",
    "&nbsp;&nbsp;    `<li>Item C</li>`  \n",
    "    `</ol>`\n",
    "\n",
    "\n",
    "produces this ordered and nested list:\n",
    "<ol>     \n",
    "  <li>Item A</li>  \n",
    "  <li>Item B</li>  \n",
    "  <ol> \n",
    "     <li>Item B'</li>  \n",
    "  </ol>  \n",
    "  <li>Item C</li>  \n",
    "</ol>"
   ]
  },
  {
   "cell_type": "code",
   "execution_count": null,
   "metadata": {},
   "outputs": [],
   "source": [
    "   "
   ]
  },
  {
   "cell_type": "markdown",
   "metadata": {},
   "source": [
    "### Tables<a name=\"tables\"></a>\n",
    "Pure Markdown syntax literally \"draws\" a table.   \n",
    "Columns are separated by `|`, and row names and data rows are separated by `-`.\n",
    "\n",
    "When \"drawing\" the table, column separators must not perfectly align, like here:\n",
    "\n",
    "\n",
    "\\| Column 1 | Column2 | Column 3 |  \n",
    "| -----|-----|------|  \n",
    "| data1.1 |data1.2 | data1.3 |  \n",
    "| data2.1 |data2.2 | ... and so on |  \n",
    "\n",
    "This will render the table as follows:\n",
    "\n",
    "| Column 1 | Column2 | Column 3 |  \n",
    "| -----|-----|------|  \n",
    "| data1.1 |data1.2 | data1.3 |  \n",
    "| data2.1 |data2.2 | ... and so on |"
   ]
  },
  {
   "cell_type": "code",
   "execution_count": null,
   "metadata": {},
   "outputs": [],
   "source": []
  },
  {
   "cell_type": "markdown",
   "metadata": {},
   "source": [
    "### Line breaks and paragraphs<a name=\"break\"></a>\n",
    "Markdown adjusts the number of words in a line automatically according to the proportions of the markdown cell. For example, if you zoom in and out this notebook, you will recognize that the line breaks adjust to the actual size of the notebook. This is also the case when you export a notebook as pdf or slide.  \n",
    "\n",
    "When writing text, simply pressing single `enter` has no effect on your text. In addition, two spaces have to be inserted at the end of the line before breaking it.`space` `space`  \n",
    "Only then, a line break is achieved.\n",
    "\n",
    "Double pressing `enter` starts a new paragraph within a given cell."
   ]
  },
  {
   "cell_type": "code",
   "execution_count": null,
   "metadata": {},
   "outputs": [],
   "source": [
    "  "
   ]
  },
  {
   "cell_type": "markdown",
   "metadata": {},
   "source": [
    "#### HTML alternative\n",
    "HTML tag `<br>` or `</br>` provides a line break.  \n",
    "Paragraphs are written within the tags `<p>` `</p>`.  \n",
    "\n",
    "`<p>`This is an example: it will produce the first paragraph.`<br>`  \n",
    "    Before starting a new paragraph, the corresponding tag has to be closed.`</p>`  \n",
    "`<p>`Now, this is a new paragraph`</p>`\n",
    "\n",
    "\n",
    "The output is:\n",
    "<p>This is an example: it will produce the first paragraph.<br>\n",
    "    Before starting a new paragraph, the corresponding tag has to be closed.</p>  \n",
    "<p>Now, this is a new paragraph</p>"
   ]
  },
  {
   "cell_type": "code",
   "execution_count": null,
   "metadata": {},
   "outputs": [],
   "source": [
    "  "
   ]
  },
  {
   "cell_type": "markdown",
   "metadata": {},
   "source": [
    "### Splitting a cell with a horizontal line<a name=\"horizontal\"></a>\n",
    "A horizontal line can be inserted by `enter`   \n",
    "`enter`   \n",
    "`---`\n",
    "\n",
    "---\n",
    " \n",
    "Caution: without an empty line between text and `---`, Markdown interprets `---` as code for heading level 2 which renders the text respectively.\n",
    "\n",
    "Alternatively use three asterisks `***` or underscores `___`. "
   ]
  },
  {
   "cell_type": "code",
   "execution_count": null,
   "metadata": {},
   "outputs": [],
   "source": [
    "    "
   ]
  },
  {
   "cell_type": "markdown",
   "metadata": {},
   "source": [
    "### Block quote<a name=\"block\"></a>\n",
    "Block quotes starts with the symbol `>`\n",
    "\n",
    "`>` Lorem ipsum dolor sit amet, eu clita vulputate per, quo dicit utroque te. Pro ad dicta delectus, pri quod animal scaevola ne. Duo alii antiopam intellegam eu. Omittantur dissentiunt usu ea, habeo summo eloquentiam per eu. Quem hinc nihil ex vel.`enter`  \n",
    "`enter`  \n",
    "Double enter stops quoting.\n",
    "\n",
    "---\n",
    "This renders the text:\n",
    "\n",
    "\n",
    ">Lorem ipsum dolor sit amet, eu clita vulputate per, quo dicit utroque te. Pro ad dicta delectus, pri quod animal scaevola ne. Duo alii antiopam intellegam eu. Omittantur dissentiunt usu ea, habeo summo eloquentiam per eu. Quem hinc nihil ex vel.  \n",
    "\n",
    "Double enter stops quoting."
   ]
  },
  {
   "cell_type": "code",
   "execution_count": null,
   "metadata": {},
   "outputs": [],
   "source": []
  },
  {
   "cell_type": "markdown",
   "metadata": {},
   "source": [
    "## Formatting text<a name=\"format\"></a>"
   ]
  },
  {
   "cell_type": "markdown",
   "metadata": {},
   "source": [
    "### Bold<a name=\"bold\"></a>\n",
    "Text is bolded by using double asterisks or underscores before and after some text:\n",
    "\n",
    "`**bold text**`\n",
    "\n",
    "or\n",
    "\n",
    "`__bold text__`."
   ]
  },
  {
   "cell_type": "code",
   "execution_count": null,
   "metadata": {},
   "outputs": [],
   "source": [
    "  "
   ]
  },
  {
   "cell_type": "markdown",
   "metadata": {},
   "source": [
    "### Italics<a name=\"ital\"></a>\n",
    "Text is italicised by using a single asterisk or underscore before and after some text.  \n",
    "\n",
    "`*your italic text*`\n",
    "\n",
    "or\n",
    "\n",
    "`_your italic text_`"
   ]
  },
  {
   "cell_type": "code",
   "execution_count": null,
   "metadata": {},
   "outputs": [],
   "source": [
    "  "
   ]
  },
  {
   "cell_type": "markdown",
   "metadata": {},
   "source": [
    "### Bold and italics combined<a name=\"comb\"></a>\n",
    "You can also combine italics and bold.  \n",
    "\n",
    "`__This gives bold and *italic*__ ... **This _also_**`\n",
    "\n",
    "`_This gives italic and **bold**_ ... *This __also__*`"
   ]
  },
  {
   "cell_type": "code",
   "execution_count": null,
   "metadata": {},
   "outputs": [],
   "source": [
    "   "
   ]
  },
  {
   "cell_type": "markdown",
   "metadata": {},
   "source": [
    "#### HTML alternative\n",
    "HTML `<em>` for italics and `<strong>` for bold can also be used. Don't forget to close this formatting with `</strong>` and `</em>`."
   ]
  },
  {
   "cell_type": "code",
   "execution_count": null,
   "metadata": {},
   "outputs": [],
   "source": [
    "  "
   ]
  },
  {
   "cell_type": "markdown",
   "metadata": {},
   "source": [
    "### Strikethrough<a name=\"strike\"></a>\n",
    "Use two tildes around some text to cross it out:\n",
    "\n",
    "`~~this text will be crossed out~~`"
   ]
  },
  {
   "cell_type": "markdown",
   "metadata": {},
   "source": [
    "  "
   ]
  },
  {
   "cell_type": "markdown",
   "metadata": {},
   "source": [
    "### Highlight syntax<a name=\"syntax\"></a>\n",
    "Higlighting syntax is what has been done in the cells above: instead of executing the markdown syntax code, execution is escaped and the code printed and visually highlighted. This is achieved by wrapping the code with backticks, e.g.\n",
    "\n",
    "``` `<em>` ```\n"
   ]
  },
  {
   "cell_type": "markdown",
   "metadata": {},
   "source": [
    "  "
   ]
  },
  {
   "cell_type": "code",
   "execution_count": null,
   "metadata": {},
   "outputs": [],
   "source": [
    "  "
   ]
  },
  {
   "cell_type": "markdown",
   "metadata": {},
   "source": [
    "## Insert symbols<a name=\"symbols\"></a>\n",
    "Depending on the subject, LaTeX or HTML code can be used to insert symbols that extend the standard keyboard alphabet."
   ]
  },
  {
   "cell_type": "markdown",
   "metadata": {},
   "source": [
    "### HTML symbols<a name=\"html\"></a>\n",
    "HTML covers a wide range of symbols. Markdown accepts HMTL entities which take the form `&entity;` as well as decimal and hexadecimal references which take the form `&#0000;` and `&#x0000;` respectively."
   ]
  },
  {
   "cell_type": "markdown",
   "metadata": {},
   "source": [
    "#### en dash and em dash<a name=\"en-dash\"></a>\n",
    "en and em dash is commonly used in typography. The HTML code alternatives are:\n",
    "\n",
    "|  Symbol |  Name   |  HMTL entity  | HTML dec | HTML hex |\n",
    "| --------|---------|---------------|----------|----------|\n",
    "| &ndash; |(en dash) | `&ndash;` | `&#8211;` | `&#x2013;` |\n",
    "| &mdash; |(em dash) | `&mdash;` | `&#8212;` | `&#x2014;` |   \n",
    "\n",
    "This `&mdash;` as an example for using HTML code for typography `&mdash;` gives the following result:\n",
    "\n",
    "---\n",
    "This &mdash; as an example for using HTML code for typography &mdash; gives the following result.\n",
    "\n",
    "The website [key-shortcut.com](https://www.key-shortcut.com/en/writing-systems/35-symbols/symbols-typography/) provides an exhaustive collection of symbols and corresponding decimals and hexadecimals."
   ]
  },
  {
   "cell_type": "code",
   "execution_count": null,
   "metadata": {},
   "outputs": [],
   "source": []
  },
  {
   "cell_type": "markdown",
   "metadata": {},
   "source": [
    "### LaTeX Mathematical symbols and expressions<a name=\"latex\"></a>\n",
    "\n",
    "Jupyter Markdown recognises LaTeX equations which produce high-quality, printable output.  \n",
    "Single and double dollar-symbols `$`mark the LaTeX syntax.\n",
    "\n",
    "For inline equations, wrap the LaTeX code with a single dollar symbol, e.g. `$1+3+8=12$` produces $1+3+8=12$.\n",
    "\n",
    "If the LaTeX code is surrounded by double dollar symbols, expressions will be printed centered in a distinct line. `$$1+3+8=12$$` produces $$1+3+8=12$$ "
   ]
  },
  {
   "cell_type": "code",
   "execution_count": null,
   "metadata": {},
   "outputs": [],
   "source": [
    "  "
   ]
  },
  {
   "cell_type": "markdown",
   "metadata": {},
   "source": [
    "#### Sub- and superscipts<a name=\"index\"></a>\n",
    "\n",
    "Take a look at the equation $2^2=4$.  \n",
    "The superscript (here an exponent) follows the circumflex symbol `^`, thus `$2^2=4$`produces the equation above.\n",
    "\n",
    "Subscripts (here an index) follow an underscore `_`, thus `$x_i$` gives $x_i$."
   ]
  },
  {
   "cell_type": "code",
   "execution_count": null,
   "metadata": {},
   "outputs": [],
   "source": [
    "  "
   ]
  },
  {
   "cell_type": "markdown",
   "metadata": {},
   "source": [
    "#### Grouping<a name=\"grouping\"></a>\n",
    "Be aware that the output of `$x_i+1$` is $x_i+1$. After the index command, only one expression (here the $x$) is treated as such.\n",
    "\n",
    "In LaTeX, grouping is provided by curly brackets `{ }`. For the index in $x_{i+1}$, use the curly brackets to group the expression $_{i+1}$:  \n",
    "`$x_{i+1}$`"
   ]
  },
  {
   "cell_type": "code",
   "execution_count": null,
   "metadata": {},
   "outputs": [],
   "source": [
    "  "
   ]
  },
  {
   "cell_type": "markdown",
   "metadata": {},
   "source": [
    "#### LaTex Math Symbols<a name=\"latex-symbols\"></a>"
   ]
  },
  {
   "cell_type": "markdown",
   "metadata": {},
   "source": [
    "Use keyboard symbols for mathematical symbols like $+$ $-$ $|$ $=$ or brackets.\n",
    "\n",
    "LaTeX further provides a wide range of mathematical symbols which take the form `\\command`. The backslash indicates the following characters to be treated as command.\n",
    "\n",
    "Examples:\n",
    "\n",
    "`$\\Delta w$` gives $\\Delta w$   \n",
    "\n",
    "`$\\alpha \\leq \\delta$` gives $\\alpha \\leq \\delta$"
   ]
  },
  {
   "cell_type": "code",
   "execution_count": null,
   "metadata": {},
   "outputs": [],
   "source": [
    "  "
   ]
  },
  {
   "cell_type": "markdown",
   "metadata": {},
   "source": [
    "Some commands are followed by an argument in curly brackets. Take, for example, the command for the sigma sign: `$\\sum{x_i}$` which gives $\\sum{x_i}$.   \n",
    "\n",
    "Indices can be added to the big operator following the syntax explained above:\n",
    "\n",
    "`$$\\sum_{i=1}^n{x_i}$$` produces $$\\sum_{i=1}^n{x_i}$$"
   ]
  },
  {
   "cell_type": "markdown",
   "metadata": {},
   "source": [
    "  "
   ]
  },
  {
   "cell_type": "markdown",
   "metadata": {},
   "source": [
    "One could go on and write the formula of the arithmetic mean: the fraction of $\\sum{x_i}$ and $n$. The LaTeX command `$\\frac$` accepts two arguments for numerator and denominator.   \n",
    "\n",
    "`$$\\frac{\\sum_{i=1}^n{x_i}}{n}$$` produces  \n",
    "$$\\frac{\\sum_{i=1}^n{x_i}}{n}$$"
   ]
  },
  {
   "cell_type": "markdown",
   "metadata": {},
   "source": [
    "  "
   ]
  },
  {
   "cell_type": "markdown",
   "metadata": {},
   "source": [
    "The [University of Bergen](http://web.ift.uib.no/Teori/KURS/WRK/TeX/symALL.html) (and many others) provides an overwiev of a subset of LaTeX Math Symbols."
   ]
  },
  {
   "cell_type": "code",
   "execution_count": null,
   "metadata": {},
   "outputs": [],
   "source": [
    "  "
   ]
  },
  {
   "cell_type": "markdown",
   "metadata": {},
   "source": [
    "It should be noted that&mdash;for example&mdash;number set symbols are not included in this reference.  \n",
    "The command for generating number set symbols is `\\mathbb{}` accepting an argument like a capital letter for number sets, e.g.:\n",
    "\n",
    "The natural number set sign `$\\mathbb{N}$` gives $\\mathbb{N}$ "
   ]
  },
  {
   "cell_type": "code",
   "execution_count": null,
   "metadata": {},
   "outputs": [],
   "source": [
    "  "
   ]
  },
  {
   "cell_type": "markdown",
   "metadata": {},
   "source": [
    "### Escaping formatting language characters<a name=\"escaping\"></a>\n",
    "Im markdown, characters like `#` `[]` or `<>` indicate some formatting functions. Sometimes execution should be escaped and the characters should be treated as pure text. \n",
    "\n",
    "Escaping is achieved with backslash, e.g.\n",
    "\n",
    "`\\# Text`  \n",
    "\n",
    "prevents \"Text\" to be rendered as header:\n",
    "\n",
    "\\# Text"
   ]
  },
  {
   "cell_type": "code",
   "execution_count": null,
   "metadata": {},
   "outputs": [],
   "source": [
    "  "
   ]
  },
  {
   "cell_type": "markdown",
   "metadata": {},
   "source": [
    "## Embedding links, anchors and media<a name=\"links-head\"></a>"
   ]
  },
  {
   "cell_type": "markdown",
   "metadata": {},
   "source": [
    "### Auto links<a name=\"links\"></a>\n",
    "Jupyter Markdown automatically recognises URL and E-Mail-addresses.\n",
    "\n",
    "URLs open in a new tab of your browser:\n",
    "https://musikwissenschaft.phil-fak.uni-koeln.de/  \n",
    "\n",
    "E-Mails connect to your E-Mail software:\n",
    "someone@uni-koeln.de "
   ]
  },
  {
   "cell_type": "code",
   "execution_count": null,
   "metadata": {},
   "outputs": [],
   "source": []
  },
  {
   "cell_type": "markdown",
   "metadata": {},
   "source": [
    "### Inline links<a name=\"i-links\"></a>\n",
    "Inline links take the form `[Inline text](link)`.\n",
    "\n",
    "For example, here is the link to the website of the [Musicology Department, University of Cologne](https://musikwissenschaft.phil-fak.uni-koeln.de/)"
   ]
  },
  {
   "cell_type": "code",
   "execution_count": null,
   "metadata": {},
   "outputs": [],
   "source": []
  },
  {
   "cell_type": "markdown",
   "metadata": {},
   "source": [
    "### Anchors<a name=\"anchors\"></a>\n",
    "Contents of a given Jupyter Notebook can be linked by the use of anchors.  \n",
    "Anchors take the form `[Inline text](#anchor)` and a HTML target `<a name=\"anchor\"></a>`.\n",
    "\n",
    "For example, let's set the anchor `(#contents)` which allows to jump to the [contents](#contents) overwiew of this notebook.\n",
    "\n",
    "The target `<a name=\"contents\"></a>` is already set in the corresponding header of contents."
   ]
  },
  {
   "cell_type": "code",
   "execution_count": null,
   "metadata": {},
   "outputs": [],
   "source": []
  },
  {
   "cell_type": "markdown",
   "metadata": {},
   "source": [
    "### Images<a name=\"images\"></a>\n",
    "Images can be embedded in the markdown cell. Using Markdown syntax, this takes the form `![alt text](URL)`. \n",
    "\n",
    "Here, the Homercat of Nick Hengefeld (GitHub) is embedded using the code  \n",
    "`![Homercat](https://octodex.github.com/images/homercat.png)`\n",
    "\n",
    "![Homercat](https://octodex.github.com/images/homercat.png)"
   ]
  },
  {
   "cell_type": "code",
   "execution_count": null,
   "metadata": {},
   "outputs": [],
   "source": []
  },
  {
   "cell_type": "markdown",
   "metadata": {},
   "source": [
    "#### HTML alternative\n",
    "For image embedding, the HTML alternative `<img>` offers advantages: for example, the picture size can be adjusted.\n",
    "\n",
    "Here is the picture in small size:\n",
    "\n",
    "`<img src=\"https://octodex.github.com/images/homercat.png\" width=\"110\" height=\"110\">`\n",
    "\n",
    "<img src=\"https://octodex.github.com/images/homercat.png\" width=\"110\" height=\"110\">"
   ]
  },
  {
   "cell_type": "code",
   "execution_count": null,
   "metadata": {},
   "outputs": [],
   "source": []
  },
  {
   "cell_type": "markdown",
   "metadata": {},
   "source": [
    "#### Local source\n",
    "For embedding pictures uploaded in Jupyter, change the source appropriately.  \n",
    "\n",
    "Problems with correct path recognition can be avoided by moving the picture to the parent directory containing your active notebook.\n",
    "\n",
    "Doing so, the following will output a picture of Albertus Magnus by TV:  \n",
    "`<img src=\"img0014.jpg\" width=\"220\">`\n",
    "\n",
    "<img src=\"img0014.jpg\" width=\"220\">"
   ]
  },
  {
   "cell_type": "code",
   "execution_count": null,
   "metadata": {},
   "outputs": [],
   "source": []
  }
 ],
 "metadata": {
  "kernelspec": {
   "display_name": "Python 3",
   "language": "python",
   "name": "python3"
  },
  "language_info": {
   "codemirror_mode": {
    "name": "ipython",
    "version": 3
   },
   "file_extension": ".py",
   "mimetype": "text/x-python",
   "name": "python",
   "nbconvert_exporter": "python",
   "pygments_lexer": "ipython3",
   "version": "3.5.2"
  }
 },
 "nbformat": 4,
 "nbformat_minor": 2
}
