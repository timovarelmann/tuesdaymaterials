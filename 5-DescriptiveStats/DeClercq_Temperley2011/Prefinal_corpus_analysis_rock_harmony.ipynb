{
 "cells": [
  {
   "cell_type": "markdown",
   "metadata": {},
   "source": [
    "# Exercise: A corpus analysis of rock harmony\n",
    "Trevor de Clercq and David Temperley (2011). A corpus analysis of rock harmony. *Popular Music* 30(1), p. 47-70. \n",
    "\n",
    "This notebook provides an extension of the first example of Kris Shaffer's tutorial [Exploring musical data with R: An introduction to computational music analysis](https://pushpullfork.com/exploring-musical-data-with-r/), which introduces frequency distribution tables and related plots of chord instances in David Temperley's (dt) RS 5 x 20 corpus.\n",
    "\n",
    "Things to learn:\n",
    "- Description of nominal data\n",
    "- Data management: \n",
    " - for-loop\n",
    " - if-condition\n",
    " - the idea of vectorisation\n",
    "- Advanced graphical options\n",
    "\n",
    "Data required: resultsBySong.csv  \n",
    "Libraries required: none\n",
    "\n",
    "Date: 25-11-2018  \n",
    "Version: 0.2  \n",
    "Author: timovarelmann@uni-koeln.de  "
   ]
  },
  {
   "cell_type": "markdown",
   "metadata": {},
   "source": [
    "**List of Contents**\n",
    "\n",
    "- [Preparations](#prep)\n",
    "- [Overall frequency distribution of chromatic relative roots](#overall)\n",
    "- [Frequency distribution of pre- and post-tonics](#freqDist)\n",
    " - [Identification of pre- and post tonic chords in the dataset](#label)\n",
    "   - [Identification of post-tonics by for-loop and if-statements](#post)\n",
    "   - [Identification of pre-tonics by for-loop and if statements](#pre)\n",
    " - [Frequency distribution of pre- and post-tonics in terms of chromatic relative roots](#freq)\n",
    "- [Identification of antecedent and consequent chromatic relative roots](#alternative)\n",
    "- [Chord transition distribution table and vectorisation](#trans)\n",
    " - [Getting startet: Vectorisation](#vec)\n",
    " - [Frequency distribution of post-tonics](#freqvec)\n",
    " - [Frequencies of chord transitions in the whole corpus](#whole)\n",
    " - [Visualisation of the chord transition table by mosaic plot](#mosaic)\n",
    "- ..."
   ]
  },
  {
   "cell_type": "markdown",
   "metadata": {},
   "source": [
    "## Preparations <a name=\"prep\">"
   ]
  },
  {
   "cell_type": "markdown",
   "metadata": {},
   "source": [
    "- read the csv-dataset (which provides David Temperley's (dt) annotations) as dataframe\n",
    "- assign the dataframe to an object called `dt`\n",
    "- do some inspections on the dataframe"
   ]
  },
  {
   "cell_type": "code",
   "execution_count": 1,
   "metadata": {},
   "outputs": [],
   "source": [
    "dt <- read.csv('resultsBySong.csv')"
   ]
  },
  {
   "cell_type": "code",
   "execution_count": 2,
   "metadata": {},
   "outputs": [
    {
     "name": "stdout",
     "output_type": "stream",
     "text": [
      "     song start  end  RN relChr relDia tonic abs\n",
      "1 1999_dt   7.0  7.5 I64      0      1     5   5\n",
      "2 1999_dt   7.5  8.0 V11      7      5     5   0\n",
      "3 1999_dt   8.0  8.5 I64      0      1     5   5\n",
      "4 1999_dt   8.5  9.0 V11      7      5     5   0\n",
      "5 1999_dt   9.0  9.5 I64      0      1     5   5\n",
      "6 1999_dt   9.5 10.0 V11      7      5     5   0\n",
      "             song start  end   RN relChr relDia tonic abs\n",
      "9295 yesterday_dt  44.5 45.0  V/V      2      2     5   7\n",
      "9296 yesterday_dt  45.0 45.5   IV      5      4     5  10\n",
      "9297 yesterday_dt  45.5 46.5    I      0      1     5   5\n",
      "9298 yesterday_dt  46.5 47.0 V6/V      2      2     5   7\n",
      "9299 yesterday_dt  47.0 47.5   IV      5      4     5  10\n",
      "9300 yesterday_dt  47.5 48.0    I      0      1     5   5\n",
      "'data.frame':\t9300 obs. of  8 variables:\n",
      " $ song  : Factor w/ 99 levels \"1999_dt\",\"a_change_is_gonna_come_dt\",..: 1 1 1 1 1 1 1 1 1 1 ...\n",
      " $ start : num  7 7.5 8 8.5 9 9.5 10 10.5 11 11.5 ...\n",
      " $ end   : num  7.5 8 8.5 9 9.5 10 10.5 11 11.5 12 ...\n",
      " $ RN    : Factor w/ 88 levels \"bII\",\"bII7\",\"bIII\",..: 23 55 23 55 23 55 23 55 23 55 ...\n",
      " $ relChr: int  0 7 0 7 0 7 0 7 0 7 ...\n",
      " $ relDia: int  1 5 1 5 1 5 1 5 1 5 ...\n",
      " $ tonic : int  5 5 5 5 5 5 5 5 5 5 ...\n",
      " $ abs   : int  5 0 5 0 5 0 5 0 5 0 ...\n"
     ]
    }
   ],
   "source": [
    "print(head(dt))  # show the first six rows of the dataframe\n",
    "print(tail(dt))  # show the last six rows of the dataframe\n",
    "str(dt)          # show the structure of the dataframe"
   ]
  },
  {
   "cell_type": "markdown",
   "metadata": {},
   "source": [
    "To understand what these data represent, take a look at section „Analysing the harmony“ in DeClercq + Tempereley 2011, p.54-59. Note that this corpus includes the harmonic analyses of 99, not 100 songs: this is indicated by 99 factor levels of variable $ song.\n",
    "\n",
    "Here is the beginning of the chord list for Temperleys analysis of 'Hey Jude', cq. figure 3 in DeClercq + Temperley 2011.\n",
    "\n",
    "`dt[dt$song==\"hey_jude_dt\",]` returns only those rows of the data frame `dt` for which `dt$song == \"hey_jude_dt\"`.\n",
    "\n",
    "Argument `n = 20` of function `head()` specifies the number of rows of the header (default is 6). Because the default position of argument n is the second (see documentation), the argument name is not specified here (I just typed `20`)"
   ]
  },
  {
   "cell_type": "code",
   "execution_count": 3,
   "metadata": {},
   "outputs": [
    {
     "name": "stdout",
     "output_type": "stream",
     "text": [
      "            song start  end  RN relChr relDia tonic abs\n",
      "3039 hey_jude_dt   0.0  1.0   I      0      1     5   5\n",
      "3040 hey_jude_dt   1.0  3.0   V      7      5     5   0\n",
      "3041 hey_jude_dt   3.0  4.0   I      0      1     5   5\n",
      "3042 hey_jude_dt   4.0  5.0  IV      5      4     5  10\n",
      "3043 hey_jude_dt   5.0  6.0   I      0      1     5   5\n",
      "3044 hey_jude_dt   6.0  7.0   V      7      5     5   0\n",
      "3045 hey_jude_dt   7.0  9.0   I      0      1     5   5\n",
      "3046 hey_jude_dt   9.0 11.0   V      7      5     5   0\n",
      "3047 hey_jude_dt  11.0 12.0   I      0      1     5   5\n",
      "3048 hey_jude_dt  12.0 13.0  IV      5      4     5  10\n",
      "3049 hey_jude_dt  13.0 14.0   I      0      1     5   5\n",
      "3050 hey_jude_dt  14.0 15.0   V      7      5     5   0\n",
      "3051 hey_jude_dt  15.0 17.0   I      0      1     5   5\n",
      "3052 hey_jude_dt  17.0 17.5  IV      5      4     5  10\n",
      "3053 hey_jude_dt  17.5 18.0  I6      0      1     5   5\n",
      "3054 hey_jude_dt  18.0 18.5  ii      2      2     5   7\n",
      "3055 hey_jude_dt  18.5 19.0 vi6      9      6     5   2\n",
      "3056 hey_jude_dt  19.0 20.0  V6      7      5     5   0\n",
      "3057 hey_jude_dt  20.0 22.0   I      0      1     5   5\n",
      "3058 hey_jude_dt  22.0 22.5  IV      5      4     5  10\n"
     ]
    }
   ],
   "source": [
    "print(head(dt[dt$song==\"hey_jude_dt\",], 20))"
   ]
  },
  {
   "cell_type": "markdown",
   "metadata": {},
   "source": [
    "## Overall frequency distribution of chromatic relative roots<a name=\"overall\">"
   ]
  },
  {
   "cell_type": "markdown",
   "metadata": {},
   "source": [
    "As a first step, take a look at the frequency distribution table of the chromatic relative roots, the chromatic intervals of roots above the tonic (`dt$relChr`). The tonic takes value 0, dominant is 7, sub-dominant is 5, ..."
   ]
  },
  {
   "cell_type": "code",
   "execution_count": 4,
   "metadata": {},
   "outputs": [
    {
     "data": {
      "text/plain": [
       "\n",
       "   0    1    2    3    4    5    6    7    8    9   10   11 \n",
       "3065   53  329  232  191 2052   29 1461  386  681  786   35 "
      ]
     },
     "metadata": {},
     "output_type": "display_data"
    }
   ],
   "source": [
    "table(dt$relChr)"
   ]
  },
  {
   "cell_type": "markdown",
   "metadata": {},
   "source": [
    "You can now rank the chromatic relative roots by their frequency of occurence using `sort()`:"
   ]
  },
  {
   "cell_type": "code",
   "execution_count": 5,
   "metadata": {},
   "outputs": [
    {
     "data": {
      "text/plain": [
       "\n",
       "   6   11    1    4    3    2    8    9   10    7    5    0 \n",
       "  29   35   53  191  232  329  386  681  786 1461 2052 3065 "
      ]
     },
     "metadata": {},
     "output_type": "display_data"
    }
   ],
   "source": [
    "sort(table(dt$relChr))"
   ]
  },
  {
   "cell_type": "markdown",
   "metadata": {},
   "source": [
    "Or reverse it in order to return the frequencies of occurence from highest to lowest:"
   ]
  },
  {
   "cell_type": "code",
   "execution_count": 6,
   "metadata": {},
   "outputs": [
    {
     "data": {
      "text/plain": [
       "\n",
       "   0    5    7   10    9    8    2    3    4    1   11    6 \n",
       "3065 2052 1461  786  681  386  329  232  191   53   35   29 "
      ]
     },
     "metadata": {},
     "output_type": "display_data"
    }
   ],
   "source": [
    "rev(sort(table(dt$relChr)))"
   ]
  },
  {
   "cell_type": "markdown",
   "metadata": {},
   "source": [
    "This returns a barplot of the overall frequency distribution:"
   ]
  },
  {
   "cell_type": "code",
   "execution_count": 7,
   "metadata": {},
   "outputs": [
    {
     "data": {
      "image/png": "[encoded data removed]",
      "text/plain": [
       "Plot with title “Instances of Chromatic Relative Roots in the RS 5x20 Corpus (DT)”"
      ]
     },
     "metadata": {},
     "output_type": "display_data"
    }
   ],
   "source": [
    "barplot(table(dt$relChr),                                                         # take the fequency distribtion table as data for plotting\n",
    "        main=\"Instances of Chromatic Relative Roots in the RS 5x20 Corpus (DT)\",  # specify the main title as indicated by a character string\n",
    "        ylab=\"frequency\", xlab=\"chromatic relative root\",                         # make the plot literate by specification of y and x labels\n",
    "        ylim=c(0,3500),  las=1)                                                   # extra's': specification of y-axis limits and the orientation of axis labels"
   ]
  },
  {
   "cell_type": "markdown",
   "metadata": {},
   "source": [
    "Turn to DeClercq + Temperley 2011, page 60. The distribution table of chromatic relative roots in the RS 5x20 corpus shows:\n",
    "- frequencies of chrom. rel. roots\n",
    "- relative frequencies of chrom. rel. roots\n",
    "- number of songs that cover at least one of the chrom. rel. roots (39 instances of songs with root II means: in 39 of all songs there is at least one subdominant-parallel)\n",
    "\n",
    "We will construct a similar table here. Remember that   \n",
    "\"Root I\" in the original table equals `dt$relChr == 0`,   \n",
    "\"Root bII\" equals `dt$relChr == 1`, ...   \n",
    "\"Root VII\" equals `dt$relChr == 11`"
   ]
  },
  {
   "cell_type": "markdown",
   "metadata": {},
   "source": [
    "For column \"Instances\", here's the frequency distribution table again. For columnar orientation of tabular data, use function `cbind()`"
   ]
  },
  {
   "cell_type": "code",
   "execution_count": 8,
   "metadata": {},
   "outputs": [
    {
     "name": "stdout",
     "output_type": "stream",
     "text": [
      "   [,1]\n",
      "0  3065\n",
      "1    53\n",
      "2   329\n",
      "3   232\n",
      "4   191\n",
      "5  2052\n",
      "6    29\n",
      "7  1461\n",
      "8   386\n",
      "9   681\n",
      "10  786\n",
      "11   35\n"
     ]
    }
   ],
   "source": [
    "print(cbind(table(dt$relChr)))"
   ]
  },
  {
   "cell_type": "markdown",
   "metadata": {},
   "source": [
    "Assign this matrix to an object called `instances`."
   ]
  },
  {
   "cell_type": "code",
   "execution_count": 9,
   "metadata": {},
   "outputs": [],
   "source": [
    "instances <- cbind(table(dt$relChr))"
   ]
  },
  {
   "cell_type": "markdown",
   "metadata": {},
   "source": [
    "For column \"Proportion of total\", create a table of relative frequencies. This can be done by use of the additional function `prop.table()`, which converts the absolute frequencies in the table to relative frequencies."
   ]
  },
  {
   "cell_type": "code",
   "execution_count": 10,
   "metadata": {},
   "outputs": [
    {
     "name": "stdout",
     "output_type": "stream",
     "text": [
      "          [,1]\n",
      "0  0.329569892\n",
      "1  0.005698925\n",
      "2  0.035376344\n",
      "3  0.024946237\n",
      "4  0.020537634\n",
      "5  0.220645161\n",
      "6  0.003118280\n",
      "7  0.157096774\n",
      "8  0.041505376\n",
      "9  0.073225806\n",
      "10 0.084516129\n",
      "11 0.003763441\n"
     ]
    }
   ],
   "source": [
    "print(prop.table(cbind(table(dt$relChr))))"
   ]
  },
  {
   "cell_type": "markdown",
   "metadata": {},
   "source": [
    "Rounding these numbers to three decimal places is provided by additional `round()`:"
   ]
  },
  {
   "cell_type": "code",
   "execution_count": 11,
   "metadata": {},
   "outputs": [
    {
     "name": "stdout",
     "output_type": "stream",
     "text": [
      "    [,1]\n",
      "0  0.330\n",
      "1  0.006\n",
      "2  0.035\n",
      "3  0.025\n",
      "4  0.021\n",
      "5  0.221\n",
      "6  0.003\n",
      "7  0.157\n",
      "8  0.042\n",
      "9  0.073\n",
      "10 0.085\n",
      "11 0.004\n"
     ]
    }
   ],
   "source": [
    "print(round(prop.table(cbind(table(dt$relChr))),3))"
   ]
  },
  {
   "cell_type": "code",
   "execution_count": 12,
   "metadata": {},
   "outputs": [],
   "source": [
    "prop <- round(prop.table(cbind(table(dt$relChr))),3)"
   ]
  },
  {
   "cell_type": "markdown",
   "metadata": {},
   "source": [
    "Creation of column \"Song instances\" is a bit more difficult.    \n",
    "As a first step to understand the strategy, start with a subset of dataframe `dt` consisting of only those rows for which `dt$relChr == 1`. \n",
    "\n",
    "In other words, here are all occurances of the relative chromatic root 1 (i.e. dimished subdominant parallel bII) within the corpus."
   ]
  },
  {
   "cell_type": "code",
   "execution_count": 13,
   "metadata": {},
   "outputs": [
    {
     "name": "stdout",
     "output_type": "stream",
     "text": [
      "                           song  start    end   RN relChr relDia tonic abs\n",
      "2898        heartbreak_hotel_dt  48.25  48.50 bII7      1      2     4   5\n",
      "3535                in_bloom_dt   5.50   5.75  bII      1      2    10  11\n",
      "3540                in_bloom_dt   7.50   7.75  bII      1      2    10  11\n",
      "3545                in_bloom_dt   9.50   9.75  bII      1      2    10  11\n",
      "3550                in_bloom_dt  11.50  11.75  bII      1      2    10  11\n",
      "3555                in_bloom_dt  13.50  13.75  bII      1      2    10  11\n",
      "3560                in_bloom_dt  15.50  15.75  bII      1      2    10  11\n",
      "3597                in_bloom_dt  33.50  33.75  bII      1      2    10  11\n",
      "3602                in_bloom_dt  35.50  35.75  bII      1      2    10  11\n",
      "3607                in_bloom_dt  37.50  37.75  bII      1      2    10  11\n",
      "3612                in_bloom_dt  39.50  39.75  bII      1      2    10  11\n",
      "3649                in_bloom_dt  57.50  57.75  bII      1      2    10  11\n",
      "3654                in_bloom_dt  59.50  59.75  bII      1      2    10  11\n",
      "3659                in_bloom_dt  61.50  61.75  bII      1      2    10  11\n",
      "3664                in_bloom_dt  63.50  63.75  bII      1      2    10  11\n",
      "5027     living_for_the_city_dt  34.00  35.00  bII      1      2     6   7\n",
      "5039     living_for_the_city_dt  69.00  70.00  bII      1      2     6   7\n",
      "5045     living_for_the_city_dt 106.00 107.00  bII      1      2     6   7\n",
      "5057     living_for_the_city_dt 142.00 143.00  bII      1      2     6   7\n",
      "5063     living_for_the_city_dt 151.00 152.00  bII      1      2     6   7\n",
      "5069     living_for_the_city_dt 160.00 169.00  bII      1      2     6   7\n",
      "5071          london_calling_dt   1.00   2.00 bII7      1      2     4   5\n",
      "5073          london_calling_dt   3.00   4.00 bII7      1      2     4   5\n",
      "5075          london_calling_dt   5.00   6.00 bII7      1      2     4   5\n",
      "5077          london_calling_dt   7.00   8.00 bII7      1      2     4   5\n",
      "5079          london_calling_dt   9.00  10.00 bII7      1      2     4   5\n",
      "5081          london_calling_dt  11.00  12.00 bII7      1      2     4   5\n",
      "5083          london_calling_dt  13.00  14.00 bII7      1      2     4   5\n",
      "5087          london_calling_dt  17.00  18.00 bII7      1      2     4   5\n",
      "5091          london_calling_dt  21.00  22.00 bII7      1      2     4   5\n",
      "5095          london_calling_dt  25.00  26.00 bII7      1      2     4   5\n",
      "5107          london_calling_dt  38.00  39.00 bII7      1      2     4   5\n",
      "5111          london_calling_dt  42.00  43.00 bII7      1      2     4   5\n",
      "5115          london_calling_dt  46.00  47.00 bII7      1      2     4   5\n",
      "5119          london_calling_dt  50.00  51.00 bII7      1      2     4   5\n",
      "5131          london_calling_dt  63.00  64.00 bII7      1      2     4   5\n",
      "5135          london_calling_dt  67.00  68.00 bII7      1      2     4   5\n",
      "5139          london_calling_dt  71.00  72.00 bII7      1      2     4   5\n",
      "5143          london_calling_dt  75.00  76.00 bII7      1      2     4   5\n",
      "5155          london_calling_dt  88.00  89.00 bII7      1      2     4   5\n",
      "5157          london_calling_dt  90.00  91.00 bII7      1      2     4   5\n",
      "5159          london_calling_dt  92.00  93.00 bII7      1      2     4   5\n",
      "5161          london_calling_dt  94.00  95.00 bII7      1      2     4   5\n",
      "5163          london_calling_dt  96.00  97.00 bII7      1      2     4   5\n",
      "5165          london_calling_dt  98.00  99.00 bII7      1      2     4   5\n",
      "5167          london_calling_dt 100.00 101.00 bII7      1      2     4   5\n",
      "5169          london_calling_dt 102.00 103.00 bII7      1      2     4   5\n",
      "5171          london_calling_dt 104.00 105.00 bII7      1      2     4   5\n",
      "5173          london_calling_dt 106.00 107.00 bII7      1      2     4   5\n",
      "7251 smells_like_teen_spirit_dt  44.50  45.00  bII      1      2     5   6\n",
      "7255 smells_like_teen_spirit_dt  46.50  47.00  bII      1      2     5   6\n",
      "7323 smells_like_teen_spirit_dt  80.50  81.00  bII      1      2     5   6\n",
      "7327 smells_like_teen_spirit_dt  82.50  83.00  bII      1      2     5   6\n"
     ]
    }
   ],
   "source": [
    "print ( dt[dt$relChr == 1,] )"
   ]
  },
  {
   "cell_type": "markdown",
   "metadata": {},
   "source": [
    "Now, `dt[dt$relChr == 1,1]` returns only column 1 of that subset (i.e. the song names) as a vector:"
   ]
  },
  {
   "cell_type": "code",
   "execution_count": 14,
   "metadata": {},
   "outputs": [
    {
     "name": "stdout",
     "output_type": "stream",
     "text": [
      " [1] heartbreak_hotel_dt        in_bloom_dt               \n",
      " [3] in_bloom_dt                in_bloom_dt               \n",
      " [5] in_bloom_dt                in_bloom_dt               \n",
      " [7] in_bloom_dt                in_bloom_dt               \n",
      " [9] in_bloom_dt                in_bloom_dt               \n",
      "[11] in_bloom_dt                in_bloom_dt               \n",
      "[13] in_bloom_dt                in_bloom_dt               \n",
      "[15] in_bloom_dt                living_for_the_city_dt    \n",
      "[17] living_for_the_city_dt     living_for_the_city_dt    \n",
      "[19] living_for_the_city_dt     living_for_the_city_dt    \n",
      "[21] living_for_the_city_dt     london_calling_dt         \n",
      "[23] london_calling_dt          london_calling_dt         \n",
      "[25] london_calling_dt          london_calling_dt         \n",
      "[27] london_calling_dt          london_calling_dt         \n",
      "[29] london_calling_dt          london_calling_dt         \n",
      "[31] london_calling_dt          london_calling_dt         \n",
      "[33] london_calling_dt          london_calling_dt         \n",
      "[35] london_calling_dt          london_calling_dt         \n",
      "[37] london_calling_dt          london_calling_dt         \n",
      "[39] london_calling_dt          london_calling_dt         \n",
      "[41] london_calling_dt          london_calling_dt         \n",
      "[43] london_calling_dt          london_calling_dt         \n",
      "[45] london_calling_dt          london_calling_dt         \n",
      "[47] london_calling_dt          london_calling_dt         \n",
      "[49] london_calling_dt          smells_like_teen_spirit_dt\n",
      "[51] smells_like_teen_spirit_dt smells_like_teen_spirit_dt\n",
      "[53] smells_like_teen_spirit_dt\n",
      "99 Levels: 1999_dt a_change_is_gonna_come_dt ... yesterday_dt\n"
     ]
    }
   ],
   "source": [
    "print( dt[dt$relChr == 1, 1] )"
   ]
  },
  {
   "cell_type": "markdown",
   "metadata": {},
   "source": [
    "Function `unique()`extracts unique elements of a vector.    \n",
    "\n",
    "Use that function here to return all unique names of songs in which at least one dimished subdominant parralel occurs:"
   ]
  },
  {
   "cell_type": "code",
   "execution_count": 15,
   "metadata": {},
   "outputs": [
    {
     "name": "stdout",
     "output_type": "stream",
     "text": [
      "[1] heartbreak_hotel_dt        in_bloom_dt               \n",
      "[3] living_for_the_city_dt     london_calling_dt         \n",
      "[5] smells_like_teen_spirit_dt\n",
      "99 Levels: 1999_dt a_change_is_gonna_come_dt ... yesterday_dt\n"
     ]
    }
   ],
   "source": [
    "print (unique(dt[dt$relChr == 1, 1]) )"
   ]
  },
  {
   "cell_type": "markdown",
   "metadata": {},
   "source": [
    "Finally, count the elements of that vector by computing its length:"
   ]
  },
  {
   "cell_type": "code",
   "execution_count": 16,
   "metadata": {},
   "outputs": [
    {
     "data": {
      "text/html": [
       "5"
      ],
      "text/latex": [
       "5"
      ],
      "text/markdown": [
       "5"
      ],
      "text/plain": [
       "[1] 5"
      ]
     },
     "metadata": {},
     "output_type": "display_data"
    }
   ],
   "source": [
    "length(unique(dt[dt$relChr == 1, 1]))"
   ]
  },
  {
   "cell_type": "markdown",
   "metadata": {},
   "source": [
    "Thus, 5 is the number of songs in which at least one diminished subdominant parallel occurs.\n",
    "\n",
    "To make the code more flexible, use a variable that should index the chromatic relative roots, let's call it `i`."
   ]
  },
  {
   "cell_type": "code",
   "execution_count": 17,
   "metadata": {},
   "outputs": [
    {
     "data": {
      "text/html": [
       "5"
      ],
      "text/latex": [
       "5"
      ],
      "text/markdown": [
       "5"
      ],
      "text/plain": [
       "[1] 5"
      ]
     },
     "metadata": {},
     "output_type": "display_data"
    }
   ],
   "source": [
    "i = 1\n",
    "length(unique(dt[dt$relChr == i, 1]))"
   ]
  },
  {
   "cell_type": "markdown",
   "metadata": {},
   "source": [
    "Following this strategy, song instances can now be computed *for all chromatic relative roots 0 to 11*. \n",
    "\n",
    "This is translated to the R language as follows:"
   ]
  },
  {
   "cell_type": "code",
   "execution_count": 18,
   "metadata": {},
   "outputs": [],
   "source": [
    "for (i in 0:11) {\n",
    "    length(unique(dt[dt$relChr == i, 1]))\n",
    "}"
   ]
  },
  {
   "cell_type": "markdown",
   "metadata": {},
   "source": [
    "There is no output here because all song instances have been computed within the for-loop (internally). Use `print()` as instruction to return a distinct output for all iterations of i:"
   ]
  },
  {
   "cell_type": "code",
   "execution_count": 19,
   "metadata": {},
   "outputs": [
    {
     "name": "stdout",
     "output_type": "stream",
     "text": [
      "[1] 99\n",
      "[1] 5\n",
      "[1] 38\n",
      "[1] 18\n",
      "[1] 24\n",
      "[1] 89\n",
      "[1] 5\n",
      "[1] 87\n",
      "[1] 21\n",
      "[1] 40\n",
      "[1] 37\n",
      "[1] 7\n"
     ]
    }
   ],
   "source": [
    "for (i in 0:11) {\n",
    "    print(length(unique(dt[dt$relChr == i, 1])))\n",
    "}"
   ]
  },
  {
   "cell_type": "markdown",
   "metadata": {},
   "source": [
    "Or assign the output to an object:"
   ]
  },
  {
   "cell_type": "code",
   "execution_count": 20,
   "metadata": {},
   "outputs": [],
   "source": [
    "for (i in 0:11) {\n",
    "    song.inst <- length(unique(dt[dt$relChr == i, 1]))\n",
    "}"
   ]
  },
  {
   "cell_type": "code",
   "execution_count": 21,
   "metadata": {},
   "outputs": [
    {
     "name": "stdout",
     "output_type": "stream",
     "text": [
      "[1] 7\n"
     ]
    }
   ],
   "source": [
    "print(song.inst)"
   ]
  },
  {
   "cell_type": "markdown",
   "metadata": {},
   "source": [
    "For every iteration of i over the sequence 0 to 11, object song.inst has been changed. For `i = 11`object `song.inst` has been overwritten for the last time, thus the resulting outcome of that loop is 7.\n",
    "\n",
    "To create a resulating vector whose elements are the outcomes of each for-loop iteration, combine the result of a current interation with the results of the preceded ones using `c()`:  \n",
    "`song.inst <- c(song.inst, length(unique(dt[dt$relChr == i, 1])))`.\n",
    "\n",
    "Note that before you start the for-loop, you need an (empty) vector song.inst in order to combine it with the outcome in the first iteration of the loop."
   ]
  },
  {
   "cell_type": "code",
   "execution_count": 22,
   "metadata": {},
   "outputs": [
    {
     "name": "stdout",
     "output_type": "stream",
     "text": [
      " [1] 99  5 38 18 24 89  5 87 21 40 37  7\n"
     ]
    }
   ],
   "source": [
    "song.inst <- c()\n",
    "for (i in 0:11) {\n",
    "    song.inst <- c(song.inst,length(unique(dt[dt$relChr == i, 1])))\n",
    "}\n",
    "print(song.inst)"
   ]
  },
  {
   "cell_type": "markdown",
   "metadata": {},
   "source": [
    "This is the resulting vector of song instances. \n",
    "\n",
    "As a last step, use `cbind()` for columnar bindung of the three result-vectors"
   ]
  },
  {
   "cell_type": "code",
   "execution_count": 23,
   "metadata": {},
   "outputs": [],
   "source": [
    "distr_table <- cbind(instances, prop, song.inst)"
   ]
  },
  {
   "cell_type": "markdown",
   "metadata": {},
   "source": [
    "and define the column names:"
   ]
  },
  {
   "cell_type": "code",
   "execution_count": 24,
   "metadata": {},
   "outputs": [],
   "source": [
    "colnames(distr_table) <- c(\"Instances\", \"Proportion of total\", \"Song instances\")"
   ]
  },
  {
   "cell_type": "code",
   "execution_count": 25,
   "metadata": {},
   "outputs": [
    {
     "name": "stdout",
     "output_type": "stream",
     "text": [
      "   Instances Proportion of total Song instances\n",
      "0       3065               0.330             99\n",
      "1         53               0.006              5\n",
      "2        329               0.035             38\n",
      "3        232               0.025             18\n",
      "4        191               0.021             24\n",
      "5       2052               0.221             89\n",
      "6         29               0.003              5\n",
      "7       1461               0.157             87\n",
      "8        386               0.042             21\n",
      "9        681               0.073             40\n",
      "10       786               0.085             37\n",
      "11        35               0.004              7\n"
     ]
    }
   ],
   "source": [
    "print(distr_table)"
   ]
  },
  {
   "cell_type": "markdown",
   "metadata": {},
   "source": [
    "## Frequency distribution of pre- and post-tonics<a name=\"freqDist\">\n",
    "Until now, only the overall destribution of chromatic relative roots has been calculated. Let's now turn to chord progressions within the dataset. \n",
    "\n",
    "The first aim is to calculate the frequency of occurrence of pre- and post-tonic chords in terms of chromatic relative roots."
   ]
  },
  {
   "cell_type": "markdown",
   "metadata": {},
   "source": [
    "### Identification of pre- and post tonic chords in the dataset<a name=\"label\">\n",
    "\n",
    "This is an example of how to create labels based on criteria which have to be met. The criteria are: pre-tonic and post-tonic.\n",
    "\n",
    "Expand the dataframe with two columns called pre and post that will finally contain that information. In the first place, fill thema with NAs or empty character strings:"
   ]
  },
  {
   "cell_type": "code",
   "execution_count": 26,
   "metadata": {},
   "outputs": [],
   "source": [
    "dt <- read.csv('resultsBySong.csv')\n",
    "dt$pre <- \"\"\n",
    "dt$post <- \"\""
   ]
  },
  {
   "cell_type": "markdown",
   "metadata": {},
   "source": [
    "Take a look at the header:"
   ]
  },
  {
   "cell_type": "code",
   "execution_count": 27,
   "metadata": {},
   "outputs": [
    {
     "name": "stdout",
     "output_type": "stream",
     "text": [
      "     song start  end  RN relChr relDia tonic abs pre post\n",
      "1 1999_dt   7.0  7.5 I64      0      1     5   5         \n",
      "2 1999_dt   7.5  8.0 V11      7      5     5   0         \n",
      "3 1999_dt   8.0  8.5 I64      0      1     5   5         \n",
      "4 1999_dt   8.5  9.0 V11      7      5     5   0         \n",
      "5 1999_dt   9.0  9.5 I64      0      1     5   5         \n",
      "6 1999_dt   9.5 10.0 V11      7      5     5   0         \n"
     ]
    }
   ],
   "source": [
    "print(head(dt))"
   ]
  },
  {
   "cell_type": "markdown",
   "metadata": {},
   "source": [
    "#### Identification of post-tonics by for-loop and if-statement<a name=\"post\">\n",
    "\n",
    "For identification of post-tonic chords, one has first to identify the tonics.\n",
    "\n",
    "Within the corpus, tonics are indicated by:\n",
    "- Roman numeral labels `I` (major), `i` (minor) and inversions like `I64`\n",
    "- Diatonic relative root `1`: In `dt$relDia`, number one always and exclusively indicates the tonic, no matter whether it is actually minor, major, or an inversion.\n",
    "- Chromatic relative root `0`: In `dt$relChr`, number zero always and exclusively indicates the tonic, no matter whether it is actually minor, major, or an inversion.\n",
    "Here, we will take the chromatic relative root `0` as an indicator of tonics.\n",
    "\n",
    "`dt$relChr == 0` gives a logical vector which elements are TRUE if the condition \"equals zero\" is met. Compare:"
   ]
  },
  {
   "cell_type": "code",
   "execution_count": 28,
   "metadata": {},
   "outputs": [
    {
     "name": "stdout",
     "output_type": "stream",
     "text": [
      "[1] 0 7 0 7 0 7\n",
      "[1]  TRUE FALSE  TRUE FALSE  TRUE FALSE\n"
     ]
    }
   ],
   "source": [
    "print(head(dt$relChr))      # Head of vector dt$relChr\n",
    "print(head(dt$relChr == 0)) # Head of the logical vector"
   ]
  },
  {
   "cell_type": "markdown",
   "metadata": {},
   "source": [
    "Take a look at the first row of the data frame. In the song \"1999\", a tonic occurs in the first half of measure 7, which is row 1. As such, a post-tonic occurs in row 2 (here, it's the dominant).  \n",
    "Thus, row 2 should be labeled as post-tonic:"
   ]
  },
  {
   "cell_type": "code",
   "execution_count": 29,
   "metadata": {},
   "outputs": [
    {
     "name": "stdout",
     "output_type": "stream",
     "text": [
      "     song start end  RN relChr relDia tonic abs pre post\n",
      "1 1999_dt   7.0 7.5 I64      0      1     5   5         \n",
      "2 1999_dt   7.5 8.0 V11      7      5     5   0         \n"
     ]
    }
   ],
   "source": [
    "print(head(dt,2))"
   ]
  },
  {
   "cell_type": "markdown",
   "metadata": {},
   "source": [
    "Now take a variable that should index the row-numbers, let's call it `i`. \n",
    "\n",
    "In row 2, thus for `i=2`, we may add a label called \"post\" in column dt$post:\n",
    "\n",
    "`dt$post[i] <- \"post\"`\n",
    "\n",
    "because in the row before, the following condition is met:\n",
    "\n",
    "`dt$relChr[i-1] == 0`"
   ]
  },
  {
   "cell_type": "markdown",
   "metadata": {},
   "source": [
    "We can translate this to an if-statement\n",
    "\n",
    "**if** `dt$relChr[i-1] == 0`   \n",
    "**then** `dt$post[i] <- \"post\"`\n",
    "   \n",
    "which is coded in R:\n",
    "\n",
    "`if (dt$relChr[i-1] == 0) {`  \n",
    "&nbsp;&nbsp;&nbsp;`dt$post[i] <- \"post\"`  \n",
    "&nbsp;&nbsp;&nbsp;`}`"
   ]
  },
  {
   "cell_type": "markdown",
   "metadata": {},
   "source": [
    "We need to test the if-condition in all rows from row 2 to the last row. As such, the if-condition will be build into a for-loop which specifies the iteration of index i over that sequence of rows:\n",
    "\n",
    "`for (i in 2:nrow(dt)) {`  \n",
    "&nbsp;&nbsp;&nbsp;`if-condition`  \n",
    "`}`"
   ]
  },
  {
   "cell_type": "code",
   "execution_count": 30,
   "metadata": {},
   "outputs": [],
   "source": [
    "for (i in 2:nrow(dt)) {\n",
    "    if (dt$relChr[i-1] == 0)  {\n",
    "        dt$post[i] <- \"post\"\n",
    "    }\n",
    "}"
   ]
  },
  {
   "cell_type": "markdown",
   "metadata": {},
   "source": [
    "The header looks fine:"
   ]
  },
  {
   "cell_type": "code",
   "execution_count": 31,
   "metadata": {},
   "outputs": [
    {
     "name": "stdout",
     "output_type": "stream",
     "text": [
      "     song start  end  RN relChr relDia tonic abs pre post\n",
      "1 1999_dt   7.0  7.5 I64      0      1     5   5         \n",
      "2 1999_dt   7.5  8.0 V11      7      5     5   0     post\n",
      "3 1999_dt   8.0  8.5 I64      0      1     5   5         \n",
      "4 1999_dt   8.5  9.0 V11      7      5     5   0     post\n",
      "5 1999_dt   9.0  9.5 I64      0      1     5   5         \n",
      "6 1999_dt   9.5 10.0 V11      7      5     5   0     post\n"
     ]
    }
   ],
   "source": [
    "print(head(dt))"
   ]
  },
  {
   "cell_type": "markdown",
   "metadata": {},
   "source": [
    "Let's take a look to some other rows in the dataframe, say, at rows 340 to 350:"
   ]
  },
  {
   "cell_type": "code",
   "execution_count": 32,
   "metadata": {},
   "outputs": [
    {
     "name": "stdout",
     "output_type": "stream",
     "text": [
      "                song  start    end   RN relChr relDia tonic abs pre post\n",
      "340          1999_dt 181.50 182.00 bVII     10      7     5   3     post\n",
      "341          1999_dt 182.00 182.25    I      0      1     5   5         \n",
      "342          1999_dt 182.25 182.50 bVII     10      7     5   3     post\n",
      "343          1999_dt 182.50 183.00    I      0      1     5   5         \n",
      "344 all_apologies_dt   0.00  24.00    I      0      1     1   1     post\n",
      "345 all_apologies_dt  24.00  30.00   IV      5      4     1   6     post\n",
      "346 all_apologies_dt  30.00  34.00    V      7      5     1   8         \n",
      "347 all_apologies_dt  34.00  50.00    I      0      1     1   1         \n",
      "348 all_apologies_dt  50.00  56.00   IV      5      4     1   6     post\n",
      "349 all_apologies_dt  56.00  64.00    V      7      5     1   8         \n",
      "350 all_apologies_dt  64.00 108.00    I      0      1     1   1         \n"
     ]
    }
   ],
   "source": [
    "print(dt[340:350,])"
   ]
  },
  {
   "cell_type": "markdown",
   "metadata": {},
   "source": [
    "Row 343 gives information about the last chord of the song *1999*, which is the tonic.    \n",
    "Row 344 gives information about the first chord of the song *All apologies*.\n",
    "\n",
    "Our code did not consider this case: the first chord of the song *All apologies* has been classified as a post-tonic ... this is definitely wrong as the first chord of a song cannot be post tonic.\n",
    "\n",
    "As such, we need a second condition which prevents first chords of a song to be erroneously labelled as post-tonic. Song name `dt$song[i-1]` must equal `dt$song[i]`.\n",
    "\n",
    "Only if both conditions `if ((dt$relChr[i-1] == 0) & (dt$song[i-1]==dt$song[i]))` are met, the chord in row i will be anotated as post-tonic."
   ]
  },
  {
   "cell_type": "code",
   "execution_count": 33,
   "metadata": {},
   "outputs": [],
   "source": [
    "dt$post <- \"\"\n",
    "\n",
    "for (i in 2:nrow(dt)) {\n",
    "    if ((dt$relChr[i-1] == 0) & (dt$song[i-1]==dt$song[i]))  {\n",
    "        dt$post[i] <- \"post\"\n",
    "    }\n",
    "}"
   ]
  },
  {
   "cell_type": "code",
   "execution_count": 34,
   "metadata": {},
   "outputs": [
    {
     "name": "stdout",
     "output_type": "stream",
     "text": [
      "                song  start    end   RN relChr relDia tonic abs pre post\n",
      "340          1999_dt 181.50 182.00 bVII     10      7     5   3     post\n",
      "341          1999_dt 182.00 182.25    I      0      1     5   5         \n",
      "342          1999_dt 182.25 182.50 bVII     10      7     5   3     post\n",
      "343          1999_dt 182.50 183.00    I      0      1     5   5         \n",
      "344 all_apologies_dt   0.00  24.00    I      0      1     1   1         \n",
      "345 all_apologies_dt  24.00  30.00   IV      5      4     1   6     post\n",
      "346 all_apologies_dt  30.00  34.00    V      7      5     1   8         \n",
      "347 all_apologies_dt  34.00  50.00    I      0      1     1   1         \n",
      "348 all_apologies_dt  50.00  56.00   IV      5      4     1   6     post\n",
      "349 all_apologies_dt  56.00  64.00    V      7      5     1   8         \n",
      "350 all_apologies_dt  64.00 108.00    I      0      1     1   1         \n"
     ]
    }
   ],
   "source": [
    "print(dt[340:350,])"
   ]
  },
  {
   "cell_type": "markdown",
   "metadata": {},
   "source": [
    "It worked!"
   ]
  },
  {
   "cell_type": "markdown",
   "metadata": {},
   "source": [
    "#### Identification of pre-tonics by for-loop and if-statement<a name=\"pre\">\n",
    "\n",
    "The coding strategy to identify and label the pre-tonics is similar:"
   ]
  },
  {
   "cell_type": "code",
   "execution_count": 35,
   "metadata": {},
   "outputs": [],
   "source": [
    "for (i in 2:nrow(dt)) {\n",
    "    if((dt$relChr[i] == 0) & (dt$song[i-1]==dt$song[i])) {\n",
    "        dt$pre[i-1] <- \"pre1\"\n",
    "    }\n",
    "}"
   ]
  },
  {
   "cell_type": "code",
   "execution_count": 36,
   "metadata": {},
   "outputs": [
    {
     "name": "stdout",
     "output_type": "stream",
     "text": [
      "                song  start    end   RN relChr relDia tonic abs  pre post\n",
      "340          1999_dt 181.50 182.00 bVII     10      7     5   3 pre1 post\n",
      "341          1999_dt 182.00 182.25    I      0      1     5   5          \n",
      "342          1999_dt 182.25 182.50 bVII     10      7     5   3 pre1 post\n",
      "343          1999_dt 182.50 183.00    I      0      1     5   5          \n",
      "344 all_apologies_dt   0.00  24.00    I      0      1     1   1          \n",
      "345 all_apologies_dt  24.00  30.00   IV      5      4     1   6      post\n",
      "346 all_apologies_dt  30.00  34.00    V      7      5     1   8 pre1     \n",
      "347 all_apologies_dt  34.00  50.00    I      0      1     1   1          \n",
      "348 all_apologies_dt  50.00  56.00   IV      5      4     1   6      post\n",
      "349 all_apologies_dt  56.00  64.00    V      7      5     1   8 pre1     \n",
      "350 all_apologies_dt  64.00 108.00    I      0      1     1   1          \n"
     ]
    }
   ],
   "source": [
    "print(dt[340:350,])"
   ]
  },
  {
   "cell_type": "markdown",
   "metadata": {},
   "source": [
    "### Frequency distribution of pre- and post-tonics in terms of chromatic relative roots<a name=\"freq\">\n",
    "\n",
    "The functions used here for calculating and plotting absolute and relative frequencies of pre- and post-tonics will be the same as for the overall distribution table in the chapters before.\n",
    "\n",
    "The only difference is that not all chromatic relative roots (the fifth column) within the corpus will be considered, but only those that precede the tonic ( `dt[dt$pre == \"pre1\",5]` ) or follow the tonic ( `dt[dt$post == \"post\",5]` ).\n",
    "\n",
    "Here is the tail of the subset data frame of pre-tonics whose fith column relChr will be considered for the distribution tables:"
   ]
  },
  {
   "cell_type": "code",
   "execution_count": 37,
   "metadata": {},
   "outputs": [
    {
     "data": {
      "text/html": [
       "<table>\n",
       "<thead><tr><th></th><th scope=col>song</th><th scope=col>start</th><th scope=col>end</th><th scope=col>RN</th><th scope=col>relChr</th><th scope=col>relDia</th><th scope=col>tonic</th><th scope=col>abs</th><th scope=col>pre</th><th scope=col>post</th></tr></thead>\n",
       "<tbody>\n",
       "\t<tr><th scope=row>9274</th><td>yesterday_dt</td><td>30.0        </td><td>30.5        </td><td>IV          </td><td>5           </td><td>4           </td><td>5           </td><td>10          </td><td>pre1        </td><td>            </td></tr>\n",
       "\t<tr><th scope=row>9280</th><td>yesterday_dt</td><td>33.5        </td><td>34.0        </td><td>V           </td><td>7           </td><td>5           </td><td>5           </td><td> 0          </td><td>pre1        </td><td>            </td></tr>\n",
       "\t<tr><th scope=row>9286</th><td>yesterday_dt</td><td>37.5        </td><td>38.0        </td><td>V           </td><td>7           </td><td>5           </td><td>5           </td><td> 0          </td><td>pre1        </td><td>            </td></tr>\n",
       "\t<tr><th scope=row>9292</th><td>yesterday_dt</td><td>42.5        </td><td>43.0        </td><td>V           </td><td>7           </td><td>5           </td><td>5           </td><td> 0          </td><td>pre1        </td><td>            </td></tr>\n",
       "\t<tr><th scope=row>9296</th><td>yesterday_dt</td><td>45.0        </td><td>45.5        </td><td>IV          </td><td>5           </td><td>4           </td><td>5           </td><td>10          </td><td>pre1        </td><td>            </td></tr>\n",
       "\t<tr><th scope=row>9299</th><td>yesterday_dt</td><td>47.0        </td><td>47.5        </td><td>IV          </td><td>5           </td><td>4           </td><td>5           </td><td>10          </td><td>pre1        </td><td>            </td></tr>\n",
       "</tbody>\n",
       "</table>\n"
      ],
      "text/latex": [
       "\\begin{tabular}{r|llllllllll}\n",
       "  & song & start & end & RN & relChr & relDia & tonic & abs & pre & post\\\\\n",
       "\\hline\n",
       "\t9274 & yesterday\\_dt & 30.0           & 30.5           & IV             & 5              & 4              & 5              & 10             & pre1           &               \\\\\n",
       "\t9280 & yesterday\\_dt & 33.5           & 34.0           & V              & 7              & 5              & 5              &  0             & pre1           &               \\\\\n",
       "\t9286 & yesterday\\_dt & 37.5           & 38.0           & V              & 7              & 5              & 5              &  0             & pre1           &               \\\\\n",
       "\t9292 & yesterday\\_dt & 42.5           & 43.0           & V              & 7              & 5              & 5              &  0             & pre1           &               \\\\\n",
       "\t9296 & yesterday\\_dt & 45.0           & 45.5           & IV             & 5              & 4              & 5              & 10             & pre1           &               \\\\\n",
       "\t9299 & yesterday\\_dt & 47.0           & 47.5           & IV             & 5              & 4              & 5              & 10             & pre1           &               \\\\\n",
       "\\end{tabular}\n"
      ],
      "text/markdown": [
       "\n",
       "| <!--/--> | song | start | end | RN | relChr | relDia | tonic | abs | pre | post | \n",
       "|---|---|---|---|---|---|\n",
       "| 9274 | yesterday_dt | 30.0         | 30.5         | IV           | 5            | 4            | 5            | 10           | pre1         |              | \n",
       "| 9280 | yesterday_dt | 33.5         | 34.0         | V            | 7            | 5            | 5            |  0           | pre1         |              | \n",
       "| 9286 | yesterday_dt | 37.5         | 38.0         | V            | 7            | 5            | 5            |  0           | pre1         |              | \n",
       "| 9292 | yesterday_dt | 42.5         | 43.0         | V            | 7            | 5            | 5            |  0           | pre1         |              | \n",
       "| 9296 | yesterday_dt | 45.0         | 45.5         | IV           | 5            | 4            | 5            | 10           | pre1         |              | \n",
       "| 9299 | yesterday_dt | 47.0         | 47.5         | IV           | 5            | 4            | 5            | 10           | pre1         |              | \n",
       "\n",
       "\n"
      ],
      "text/plain": [
       "     song         start end  RN relChr relDia tonic abs pre  post\n",
       "9274 yesterday_dt 30.0  30.5 IV 5      4      5     10  pre1     \n",
       "9280 yesterday_dt 33.5  34.0 V  7      5      5      0  pre1     \n",
       "9286 yesterday_dt 37.5  38.0 V  7      5      5      0  pre1     \n",
       "9292 yesterday_dt 42.5  43.0 V  7      5      5      0  pre1     \n",
       "9296 yesterday_dt 45.0  45.5 IV 5      4      5     10  pre1     \n",
       "9299 yesterday_dt 47.0  47.5 IV 5      4      5     10  pre1     "
      ]
     },
     "metadata": {},
     "output_type": "display_data"
    }
   ],
   "source": [
    "tail(dt[dt$pre == \"pre1\",])"
   ]
  },
  {
   "cell_type": "code",
   "execution_count": 38,
   "metadata": {},
   "outputs": [
    {
     "name": "stdout",
     "output_type": "stream",
     "text": [
      "   Instances Pre-tonics Proportion Pre-tonics Instances Post-tonics\n",
      "0                    14                 0.005                    14\n",
      "1                    38                 0.013                    33\n",
      "2                   134                 0.045                   150\n",
      "3                    45                 0.015                    89\n",
      "4                    26                 0.009                    42\n",
      "5                  1128                 0.379                  1036\n",
      "6                     7                 0.002                     4\n",
      "7                   778                 0.261                   682\n",
      "8                   223                 0.075                    98\n",
      "9                   137                 0.046                   303\n",
      "10                  431                 0.145                   526\n",
      "11                   19                 0.006                    15\n",
      "   Proportion Post-tonics\n",
      "0                   0.005\n",
      "1                   0.011\n",
      "2                   0.050\n",
      "3                   0.030\n",
      "4                   0.014\n",
      "5                   0.346\n",
      "6                   0.001\n",
      "7                   0.228\n",
      "8                   0.033\n",
      "9                   0.101\n",
      "10                  0.176\n",
      "11                  0.005\n"
     ]
    }
   ],
   "source": [
    "pre1.abs.t  <- table(dt[dt$pre == \"pre1\",5])   # absolute frequency distribution table pre-tonics\n",
    "pre1.prop.t <- round(prop.table(pre1.abs.t),3) # conversion to relative distributions table pre-tonics\n",
    "\n",
    "post.abs.t  <- table(dt[dt$post == \"post\",5])   # absolute frequency distribution table pre-tonics\n",
    "post.prop.t <- round(prop.table(post.abs.t),3)  # conversion to relative distributions table pre-tonics\n",
    "\n",
    "prepost <- cbind(pre1.abs.t, pre1.prop.t, post.abs.t, post.prop.t)  # columnar bindung of all tables\n",
    "colnames(prepost) <- c(\"Instances Pre-tonics\", \"Proportion Pre-tonics\", \"Instances Post-tonics\", \"Proportion Post-tonics\" )\n",
    "\n",
    "print(prepost)"
   ]
  },
  {
   "cell_type": "markdown",
   "metadata": {},
   "source": [
    "Finally, two barcharts will be created and combined. \n",
    "\n",
    "The graphical parameter `mfrow` specifies the position of the plots when combining them."
   ]
  },
  {
   "cell_type": "code",
   "execution_count": 39,
   "metadata": {},
   "outputs": [
    {
     "data": {
      "image/png": "[encoded data removed]",
      "text/plain": [
       "Plot with title “Post-tonics”"
      ]
     },
     "metadata": {},
     "output_type": "display_data"
    }
   ],
   "source": [
    "par(mfrow=c(1,2))\n",
    "barplot( table(dt[dt$pre == \"pre1\",5]) ,                        # take the fequency distribtion table as data for plotting\n",
    "        main=\"Frequency Distribution of Pre-tonics\",            # specify the main title as indicated by a character string\n",
    "        ylab=\"frequency\", xlab=\"chromatic relative root\",       # make the plot literate by specification of y and x labels\n",
    "        ylim=c(0,1200),  las=1,                                 # specification of y-axis limits and the orientation of axis labels\n",
    "        cex.main = 0.8, cex.lab= 0.8, cex.axis = 0.7 , cex.names = 0.55)     # specification of the relative size of labels                                          \n",
    "\n",
    "barplot( table(dt[dt$post == \"post\",5]) ,                        # take the fequency distribtion table as data for plotting\n",
    "        main=\"Post-tonics\",                                      # specify the main title as indicated by a character string\n",
    "        ylab=\"frequency\", xlab=\"chromatic relative root\",        # make the plot literate by specification of y and x labels\n",
    "        ylim=c(0,1200),  las=1,                                  # specification of y-axis limits and the orientation of axis labels\n",
    "        cex.main = 0.8,cex.lab=0.8,  cex.axis = 0.7 , cex.names = 0.55)      # specification of the relative size of labels"
   ]
  },
  {
   "cell_type": "markdown",
   "metadata": {},
   "source": [
    "## Identification of antecedent and consequent chromatic relative roots<a name=\"alternative\">"
   ]
  },
  {
   "cell_type": "markdown",
   "metadata": {},
   "source": [
    "Here follows an alternative and more powerful strategy for identification of all antecedent and consequent relative roots within the corpus, as has been proposed by Pit Rieger.\n",
    "\n",
    "Within the corresponding columns `dt$pre` and `dt$post`,the idea is not to label pre- or post-tonics but to indicate the values of antecedent and consequent relative roots for all chords/rows. To achieve this goal, he made use of a combination of for-loop and if-condition.\n",
    "\n",
    "`identical()` is an alternative for the logical operator `==` which allows for more than two arguments."
   ]
  },
  {
   "cell_type": "code",
   "execution_count": 40,
   "metadata": {},
   "outputs": [],
   "source": [
    "dt$pre <- NA\n",
    "dt$post <- NA\n",
    "\n",
    "for (i in 2:nrow(dt)) {\n",
    "    if (identical(dt$song[i-1], dt$song[i],)) {\n",
    "        dt$pre[i] <- dt$relChr[i-1]\n",
    "    }     \n",
    "} \n",
    "\n",
    "for (i in 1:nrow(dt)-1) {\n",
    "    if (identical(dt$song[i], dt$song[i+1],)) {\n",
    "        dt$post[i] <- dt$relChr[i+1]\n",
    "    }     \n",
    "} "
   ]
  },
  {
   "cell_type": "markdown",
   "metadata": {},
   "source": [
    "Here is the resulting data.frame (head; tail):"
   ]
  },
  {
   "cell_type": "code",
   "execution_count": 41,
   "metadata": {},
   "outputs": [
    {
     "name": "stdout",
     "output_type": "stream",
     "text": [
      "     song start  end  RN relChr relDia tonic abs pre post\n",
      "1 1999_dt   7.0  7.5 I64      0      1     5   5  NA    7\n",
      "2 1999_dt   7.5  8.0 V11      7      5     5   0   0    0\n",
      "3 1999_dt   8.0  8.5 I64      0      1     5   5   7    7\n",
      "4 1999_dt   8.5  9.0 V11      7      5     5   0   0    0\n",
      "5 1999_dt   9.0  9.5 I64      0      1     5   5   7    7\n",
      "6 1999_dt   9.5 10.0 V11      7      5     5   0   0    0\n",
      "             song start  end   RN relChr relDia tonic abs pre post\n",
      "9295 yesterday_dt  44.5 45.0  V/V      2      2     5   7   9    5\n",
      "9296 yesterday_dt  45.0 45.5   IV      5      4     5  10   2    0\n",
      "9297 yesterday_dt  45.5 46.5    I      0      1     5   5   5    2\n",
      "9298 yesterday_dt  46.5 47.0 V6/V      2      2     5   7   0    5\n",
      "9299 yesterday_dt  47.0 47.5   IV      5      4     5  10   2    0\n",
      "9300 yesterday_dt  47.5 48.0    I      0      1     5   5   5   NA\n"
     ]
    }
   ],
   "source": [
    "print(head(dt))\n",
    "print(tail(dt))"
   ]
  },
  {
   "cell_type": "markdown",
   "metadata": {},
   "source": [
    "## Chord transition distribution table and vectorisation<a name=\"trans\">"
   ]
  },
  {
   "cell_type": "markdown",
   "metadata": {},
   "source": [
    "### Getting startet: Vectorisation<a name=\"vec\">"
   ]
  },
  {
   "cell_type": "markdown",
   "metadata": {},
   "source": [
    "The combination of for-loop and if-condition to label data provides an intuitive way to deal with chord motions in the dataset. But there are some disadvantages. \n",
    "\n",
    "Take a look at table 3 in DeClercq + Temperley 2011, p.61. If we were to label all possible combinations of antecedent and consequent chords, this would take a lot of time for coding.   \n",
    "Also, it would take a lot of processing ressources to do so. For every single iteration of i, the if-condition has to be checked and the vectors `dt$pre` or `dt$post` have to be updated. In each repetition, memory has to be re-allocated.\n",
    "\n",
    "**Vectorisation** provides a way to save coding and processing ressources and time. Read [Noam Ross: Vectorization in R: Why?](http://www.noamross.net/blog/2014/4/16/vectorization-in-r--why.html) to catch the idea of vectorisation in detail."
   ]
  },
  {
   "cell_type": "markdown",
   "metadata": {},
   "source": [
    "Here is an example. Say we have a set of 50000 integers"
   ]
  },
  {
   "cell_type": "code",
   "execution_count": 42,
   "metadata": {},
   "outputs": [
    {
     "data": {
      "text/html": [
       "50000"
      ],
      "text/latex": [
       "50000"
      ],
      "text/markdown": [
       "50000"
      ],
      "text/plain": [
       "[1] 50000"
      ]
     },
     "metadata": {},
     "output_type": "display_data"
    },
    {
     "name": "stdout",
     "output_type": "stream",
     "text": [
      "[1] 10627 30955 17669 46994   346  5449\n"
     ]
    }
   ],
   "source": [
    "a <- sample(1:50000, size=50000, replace=TRUE)\n",
    "length(a)      # is 50000\n",
    "print(head(a)) # first six elements"
   ]
  },
  {
   "cell_type": "code",
   "execution_count": 43,
   "metadata": {},
   "outputs": [
    {
     "data": {
      "text/html": [
       "46994"
      ],
      "text/latex": [
       "46994"
      ],
      "text/markdown": [
       "46994"
      ],
      "text/plain": [
       "[1] 46994"
      ]
     },
     "metadata": {},
     "output_type": "display_data"
    },
    {
     "data": {
      "text/html": [
       "FALSE"
      ],
      "text/latex": [
       "FALSE"
      ],
      "text/markdown": [
       "FALSE"
      ],
      "text/plain": [
       "[1] FALSE"
      ]
     },
     "metadata": {},
     "output_type": "display_data"
    }
   ],
   "source": [
    "a[4]\n",
    "a[4] %% 2 != 0"
   ]
  },
  {
   "cell_type": "markdown",
   "metadata": {},
   "source": [
    "and we want to create a subset of all odd numbers. A  strategy similar to the labelling of post- and pre-tonics above would be this:"
   ]
  },
  {
   "cell_type": "code",
   "execution_count": 44,
   "metadata": {},
   "outputs": [],
   "source": [
    "odds1 <- c()\n",
    "for (i in 1:length(a)) {\n",
    "    if(a[i] %% 2 != 0) {       # for all odd numbers, the result of modulo division a[i] %% 2, the division remainder, is not 0\n",
    "        odds1 <- c(odds1,a[i]) # element by element, vector odds1 is created\n",
    "    }\n",
    "}"
   ]
  },
  {
   "cell_type": "markdown",
   "metadata": {},
   "source": [
    "Instead of iterating the check-update-process for 50000 times, this vectorised code does the same in two steps:"
   ]
  },
  {
   "cell_type": "code",
   "execution_count": 45,
   "metadata": {},
   "outputs": [],
   "source": [
    "odds.logical <- a %% 2 != 0   # odds.logical is a logical vector, TRUE for division remainders unequal 0\n",
    "odds2 <- a[odds.logical]      # assigns all elements of vector a for which the related logical vector element is TRUE"
   ]
  },
  {
   "cell_type": "markdown",
   "metadata": {},
   "source": [
    "Did you notice the difference in processing time? R performs these operations on whole vectors (here with length = 50000), not for every single vector element."
   ]
  },
  {
   "cell_type": "markdown",
   "metadata": {},
   "source": [
    "The strategy of vectorisation, combined with a for-loop of only 12 iterations, will finally be used here to create a matrix of all possible combinations of ante- and consequent chords."
   ]
  },
  {
   "cell_type": "markdown",
   "metadata": {},
   "source": [
    "### Frequency distribution of post-tonics<a name=\"freqvec\">\n",
    "\n",
    "To understand this process, first create a frequency distribution table of post-tonics, i.e. the consequent chords of the tonic \"I\", in terms of chromatic relative roots. The result must be the same as we have achieved above by labelling post-tonics."
   ]
  },
  {
   "cell_type": "markdown",
   "metadata": {},
   "source": [
    "We will start with the `which()`-function, asking: \"Which indices are TRUE for the condition `dt$relChr == 0`?\" (providing a vector of position indices of tonics in `dt$relChr`)\n",
    "\n",
    "`which(dt$relChr == 0)`"
   ]
  },
  {
   "cell_type": "code",
   "execution_count": 46,
   "metadata": {},
   "outputs": [],
   "source": [
    "dt <- read.csv('resultsBySong.csv')"
   ]
  },
  {
   "cell_type": "code",
   "execution_count": 47,
   "metadata": {},
   "outputs": [
    {
     "name": "stdout",
     "output_type": "stream",
     "text": [
      "[1]  1  3  5  7  9 11\n"
     ]
    }
   ],
   "source": [
    "print(head(which(dt$relChr == 0)))   # first six position indices of tonics"
   ]
  },
  {
   "cell_type": "markdown",
   "metadata": {},
   "source": [
    "Knowing the indices of tonics, `which(dt$relChr == 0)+1` provides the indices of post-tonics:"
   ]
  },
  {
   "cell_type": "code",
   "execution_count": 48,
   "metadata": {},
   "outputs": [
    {
     "name": "stdout",
     "output_type": "stream",
     "text": [
      "[1]  2  4  6  8 10 12\n"
     ]
    }
   ],
   "source": [
    "print(head(which(dt$relChr == 0)+1)) # first six position indices of post-tonics"
   ]
  },
  {
   "cell_type": "markdown",
   "metadata": {},
   "source": [
    "Take this vector to specify the rows in `dt` that provide information on post-tonic chords:\n",
    "\n",
    "`dt[which(dt$relChr == 0)+1,]`"
   ]
  },
  {
   "cell_type": "code",
   "execution_count": 49,
   "metadata": {},
   "outputs": [
    {
     "name": "stdout",
     "output_type": "stream",
     "text": [
      "      song start end  RN relChr relDia tonic abs\n",
      "2  1999_dt   7.5   8 V11      7      5     5   0\n",
      "4  1999_dt   8.5   9 V11      7      5     5   0\n",
      "6  1999_dt   9.5  10 V11      7      5     5   0\n",
      "8  1999_dt  10.5  11 V11      7      5     5   0\n",
      "10 1999_dt  11.5  12 V11      7      5     5   0\n",
      "12 1999_dt  12.5  13 V11      7      5     5   0\n"
     ]
    }
   ],
   "source": [
    "print(head(dt[which(dt$relChr == 0)+1,]))"
   ]
  },
  {
   "cell_type": "markdown",
   "metadata": {},
   "source": [
    "The 5th column provides the chomatic relative roots of these post-tonics:\n",
    "\n",
    "`dt[which(dt$relChr == 0)+1,5]`"
   ]
  },
  {
   "cell_type": "code",
   "execution_count": 50,
   "metadata": {},
   "outputs": [
    {
     "name": "stdout",
     "output_type": "stream",
     "text": [
      "[1] 7 7 7 7 7 7\n"
     ]
    }
   ],
   "source": [
    "consI_all <- dt[which(dt$relChr == 0)+1,5]    # provides a numerical vector of all post-tonic chromatic relative roots \n",
    "print(head(consI_all))"
   ]
  },
  {
   "cell_type": "markdown",
   "metadata": {},
   "source": [
    "Remember that we need a second condition which prevents first chords of a new song to be erroneously labelled as post-tonic of previous songs ending with a tonic.\n",
    "\n",
    "The song names (first column) in rows that represent the tonics (`dt[which(dt$relChr == 0),]`) must equal the song names of consequent rows that represent the post-tonics `dt[which(dt$relChr == 0)+1,]`:\n",
    "\n",
    "`dt[which(dt$relChr == 0),1] == dt[which(dt$relChr == 0)+1,1]`"
   ]
  },
  {
   "cell_type": "code",
   "execution_count": 51,
   "metadata": {},
   "outputs": [
    {
     "name": "stdout",
     "output_type": "stream",
     "text": [
      "[1] TRUE TRUE TRUE TRUE TRUE TRUE\n"
     ]
    }
   ],
   "source": [
    "consI_same <- dt[which(dt$relChr == 0),1] == dt[which(dt$relChr == 0)+1,1]\n",
    "print(head(consI_same))"
   ]
  },
  {
   "cell_type": "markdown",
   "metadata": {},
   "source": [
    "This is a logical vector which is FALSE for consequent chords of tonics that do not belong to the same song. \n",
    "\n",
    "To show that this is the case, take a look at rows 339 to 352 of the dataframe dt:"
   ]
  },
  {
   "cell_type": "code",
   "execution_count": 52,
   "metadata": {},
   "outputs": [
    {
     "name": "stdout",
     "output_type": "stream",
     "text": [
      "                    song  start    end   RN relChr relDia tonic abs\n",
      "339              1999_dt 180.50 181.50    I      0      1     5   5\n",
      "340              1999_dt 181.50 182.00 bVII     10      7     5   3\n",
      "341              1999_dt 182.00 182.25    I      0      1     5   5\n",
      "342              1999_dt 182.25 182.50 bVII     10      7     5   3\n",
      "343              1999_dt 182.50 183.00    I      0      1     5   5\n",
      "344     all_apologies_dt   0.00  24.00    I      0      1     1   1\n",
      "345     all_apologies_dt  24.00  30.00   IV      5      4     1   6\n",
      "346     all_apologies_dt  30.00  34.00    V      7      5     1   8\n",
      "347     all_apologies_dt  34.00  50.00    I      0      1     1   1\n",
      "348     all_apologies_dt  50.00  56.00   IV      5      4     1   6\n",
      "349     all_apologies_dt  56.00  64.00    V      7      5     1   8\n",
      "350     all_apologies_dt  64.00 108.00    I      0      1     1   1\n",
      "351 anarchy_in_the_uk_dt   0.00   2.00    V      7      5     0   7\n",
      "352 anarchy_in_the_uk_dt   2.00   3.00   IV      5      4     0   5\n"
     ]
    }
   ],
   "source": [
    "print(dt[339:352,])"
   ]
  },
  {
   "cell_type": "markdown",
   "metadata": {},
   "source": [
    "In column `dt$relChr`, chromatic relative roots following 0 (the tonic) are 10 (same song: TRUE), 10 (same song: TRUE), 0 (same song: FALSE), 5 (same song: TRUE), 5 (same song: TRUE), 7 (same song: FALSE). This is exactly the information of vectors `consI_all` and `consI_same`:"
   ]
  },
  {
   "cell_type": "code",
   "execution_count": 53,
   "metadata": {},
   "outputs": [
    {
     "name": "stdout",
     "output_type": "stream",
     "text": [
      "[1] 10 10  0  5  5  7\n",
      "[1]  TRUE  TRUE FALSE  TRUE  TRUE FALSE\n"
     ]
    }
   ],
   "source": [
    "print(consI_all[165:170])\n",
    "print(consI_same[165:170])"
   ]
  },
  {
   "cell_type": "markdown",
   "metadata": {},
   "source": [
    "Now, take `consI_same` as position index vector of `consI_all` in order to exclude all consequent chromatic relative roots of tonic that do not belong to the same song:"
   ]
  },
  {
   "cell_type": "code",
   "execution_count": 54,
   "metadata": {},
   "outputs": [],
   "source": [
    "consI <- consI_all[consI_same]"
   ]
  },
  {
   "cell_type": "markdown",
   "metadata": {},
   "source": [
    "We are almost there. Our labelling of post-tonics by for-loop and if-statement provided a total of 2992 elements:"
   ]
  },
  {
   "cell_type": "code",
   "execution_count": 55,
   "metadata": {},
   "outputs": [
    {
     "data": {
      "text/html": [
       "0"
      ],
      "text/latex": [
       "0"
      ],
      "text/markdown": [
       "0"
      ],
      "text/plain": [
       "[1] 0"
      ]
     },
     "metadata": {},
     "output_type": "display_data"
    }
   ],
   "source": [
    "length(dt[dt$post == \"post\",5])"
   ]
  },
  {
   "cell_type": "markdown",
   "metadata": {},
   "source": [
    "Instead, vectorisation provided a vector of post-tonics with 2993 elements"
   ]
  },
  {
   "cell_type": "code",
   "execution_count": 56,
   "metadata": {},
   "outputs": [
    {
     "data": {
      "text/html": [
       "2993"
      ],
      "text/latex": [
       "2993"
      ],
      "text/markdown": [
       "2993"
      ],
      "text/plain": [
       "[1] 2993"
      ]
     },
     "metadata": {},
     "output_type": "display_data"
    }
   ],
   "source": [
    "length(consI)"
   ]
  },
  {
   "cell_type": "markdown",
   "metadata": {},
   "source": [
    "because we created an `NA` in the last position of that vector:"
   ]
  },
  {
   "cell_type": "code",
   "execution_count": 57,
   "metadata": {},
   "outputs": [
    {
     "name": "stdout",
     "output_type": "stream",
     "text": [
      "[1] 11 11 11  9  2 NA\n"
     ]
    }
   ],
   "source": [
    "print(tail(consI))"
   ]
  },
  {
   "cell_type": "markdown",
   "metadata": {},
   "source": [
    "Take again a look at the data frame, here are the last rows:"
   ]
  },
  {
   "cell_type": "code",
   "execution_count": 58,
   "metadata": {},
   "outputs": [
    {
     "name": "stdout",
     "output_type": "stream",
     "text": [
      "             song start  end   RN relChr relDia tonic abs\n",
      "9295 yesterday_dt  44.5 45.0  V/V      2      2     5   7\n",
      "9296 yesterday_dt  45.0 45.5   IV      5      4     5  10\n",
      "9297 yesterday_dt  45.5 46.5    I      0      1     5   5\n",
      "9298 yesterday_dt  46.5 47.0 V6/V      2      2     5   7\n",
      "9299 yesterday_dt  47.0 47.5   IV      5      4     5  10\n",
      "9300 yesterday_dt  47.5 48.0    I      0      1     5   5\n"
     ]
    }
   ],
   "source": [
    "print(tail(dt))"
   ]
  },
  {
   "cell_type": "markdown",
   "metadata": {},
   "source": [
    "By indentification of post-tonics &mdash; `dt[which(dt$relChr == 0)+1,5]` &mdash; a post-tonic would also be expected in row 9301 which is not available (NA). \n",
    "\n",
    "As a last step, exclude that `NA` from vector `consI` by:"
   ]
  },
  {
   "cell_type": "code",
   "execution_count": 59,
   "metadata": {},
   "outputs": [],
   "source": [
    "consI_final <- consI[!is.na(consI)]  # !is.na(consI) : TRUE for all elements of consI that are not NA"
   ]
  },
  {
   "cell_type": "code",
   "execution_count": 60,
   "metadata": {},
   "outputs": [
    {
     "name": "stdout",
     "output_type": "stream",
     "text": [
      "[1]  9 11 11 11  9  2\n"
     ]
    }
   ],
   "source": [
    "print(tail(consI_final))"
   ]
  },
  {
   "cell_type": "markdown",
   "metadata": {},
   "source": [
    "This may seem a long way to achieve the goal, but finally only a few steps were needed to create a vector of all consequent chromatic relative roots of tonics:"
   ]
  },
  {
   "cell_type": "code",
   "execution_count": 61,
   "metadata": {},
   "outputs": [],
   "source": [
    "consI_all   <- dt[which(dt$relChr == 0)+1,5]\n",
    "consI_same  <- dt[which(dt$relChr == 0),1] == dt[which(dt$relChr == 0)+1,1]\n",
    "consI       <- consI_all[consI_same]\n",
    "consI_final <- consI[!is.na(consI)]"
   ]
  },
  {
   "cell_type": "markdown",
   "metadata": {},
   "source": [
    "Here is the frequency distribution table:"
   ]
  },
  {
   "cell_type": "code",
   "execution_count": 62,
   "metadata": {},
   "outputs": [
    {
     "data": {
      "text/plain": [
       "consI_final\n",
       "   0    1    2    3    4    5    6    7    8    9   10   11 \n",
       "  14   33  150   89   42 1036    4  682   98  303  526   15 "
      ]
     },
     "metadata": {},
     "output_type": "display_data"
    }
   ],
   "source": [
    "table(consI_final)"
   ]
  },
  {
   "cell_type": "markdown",
   "metadata": {},
   "source": [
    "### Frequencies of chord transitions in the whole corpus<a name=\"whole\">\n",
    "\n",
    "What has been done for consequent chords of only tonics (`dt$relChr == 0`) can be transferred to a  for-loop in which index variable `i` in `dt$relChr == i` iterates over a sequence from 0 to 11 (compared to the iteration over the sequence `1:nrow(dt)` like above, this is a fairly small loop).\n",
    "\n",
    "For every `i`, after creation of the final vector `cons_final` a frequency distribution table is computed and bound to the table of the preceding loop. Start with an \"empty\" transition table.\n",
    "\n",
    "The term `table(factor(cons_final,lev=0:11))` guarantees that a frequencies = 0 are included into the table."
   ]
  },
  {
   "cell_type": "code",
   "execution_count": 63,
   "metadata": {},
   "outputs": [],
   "source": [
    "transTable <- c()\n",
    "\n",
    "for (i in 0:11) {\n",
    "    cons_all   <- dt[which(dt$relChr == i)+1,5]\n",
    "    cons_same  <- dt[which(dt$relChr == i),1] == dt[which(dt$relChr == i)+1,1]\n",
    "    cons       <- cons_all[cons_same]\n",
    "    cons_final <- cons[!is.na(cons)]\n",
    "    transTable <- rbind(transTable, table(factor(cons_final,lev=0:11)))\n",
    "}"
   ]
  },
  {
   "cell_type": "markdown",
   "metadata": {},
   "source": [
    "You may now define the row names (i.e. the antecedent chromatic relative roots):"
   ]
  },
  {
   "cell_type": "code",
   "execution_count": 64,
   "metadata": {},
   "outputs": [],
   "source": [
    "rownames(transTable) <- 0:11"
   ]
  },
  {
   "cell_type": "code",
   "execution_count": 65,
   "metadata": {},
   "outputs": [
    {
     "name": "stdout",
     "output_type": "stream",
     "text": [
      "      0  1   2  3  4    5 6   7   8   9  10 11\n",
      "0    14 33 150 89 42 1036 4 682  98 303 526 15\n",
      "1    38  0   0  0  0    0 0   0   0   0   0 14\n",
      "2   134  0   0  2 18   51 0  75   0  30  18  1\n",
      "3    45  6   1  0  0   59 5   3  68   0  45  0\n",
      "4    26  0  41  0  0   52 0   6   0  59   3  4\n",
      "5  1128 14  27 95 59    0 7 513  61  68  72  1\n",
      "6     7  0   0  6  0   16 0   0   0   0   0  0\n",
      "7   778  0  13  4 16  383 4   4   9 191  46  0\n",
      "8   223  0   2 25  0   22 6  20   0  17  70  0\n",
      "9   137  0  93  0 40  251 0 121  32   1   5  0\n",
      "10  431  0   0 11  4  174 3  35 117   9   0  0\n",
      "11   19  0   0  0 12    0 0   0   0   3   0  0\n"
     ]
    }
   ],
   "source": [
    "print(transTable)"
   ]
  },
  {
   "cell_type": "markdown",
   "metadata": {},
   "source": [
    "Done!"
   ]
  },
  {
   "cell_type": "markdown",
   "metadata": {},
   "source": [
    "### Visualisation of the chord transition table by mosaic plot<a name=\"mosaic\">\n",
    "\n",
    "The mosaic plot is suitable for visualisation of relative frequencies of data from two or more qualitative variables. The proportions of areas within the plot correspond to relative frequencies of values."
   ]
  },
  {
   "cell_type": "markdown",
   "metadata": {},
   "source": [
    "To achieve a plot that takes the same orientation of rows and columns in matrix `transTable`, you have to transpose the matrix using `t()`. This is due to the function's settings."
   ]
  },
  {
   "cell_type": "markdown",
   "metadata": {},
   "source": [
    "    \n",
    "Matrix\n",
    "\n",
    "$M = \\begin{bmatrix}1 & 4 \\\\ 2 & 5 \\\\ 3 & 6 \\end{bmatrix}$\n",
    "\n",
    "can be transformed by exchanging rows with columns:\n",
    "\n",
    "$M^T = \\begin{bmatrix}1 & 2 & 3 \\\\ 4 & 5 & 6 \\end{bmatrix}$"
   ]
  },
  {
   "cell_type": "code",
   "execution_count": 66,
   "metadata": {},
   "outputs": [
    {
     "name": "stdout",
     "output_type": "stream",
     "text": [
      "     [,1] [,2]\n",
      "[1,]    1    4\n",
      "[2,]    2    5\n",
      "[3,]    3    6\n",
      "     [,1] [,2] [,3]\n",
      "[1,]    1    2    3\n",
      "[2,]    4    5    6\n"
     ]
    }
   ],
   "source": [
    "M  <- matrix(1:6, nrow=3, ncol=2)\n",
    "MT <- t(M)\n",
    "print(M)\n",
    "print(MT)"
   ]
  },
  {
   "cell_type": "markdown",
   "metadata": {},
   "source": [
    "Compare these matrices with the plots:"
   ]
  },
  {
   "cell_type": "code",
   "execution_count": 67,
   "metadata": {},
   "outputs": [
    {
     "data": {
      "image/png": "[encoded data removed]",
      "text/plain": [
       "Plot with title “M”"
      ]
     },
     "metadata": {},
     "output_type": "display_data"
    }
   ],
   "source": [
    "mosaicplot(M)"
   ]
  },
  {
   "cell_type": "code",
   "execution_count": 68,
   "metadata": {},
   "outputs": [
    {
     "data": {
      "image/png": "[encoded data removed]",
      "text/plain": [
       "Plot with title “MT”"
      ]
     },
     "metadata": {},
     "output_type": "display_data"
    }
   ],
   "source": [
    "mosaicplot(MT)"
   ]
  },
  {
   "cell_type": "markdown",
   "metadata": {},
   "source": [
    "The orientation of rows and columns in `mosaicplot(MT)` corresponds to:"
   ]
  },
  {
   "cell_type": "code",
   "execution_count": 69,
   "metadata": {},
   "outputs": [
    {
     "name": "stdout",
     "output_type": "stream",
     "text": [
      "     [,1] [,2]\n",
      "[1,]    1    4\n",
      "[2,]    2    5\n",
      "[3,]    3    6\n"
     ]
    }
   ],
   "source": [
    "print(M)"
   ]
  },
  {
   "cell_type": "markdown",
   "metadata": {},
   "source": [
    "Here is the mosaic plot of `transTable`. After generating and defining some graphical options of the plot, text has been added fostering literacy of that plot. The plot roughly demonstrated differences frequencies of occurence of specific chord movements in relation to others, but also loses information about absolte or relative frequencies of occurence. It could be argued that such information should be added at least to some areas within the plot that should be highlighted."
   ]
  },
  {
   "cell_type": "code",
   "execution_count": 70,
   "metadata": {},
   "outputs": [
    {
     "data": {
      "image/png": "[encoded data removed]",
      "text/plain": [
       "Plot with title “”"
      ]
     },
     "metadata": {},
     "output_type": "display_data"
    }
   ],
   "source": [
    "mosaicplot(t(transTable),         # argument x, here the transposed matrix transTable\n",
    "           las=1, cex.axis=0.75,  # orientation and relative size of axis labels\n",
    "           col=c(\"grey1\",\"grey9\",\"grey17\",\"grey25\",\"grey33\",\"grey41\",\"grey49\",\"grey57\",\n",
    "                 \"grey65\",\"grey73\",\"grey81\",\"grey89\"), # colors for each row of the matrix\n",
    "           main=\"\",               # here: empty character string as main-title\n",
    "           sub=\"Mosaic Plot of Chord Transitions in the RS 5x20 Corpus (dt)\") # instead, title below the plot\n",
    "\n",
    "#<----- By now the mosaicplot has been created. What follows is adding text to that plot -------->#\n",
    "\n",
    "mtext(\"consequent chromatic relative root\", side=3)       # mtext() is used instead of xlab to add text above the plot, side=3\n",
    "mtext(\"antecedent chromatic relative root\", side=2)       # for consistency, mtext() is also used instead of ylab\n",
    "\n",
    "text(2/12,0.66,\"IV-I\")    # text() places some text at a specified position (x,y) within the plot;\n",
    "text(2/12,0.38,\"V-I\")   \n",
    "text(2/12,0.058,\"bVII-I\")\n",
    "text(0.525,0.76,\"I-IV\",col=\"white\")\n",
    "text(0.525,0.3,\"V-IV\")\n",
    "text(0.7,0.76,\"I-V\",col=\"white\")\n",
    "text(0.7,0.34,\"IV-V\")\n",
    "text(0.933,0.76,\"I-\",col=\"white\")\n",
    "text(0.933,0.72,\"bVII\",col=\"white\")"
   ]
  }
 ],
 "metadata": {
  "kernelspec": {
   "display_name": "R",
   "language": "R",
   "name": "ir"
  },
  "language_info": {
   "codemirror_mode": "r",
   "file_extension": ".r",
   "mimetype": "text/x-r-source",
   "name": "R",
   "pygments_lexer": "r",
   "version": "3.5.1"
  }
 },
 "nbformat": 4,
 "nbformat_minor": 2
}
