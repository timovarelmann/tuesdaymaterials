{
 "cells": [
  {
   "cell_type": "markdown",
   "metadata": {},
   "source": [
    "# Exercise: A corpus analysis of rock harmony\n",
    "Trevor de Clercq and David Temperley  \n",
    "Popular Music (2011) Vol. 30(1), p. 47-70  \n",
    "\n",
    "This notebook provides an extension of the first example of Kris Shaffer's tutorial [Exploring musical data with R: An introduction to computational music analysis](https://pushpullfork.com/exploring-musical-data-with-r/), which introduces frequency distribution tables/plotting of harmony instances.\n",
    "\n",
    "Things to learn:\n",
    "- Description of nominal data\n",
    "- Data management: for-loops, if-else-conditions\n",
    "\n",
    "Required: resultsBySong.csv"
   ]
  },
  {
   "cell_type": "markdown",
   "metadata": {},
   "source": [
    "Read the csv-data set, which provides David Temperley's (dt) annotations, and do some inspections:"
   ]
  },
  {
   "cell_type": "code",
   "execution_count": 3,
   "metadata": {},
   "outputs": [],
   "source": [
    "dt <- read.csv('resultsBySong.csv')"
   ]
  },
  {
   "cell_type": "code",
   "execution_count": 1,
   "metadata": {},
   "outputs": [
    {
     "name": "stdout",
     "output_type": "stream",
     "text": [
      "                                        \n",
      "1 function (x, df, ncp, log = FALSE)    \n",
      "2 {                                     \n",
      "3     if (missing(ncp))                 \n",
      "4         .Call(C_dt, x, df, log)       \n",
      "5     else .Call(C_dnt, x, df, ncp, log)\n",
      "6 }                                     \n",
      "                                        \n",
      "1 function (x, df, ncp, log = FALSE)    \n",
      "2 {                                     \n",
      "3     if (missing(ncp))                 \n",
      "4         .Call(C_dt, x, df, log)       \n",
      "5     else .Call(C_dnt, x, df, ncp, log)\n",
      "6 }                                     \n",
      "function (x, df, ncp, log = FALSE)  \n"
     ]
    }
   ],
   "source": [
    "print(head(dt))\n",
    "print(tail(dt))\n",
    "str(dt)"
   ]
  },
  {
   "cell_type": "markdown",
   "metadata": {},
   "source": [
    "To understand what these data represent, take a look at section „Analysing the harmony“ in DeClercq + Tempereley 2011, p.54-59.  \n",
    "Here are Temperley's annotations for the song: \"Hey Jude\":"
   ]
  },
  {
   "cell_type": "code",
   "execution_count": 5,
   "metadata": {},
   "outputs": [
    {
     "name": "stdout",
     "output_type": "stream",
     "text": [
      "            song start   end   RN relChr relDia tonic abs\n",
      "3039 hey_jude_dt   0.0   1.0    I      0      1     5   5\n",
      "3040 hey_jude_dt   1.0   3.0    V      7      5     5   0\n",
      "3041 hey_jude_dt   3.0   4.0    I      0      1     5   5\n",
      "3042 hey_jude_dt   4.0   5.0   IV      5      4     5  10\n",
      "3043 hey_jude_dt   5.0   6.0    I      0      1     5   5\n",
      "3044 hey_jude_dt   6.0   7.0    V      7      5     5   0\n",
      "3045 hey_jude_dt   7.0   9.0    I      0      1     5   5\n",
      "3046 hey_jude_dt   9.0  11.0    V      7      5     5   0\n",
      "3047 hey_jude_dt  11.0  12.0    I      0      1     5   5\n",
      "3048 hey_jude_dt  12.0  13.0   IV      5      4     5  10\n",
      "3049 hey_jude_dt  13.0  14.0    I      0      1     5   5\n",
      "3050 hey_jude_dt  14.0  15.0    V      7      5     5   0\n",
      "3051 hey_jude_dt  15.0  17.0    I      0      1     5   5\n",
      "3052 hey_jude_dt  17.0  17.5   IV      5      4     5  10\n",
      "3053 hey_jude_dt  17.5  18.0   I6      0      1     5   5\n",
      "3054 hey_jude_dt  18.0  18.5   ii      2      2     5   7\n",
      "3055 hey_jude_dt  18.5  19.0  vi6      9      6     5   2\n",
      "3056 hey_jude_dt  19.0  20.0   V6      7      5     5   0\n",
      "3057 hey_jude_dt  20.0  22.0    I      0      1     5   5\n",
      "3058 hey_jude_dt  22.0  22.5   IV      5      4     5  10\n",
      "3059 hey_jude_dt  22.5  23.0   I6      0      1     5   5\n",
      "3060 hey_jude_dt  23.0  23.5   ii      2      2     5   7\n",
      "3061 hey_jude_dt  23.5  24.0  vi6      9      6     5   2\n",
      "3062 hey_jude_dt  24.0  25.0   V6      7      5     5   0\n",
      "3063 hey_jude_dt  25.0  27.0    I      0      1     5   5\n",
      "3064 hey_jude_dt  27.0  29.0    V      7      5     5   0\n",
      "3065 hey_jude_dt  29.0  30.0    I      0      1     5   5\n",
      "3066 hey_jude_dt  30.0  32.0    V      7      5     5   0\n",
      "3067 hey_jude_dt  32.0  33.0    I      0      1     5   5\n",
      "3068 hey_jude_dt  33.0  34.0   IV      5      4     5  10\n",
      "3069 hey_jude_dt  34.0  35.0    I      0      1     5   5\n",
      "3070 hey_jude_dt  35.0  36.0    V      7      5     5   0\n",
      "3071 hey_jude_dt  36.0  38.0    I      0      1     5   5\n",
      "3072 hey_jude_dt  38.0  38.5   IV      5      4     5  10\n",
      "3073 hey_jude_dt  38.5  39.0   I6      0      1     5   5\n",
      "3074 hey_jude_dt  39.0  39.5   ii      2      2     5   7\n",
      "3075 hey_jude_dt  39.5  40.0  vi6      9      6     5   2\n",
      "3076 hey_jude_dt  40.0  41.0   V6      7      5     5   0\n",
      "3077 hey_jude_dt  41.0  43.0    I      0      1     5   5\n",
      "3078 hey_jude_dt  43.0  43.5   IV      5      4     5  10\n",
      "3079 hey_jude_dt  43.5  44.0   I6      0      1     5   5\n",
      "3080 hey_jude_dt  44.0  44.5   ii      2      2     5   7\n",
      "3081 hey_jude_dt  44.5  45.0  vi6      9      6     5   2\n",
      "3082 hey_jude_dt  45.0  46.0   V6      7      5     5   0\n",
      "3083 hey_jude_dt  46.0  48.0    I      0      1     5   5\n",
      "3084 hey_jude_dt  48.0  50.0    V      7      5     5   0\n",
      "3085 hey_jude_dt  50.0  51.0    I      0      1     5   5\n",
      "3086 hey_jude_dt  51.0  53.0    V      7      5     5   0\n",
      "3087 hey_jude_dt  53.0  54.0    I      0      1     5   5\n",
      "3088 hey_jude_dt  54.0  55.0   IV      5      4     5  10\n",
      "3089 hey_jude_dt  55.0  56.0    I      0      1     5   5\n",
      "3090 hey_jude_dt  56.0  57.0    V      7      5     5   0\n",
      "3091 hey_jude_dt  57.0  60.0    I      0      1     5   5\n",
      "3092 hey_jude_dt  60.0  61.0 bVII     10      7     5   3\n",
      "3093 hey_jude_dt  61.0  62.0   IV      5      4     5  10\n",
      "3094 hey_jude_dt  62.0  64.0    I      0      1     5   5\n",
      "3095 hey_jude_dt  64.0  65.0 bVII     10      7     5   3\n",
      "3096 hey_jude_dt  65.0  66.0   IV      5      4     5  10\n",
      "3097 hey_jude_dt  66.0  68.0    I      0      1     5   5\n",
      "3098 hey_jude_dt  68.0  69.0 bVII     10      7     5   3\n",
      "3099 hey_jude_dt  69.0  70.0   IV      5      4     5  10\n",
      "3100 hey_jude_dt  70.0  72.0    I      0      1     5   5\n",
      "3101 hey_jude_dt  72.0  73.0 bVII     10      7     5   3\n",
      "3102 hey_jude_dt  73.0  74.0   IV      5      4     5  10\n",
      "3103 hey_jude_dt  74.0  76.0    I      0      1     5   5\n",
      "3104 hey_jude_dt  76.0  77.0 bVII     10      7     5   3\n",
      "3105 hey_jude_dt  77.0  78.0   IV      5      4     5  10\n",
      "3106 hey_jude_dt  78.0  80.0    I      0      1     5   5\n",
      "3107 hey_jude_dt  80.0  81.0 bVII     10      7     5   3\n",
      "3108 hey_jude_dt  81.0  82.0   IV      5      4     5  10\n",
      "3109 hey_jude_dt  82.0  84.0    I      0      1     5   5\n",
      "3110 hey_jude_dt  84.0  85.0 bVII     10      7     5   3\n",
      "3111 hey_jude_dt  85.0  86.0   IV      5      4     5  10\n",
      "3112 hey_jude_dt  86.0  88.0    I      0      1     5   5\n",
      "3113 hey_jude_dt  88.0  89.0 bVII     10      7     5   3\n",
      "3114 hey_jude_dt  89.0  90.0   IV      5      4     5  10\n",
      "3115 hey_jude_dt  90.0  92.0    I      0      1     5   5\n",
      "3116 hey_jude_dt  92.0  93.0 bVII     10      7     5   3\n",
      "3117 hey_jude_dt  93.0  94.0   IV      5      4     5  10\n",
      "3118 hey_jude_dt  94.0  96.0    I      0      1     5   5\n",
      "3119 hey_jude_dt  96.0  97.0 bVII     10      7     5   3\n",
      "3120 hey_jude_dt  97.0  98.0   IV      5      4     5  10\n",
      "3121 hey_jude_dt  98.0 100.0    I      0      1     5   5\n",
      "3122 hey_jude_dt 100.0 101.0 bVII     10      7     5   3\n",
      "3123 hey_jude_dt 101.0 102.0   IV      5      4     5  10\n",
      "3124 hey_jude_dt 102.0 104.0    I      0      1     5   5\n",
      "3125 hey_jude_dt 104.0 105.0 bVII     10      7     5   3\n",
      "3126 hey_jude_dt 105.0 106.0   IV      5      4     5  10\n",
      "3127 hey_jude_dt 106.0 108.0    I      0      1     5   5\n",
      "3128 hey_jude_dt 108.0 109.0 bVII     10      7     5   3\n",
      "3129 hey_jude_dt 109.0 110.0   IV      5      4     5  10\n",
      "3130 hey_jude_dt 110.0 112.0    I      0      1     5   5\n",
      "3131 hey_jude_dt 112.0 113.0 bVII     10      7     5   3\n",
      "3132 hey_jude_dt 113.0 114.0   IV      5      4     5  10\n",
      "3133 hey_jude_dt 114.0 116.0    I      0      1     5   5\n",
      "3134 hey_jude_dt 116.0 117.0 bVII     10      7     5   3\n",
      "3135 hey_jude_dt 117.0 118.0   IV      5      4     5  10\n",
      "3136 hey_jude_dt 118.0 120.0    I      0      1     5   5\n",
      "3137 hey_jude_dt 120.0 121.0 bVII     10      7     5   3\n",
      "3138 hey_jude_dt 121.0 122.0   IV      5      4     5  10\n",
      "3139 hey_jude_dt 122.0 124.0    I      0      1     5   5\n",
      "3140 hey_jude_dt 124.0 125.0 bVII     10      7     5   3\n",
      "3141 hey_jude_dt 125.0 126.0   IV      5      4     5  10\n",
      "3142 hey_jude_dt 126.0 128.0    I      0      1     5   5\n",
      "3143 hey_jude_dt 128.0 129.0 bVII     10      7     5   3\n",
      "3144 hey_jude_dt 129.0 130.0   IV      5      4     5  10\n",
      "3145 hey_jude_dt 130.0 131.0    I      0      1     5   5\n"
     ]
    }
   ],
   "source": [
    "print(dt[dt$song==\"hey_jude_dt\",])"
   ]
  },
  {
   "cell_type": "markdown",
   "metadata": {},
   "source": [
    "## Frequency distribution tables"
   ]
  },
  {
   "cell_type": "markdown",
   "metadata": {},
   "source": [
    "Frequency distribution tables can be provided for several columns, e.g. for the chromatic intervals above the tonic (\"chromatic relative root\", relChr)."
   ]
  },
  {
   "cell_type": "code",
   "execution_count": 113,
   "metadata": {},
   "outputs": [
    {
     "data": {
      "text/plain": [
       "\n",
       "   0    1    2    3    4    5    6    7    8    9   10   11 \n",
       "3065   53  329  232  191 2052   29 1461  386  681  786   35 "
      ]
     },
     "metadata": {},
     "output_type": "display_data"
    }
   ],
   "source": [
    "table(dt$relChr)"
   ]
  },
  {
   "cell_type": "markdown",
   "metadata": {},
   "source": [
    "You can now rank the chromatic relative roots by their frequency of occurence using `sort()`:"
   ]
  },
  {
   "cell_type": "code",
   "execution_count": 114,
   "metadata": {},
   "outputs": [
    {
     "data": {
      "text/plain": [
       "\n",
       "   6   11    1    4    3    2    8    9   10    7    5    0 \n",
       "  29   35   53  191  232  329  386  681  786 1461 2052 3065 "
      ]
     },
     "metadata": {},
     "output_type": "display_data"
    }
   ],
   "source": [
    "sort(table(dt$relChr))"
   ]
  },
  {
   "cell_type": "markdown",
   "metadata": {},
   "source": [
    "Or reverse it in order to return the frequencies of occurence from highest to lowest:"
   ]
  },
  {
   "cell_type": "code",
   "execution_count": 115,
   "metadata": {},
   "outputs": [
    {
     "data": {
      "text/plain": [
       "\n",
       "   0    5    7   10    9    8    2    3    4    1   11    6 \n",
       "3065 2052 1461  786  681  386  329  232  191   53   35   29 "
      ]
     },
     "metadata": {},
     "output_type": "display_data"
    }
   ],
   "source": [
    "rev(sort(table(dt$relChr)))"
   ]
  },
  {
   "cell_type": "markdown",
   "metadata": {},
   "source": [
    "This returns a barplot of the frequency distribution:"
   ]
  },
  {
   "cell_type": "code",
   "execution_count": 13,
   "metadata": {},
   "outputs": [
    {
     "data": {
      "image/png": "[encoded data removed]",
      "text/plain": [
       "Plot with title “Instances of Chromatic Relative Roots in the RS 5x20 Corpus (DT)”"
      ]
     },
     "metadata": {},
     "output_type": "display_data"
    }
   ],
   "source": [
    "barplot(table(dt$relChr), main=\"Instances of Chromatic Relative Roots in the RS 5x20 Corpus (DT)\", \n",
    "         ylab=\"frequency\", xlab=\"chromatic relative root\", ylim=c(0,3500), las=1)"
   ]
  },
  {
   "cell_type": "markdown",
   "metadata": {},
   "source": [
    "### Distribution of chromatic relative roots in the RS 5x20 corpus (DT's Analysis)\n",
    "\n",
    "**Table 3 in DeClercq + Temperley 2011, p. 60**\n",
    "\n",
    "This table shows:\n",
    "- frequencies of chrom. rel. roots\n",
    "- relative frequencies of chrom. rel. roots\n",
    "- number of songs that cover at least one of the chrom. rel. roots (RN \"I\" or relChr 0 in 99 instances of songs means: all songs include at least one tonic)"
   ]
  },
  {
   "cell_type": "markdown",
   "metadata": {},
   "source": [
    "Here's the frequency distribution table again. For columnar orientation of data, use function `cbind()` (which returns a matrix.)"
   ]
  },
  {
   "cell_type": "code",
   "execution_count": 117,
   "metadata": {},
   "outputs": [
    {
     "name": "stdout",
     "output_type": "stream",
     "text": [
      "   [,1]\n",
      "0  3065\n",
      "1    53\n",
      "2   329\n",
      "3   232\n",
      "4   191\n",
      "5  2052\n",
      "6    29\n",
      "7  1461\n",
      "8   386\n",
      "9   681\n",
      "10  786\n",
      "11   35\n"
     ]
    }
   ],
   "source": [
    "print(cbind(table(dt$relChr)))"
   ]
  },
  {
   "cell_type": "code",
   "execution_count": null,
   "metadata": {},
   "outputs": [],
   "source": [
    "instances <- cbind(table(dt$relChr))"
   ]
  },
  {
   "cell_type": "markdown",
   "metadata": {},
   "source": [
    "Create a table of relative frequencies by the additional function `prop.table()`:"
   ]
  },
  {
   "cell_type": "code",
   "execution_count": 16,
   "metadata": {},
   "outputs": [
    {
     "name": "stdout",
     "output_type": "stream",
     "text": [
      "          [,1]\n",
      "0  0.329569892\n",
      "1  0.005698925\n",
      "2  0.035376344\n",
      "3  0.024946237\n",
      "4  0.020537634\n",
      "5  0.220645161\n",
      "6  0.003118280\n",
      "7  0.157096774\n",
      "8  0.041505376\n",
      "9  0.073225806\n",
      "10 0.084516129\n",
      "11 0.003763441\n"
     ]
    }
   ],
   "source": [
    "print(prop.table(cbind(table(dt$relChr))))"
   ]
  },
  {
   "cell_type": "markdown",
   "metadata": {},
   "source": [
    "Rounding these numbers to 3 decimal places is provided by additionl `round()`:"
   ]
  },
  {
   "cell_type": "code",
   "execution_count": 19,
   "metadata": {},
   "outputs": [
    {
     "name": "stdout",
     "output_type": "stream",
     "text": [
      "    [,1]\n",
      "0  0.330\n",
      "1  0.006\n",
      "2  0.035\n",
      "3  0.025\n",
      "4  0.021\n",
      "5  0.221\n",
      "6  0.003\n",
      "7  0.157\n",
      "8  0.042\n",
      "9  0.073\n",
      "10 0.085\n",
      "11 0.004\n"
     ]
    }
   ],
   "source": [
    "print(round(prop.table(cbind(table(dt$relChr))),3))"
   ]
  },
  {
   "cell_type": "code",
   "execution_count": 21,
   "metadata": {},
   "outputs": [],
   "source": [
    "prop <- round(prop.table(cbind(table(dt$relChr))),3)"
   ]
  },
  {
   "cell_type": "markdown",
   "metadata": {},
   "source": [
    "### Exercises for the next session:"
   ]
  },
  {
   "cell_type": "markdown",
   "metadata": {},
   "source": [
    "1. The calculations of \"Song instances\", i.e. the number of songs that cover at least one of the chrom. rel. roots, is a bit more tricky.   \n",
    "Your homework is to think of some code that provides these calculations.   \n",
    "Remember function `unique()` to extract unique elements of a vector ... that function may be useful.\n",
    "\n",
    "2. Combine \"Instances\", \"Proportion of total\" and \"Song instances\" to a single table that looks pretty much the same like table 3 in DeClercq + Temperley, p.60.\n",
    "\n",
    "3. This is a pencil and paper exercise. Take a close look at the data frame and think of a strategy to indentify and annotate all pre- and all post-tonics of songs. Pre-tonics mean: antecedent chords of tonics, post-tonics mean  consequent chords of tonics.   \n",
    "Annotation should be provided in separate columns for pre- and post-tonics.  \n",
    "Draw a sketch of your strategy, or write a \"recipe\" to achieve correct annotations."
   ]
  }
 ],
 "metadata": {
  "kernelspec": {
   "display_name": "R",
   "language": "R",
   "name": "ir"
  },
  "language_info": {
   "codemirror_mode": "r",
   "file_extension": ".r",
   "mimetype": "text/x-r-source",
   "name": "R",
   "pygments_lexer": "r",
   "version": "3.5.1"
  }
 },
 "nbformat": 4,
 "nbformat_minor": 2
}
