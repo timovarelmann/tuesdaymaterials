{
 "cells": [
  {
   "cell_type": "markdown",
   "metadata": {},
   "source": [
    "# Exercise Beatles Song Length\n",
    "\n",
    "This exercise draws on the case study discussion \"The Beatles' Song Length\" in N.A. Weiss (2017): Introductory Statistics. 10th ed., Harlow: Pearson (page 176).\n",
    "\n",
    "Required data file: Beatles_Case_Study_Weiss2017.csv (from [WeissStats Ressource Site](https://media.pearsoncmg.com/intl/ge/2017/cws/ema_ge_weiss_introstats_10/cw/datasets.html), retrieved   28 october 2018).\n",
    "\n",
    "Required packages: none\n",
    "\n",
    "Edited by: timo.varelmann@uni-koeln.de"
   ]
  },
  {
   "cell_type": "markdown",
   "metadata": {},
   "source": [
    "## 1. Read the csv-file correctly into the active workspace, assign it to an object named *beatles*"
   ]
  },
  {
   "cell_type": "markdown",
   "metadata": {},
   "source": [
    "The data frame gives the length of songs (in seconds) by album:\n",
    "1. Please Please Me (PPM)\n",
    "2. With the Beatles (WTB)\n",
    "3. A Hard Day's Night (HDN)\n",
    "4. Beatles for Sale (BFD)\n",
    "5. Help! (HLP)\n",
    "6. Rubber Soul (RBS)\n",
    "7. Revolver (RVR)\n",
    "8. Sgt. Pepper's Lonely Hearts Club Band (SPL)\n",
    "9. The Beatles (TBS)\n",
    "10. Yellow Submarine (YSB)\n",
    "11. Abbey Road (ABR)\n",
    "12. Let It Be (LIB)\n",
    "\n",
    "Columns 1 to 12 are ordered by release date.\n",
    "\n",
    "Column 13 gives lengths of all songs of all albums, column 14 provides their respective album names. We will consider these columns as redundand and will not make use of them."
   ]
  },
  {
   "cell_type": "markdown",
   "metadata": {},
   "source": [
    "### 1. Determine the median and mean song length of all albums. \n",
    "Tip: Make use of the apply-funtion, see documentation `?apply`"
   ]
  },
  {
   "cell_type": "markdown",
   "metadata": {},
   "source": [
    "### 2. Construct a barplot with album name on the x axis and median or mean song length on the y axis. Interpret the data.\n",
    "\n",
    "To do so, use your resulting `apply()` function in exercise 1 as argument for the barplot-function: `barplot(apply(...))`; "
   ]
  },
  {
   "cell_type": "markdown",
   "metadata": {},
   "source": [
    "### 3. Determine the range ($max-min$) of song length for each album"
   ]
  },
  {
   "cell_type": "markdown",
   "metadata": {},
   "source": [
    "### 4. Construct a barplot of ranges of song length for each album. Interpret your graph."
   ]
  },
  {
   "cell_type": "markdown",
   "metadata": {},
   "source": [
    "### 5. Determine the quartiles of song length for each album."
   ]
  },
  {
   "cell_type": "markdown",
   "metadata": {},
   "source": [
    "### 6. Determine the IQR of song length for each album."
   ]
  },
  {
   "cell_type": "markdown",
   "metadata": {},
   "source": [
    "### 7. Construct a single boxplot for song length of each album. Interpret the results in terms of variation of song lengths.\n",
    "\n",
    "... and no: don't use the apply-function here."
   ]
  }
 ],
 "metadata": {
  "kernelspec": {
   "display_name": "R",
   "language": "R",
   "name": "ir"
  },
  "language_info": {
   "codemirror_mode": "r",
   "file_extension": ".r",
   "mimetype": "text/x-r-source",
   "name": "R",
   "pygments_lexer": "r",
   "version": "3.5.1"
  }
 },
 "nbformat": 4,
 "nbformat_minor": 2
}
