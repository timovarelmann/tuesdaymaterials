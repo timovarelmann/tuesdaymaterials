{
 "cells": [
  {
   "cell_type": "markdown",
   "metadata": {},
   "source": [
    "# R-Tutorial Data Description: Mit R entlang Gonick und Smith 2005, Kap. 2\n",
    "Das Classroom - Experiment"
   ]
  },
  {
   "cell_type": "markdown",
   "metadata": {},
   "source": [
    "Erstellt: 22.05.2015  \n",
    "Jupyter-Übetragung: 18.12.2018     \n",
    "Autor: timo.varelmann@uni-koeln.de\n",
    "\n",
    "Benötigter Datensatz: classroom.csv\n",
    "\n",
    "Benötigte Pakete: keine\n",
    "\n",
    "Referenz: Gonick, Larry & Woolcott Smith (2005): The Cartoon Guide to Statistics. New York: Harper."
   ]
  },
  {
   "cell_type": "markdown",
   "metadata": {},
   "source": [
    "[1. Vorbereitungen](#vor)  \n",
    "[1.1. Einlesen der Daten](#ein)  \n",
    "[1.2 Inspektion des Datensatzes](#insp)  \n",
    "[1.3 Faktorisierung](#fact)  \n",
    "\n",
    "[2. Data Description](#descr)   \n",
    "[2.1 Dot Plot (p.9)](#dot)  \n",
    "[2.1.1. Speichern einzelner Graphiken im pdf- oder jpeg-Format](#save)  \n",
    "[2.2 Häufigkeitstabelle und Histogramm (p.10-11)](#haeuf)   \n",
    "[2.2.1 Häufigkeitstabellen](#table)   \n",
    "[2.2.1.1 Häufigkeitstabelle mit Klassenintervallen à la Gonick + Smith](#classt)  \n",
    "[2.2.1.2. Speichern der Häufigkeitstabelle](#save_t)  \n",
    "[2.2.2 Das Histogramm](#hist)  \n",
    "[2.3 Stem and Leaf Diagram (p.12)](#stem)  \n",
    "[2.3.1. Speichern des Outputs einer Code-Zelle](#capture)  \n",
    "[2.4 Lage- und Streuungsparameter (p.14-25)](#para)  \n",
    "[2.4.1 Das arithmetische Mittel](#mean)  \n",
    "[2.4.2 Der Median, Quartilen,...](#median)  \n",
    "[2.4.3 Der Modalwert](#modus)  \n",
    "[2.4.4 Interquartilsabstand und Box and Whiskers Plot](#iqr)  \n",
    "[2.4.5 Varianz und Standardabweichung](#var)  \n",
    "[2.4.6 Die z-Transformation](#z)"
   ]
  },
  {
   "cell_type": "markdown",
   "metadata": {},
   "source": [
    "## Vorbereitungen<a name =\"vor\">\n",
    "### Einlesen der Daten<a name=\"ein\">\n",
    "    \n",
    "csv-Datenformate werden mit der Funktion `read-csv()` eingelesen:"
   ]
  },
  {
   "cell_type": "code",
   "execution_count": 44,
   "metadata": {},
   "outputs": [],
   "source": [
    "classroom <- read.csv(\"Classroom.csv\", sep=\";\")"
   ]
  },
  {
   "cell_type": "markdown",
   "metadata": {},
   "source": [
    "Das Argument `sep=\";\"` : Beim Speichern der Tabelle im CSV-Format wurden die Daten mit einem Semikolon getrennt. Diese Information benötigt R, um die Daten richtig einzulesen. Bei Tab-getrennten Werten nutze z.B. das Argument `sep=\"\\t\"`\n",
    "\n",
    "Alternative Funktion: `read.csv2()`"
   ]
  },
  {
   "cell_type": "code",
   "execution_count": 45,
   "metadata": {},
   "outputs": [],
   "source": [
    "classroom <- read.csv2(\"Classroom.csv\")"
   ]
  },
  {
   "cell_type": "markdown",
   "metadata": {},
   "source": [
    "Aus der R-Dokumentation: \"csv2 uses a comma for the decimal point and a semicolon for the separator, the Excel convention for CSV files in some Western European locales.\"\n",
    "\n",
    "Weitere wichtige Argumente zum Einlesen von Dateien:\n",
    "- `dec=\",\"` : Rationale Zahlen werden in R mit dem Punkt getrennt (0.5). Wenn die einzulesende Datei das Komma verwenden (0,5), benötigt R diese Info\n",
    "- `fill = TRUE / FALSE` (alternativ fill = T / F): Sind die Kolumnen/Zeilen der Tabelle nicht gleichlang oder befinden sich Überschriften in der Datei, kann das Einlesen scheitern. Mit fill=T werden fehlende Werte durch NA ergänzt\n",
    "- `header = T / F` : Enthält die erste Zeile keine Variablennamen, nutze das Argument header = F . Default ist header = T .\n",
    "\n",
    "Mehr Info? ->  Nutze z.B. die Eingabe ?Befehl, hier also"
   ]
  },
  {
   "cell_type": "code",
   "execution_count": null,
   "metadata": {},
   "outputs": [],
   "source": [
    "?read.csv"
   ]
  },
  {
   "cell_type": "markdown",
   "metadata": {},
   "source": [
    "Vergleiche z.B."
   ]
  },
  {
   "cell_type": "code",
   "execution_count": null,
   "metadata": {},
   "outputs": [],
   "source": [
    "test1 <- read.csv(\"Classroom.csv\", sep=\";\", header=F)\n",
    "print(head(test1))\t\t# Ihr seht in Zeile 1, die Variablennamen sind fälschlicherweile Werte\n",
    "class(test1) \t# ist Data Frame\n",
    "class(test1$V2)\t# \"Gewicht\" ist wie alle Werte der Spalte 1 ein Faktor!"
   ]
  },
  {
   "cell_type": "markdown",
   "metadata": {},
   "source": [
    "mit dem bereits vorhandenen Data Frame `classroom`:"
   ]
  },
  {
   "cell_type": "code",
   "execution_count": null,
   "metadata": {},
   "outputs": [],
   "source": [
    "print(head(classroom))\t\t # wie gewünscht!\n",
    "class(classroom$Gewicht) # Alle Werte der Spalte 1 sind ganze Zahlen. Males ist wie gewünscht Variablenname"
   ]
  },
  {
   "cell_type": "markdown",
   "metadata": {},
   "source": [
    "Lösche jetzt test1 wieder ..."
   ]
  },
  {
   "cell_type": "code",
   "execution_count": 48,
   "metadata": {},
   "outputs": [],
   "source": [
    "rm(test1)"
   ]
  },
  {
   "cell_type": "code",
   "execution_count": null,
   "metadata": {},
   "outputs": [],
   "source": [
    "test1 \t# ist jetzt gelöscht\n",
    "ls()\t\t# zeigt alle Objekte im aktuellen Workspace an, \n",
    "            # d.h. alle in der aktuellen Sitzung erstellten Objekte plus evtl. geladene Objekte.\n",
    "\t\t    # test1 erscheint nicht mehr"
   ]
  },
  {
   "cell_type": "markdown",
   "metadata": {},
   "source": [
    "und führe eine weitere Inspektion des Data frame durch: hier sind einige Funktionen:"
   ]
  },
  {
   "cell_type": "markdown",
   "metadata": {},
   "source": [
    "### 1.2 Inspektion des Datensatzes <a name=\"insp\">"
   ]
  },
  {
   "cell_type": "code",
   "execution_count": null,
   "metadata": {},
   "outputs": [],
   "source": [
    "print(head(classroom))\t\t\t# Zeigt die Variablennamen + ersten 6 Zeilen des Data frame\n",
    "print(tail(classroom))\t\t\t# Zeigt die letzten 6 Zeilen des Data frame"
   ]
  },
  {
   "cell_type": "code",
   "execution_count": null,
   "metadata": {},
   "outputs": [],
   "source": [
    "print(nrow(classroom))\t\t\t# alle Spalten sind gleichlang! length(classroom$Gewicht) ==  length(classroom$Geschlecht)\n",
    "print(ncol(classroom))\t\t\t# Anzahl der Spalten\n",
    "print(names(classroom))\t\t    # Spaltennamen / Variablennamen\n",
    "print(colnames(classroom))\t\t# same!"
   ]
  },
  {
   "cell_type": "code",
   "execution_count": null,
   "metadata": {},
   "outputs": [],
   "source": [
    "class(classroom$Gewicht)\t# welche Klasse hat die Variable Gewicht?\n",
    "class(classroom$Geschlecht)\t# welche Klasse hat die Variable Geschlecht?\n",
    "sapply(classroom, class)\t# Bedeutet: führe an dem Objekt classroom die Funktion class() für alle Spalten aus!\n",
    "\t\t\t\t\t        # Ausgabe ist ein Vektor\n",
    "str(classroom)\t\t\t# Zeigt die Struktur des data frame"
   ]
  },
  {
   "cell_type": "markdown",
   "metadata": {},
   "source": [
    "### 1.3 Faktorisierung <a name=\"fact\">\n",
    "Da die unabhängige Variable Geschlecht diskret ausgeprägt ist, wandelt sie zum Faktor um:"
   ]
  },
  {
   "cell_type": "code",
   "execution_count": 49,
   "metadata": {},
   "outputs": [],
   "source": [
    "classroom$Geschlecht <- factor(classroom$Geschlecht)\t"
   ]
  },
  {
   "cell_type": "markdown",
   "metadata": {},
   "source": [
    "Überprüfung:"
   ]
  },
  {
   "cell_type": "code",
   "execution_count": null,
   "metadata": {},
   "outputs": [],
   "source": [
    "class(classroom$Geschlecht)\n",
    "sapply(classroom, class)\t\n",
    "str(classroom)\t"
   ]
  },
  {
   "cell_type": "markdown",
   "metadata": {},
   "source": [
    "## 2. Data Description <a name=\"descr\">"
   ]
  },
  {
   "cell_type": "markdown",
   "metadata": {},
   "source": [
    "### 2.1 Dot Plot (p.9)<a name=\"dot\">\n",
    "\n",
    "Da der DotPlot recht selten benutzt wird, erkläre ich den Befehl stripchart nicht so ausführlich. Wenn Ihr aber wollt, gebt ?stripchart ein und schaut Euch die möglichen Argumente an / probiert sie aus."
   ]
  },
  {
   "cell_type": "code",
   "execution_count": null,
   "metadata": {},
   "outputs": [],
   "source": [
    "stripchart(classroom$Gewicht, method=\"stack\")\t\t\t# Methode stack: Datenpunkte werden übereinander gezeichnet"
   ]
  },
  {
   "cell_type": "code",
   "execution_count": null,
   "metadata": {},
   "outputs": [],
   "source": [
    "stripchart(classroom$Gewicht, method=\"stack\", pch = 20)\t# mit Spezifizierung point character (pch)"
   ]
  },
  {
   "cell_type": "code",
   "execution_count": null,
   "metadata": {},
   "outputs": [],
   "source": [
    "stripchart(classroom$Gewicht , method = \"stack\", pch = 20, xlab=\"Weight in Pounds\") # mit x-Achsenbeschriftung"
   ]
  },
  {
   "cell_type": "markdown",
   "metadata": {},
   "source": [
    "besser noch das at=0 Argument mit einfügen:"
   ]
  },
  {
   "cell_type": "code",
   "execution_count": null,
   "metadata": {},
   "outputs": [],
   "source": [
    "stripchart(classroom$Gewicht , method = \"stack\", xlab=\"Weight in Pounds\", at=0, pch = 20)"
   ]
  },
  {
   "cell_type": "markdown",
   "metadata": {},
   "source": [
    "Zum Abschluss noch ein paar graphische Erweiterungen bzw. Verschönerungen:\n",
    "- `frame=F`: zeichnet keinen Rahmen\n",
    "- `xlim=n mit n als Vektor aus zwei Zahlen, die den tiefsten und den höchsten angezeigten Wert der x-Achse bestimmen (zu merken: limes: lat. Grenze)"
   ]
  },
  {
   "cell_type": "code",
   "execution_count": null,
   "metadata": {},
   "outputs": [],
   "source": [
    "stripchart(classroom$Gewicht, method = \"stack\", pch=20, at=0, frame=F, xlim=c(80,220), xlab=\"Weight in Pounds\")"
   ]
  },
  {
   "cell_type": "markdown",
   "metadata": {},
   "source": [
    "#### 2.1.1. Speichern einzelner Graphiken im pdf- oder jpeg-Format<a name=\"save\">\n",
    "\n",
    "Speichern einer aktivierten Graphik als pdf (wohin? -> working directory) unter dem Dateinamen dotplot.pdf durch Eingabe folgender Befehlszeilen:"
   ]
  },
  {
   "cell_type": "code",
   "execution_count": null,
   "metadata": {},
   "outputs": [],
   "source": [
    "stripchart(classroom$Gewicht, method = \"stack\", pch=20, at=0, frame=F, xlim=c(80,220), xlab=\"Weight in Pounds\")\n",
    "dev.copy(pdf,\"dotplot.pdf\")\t # Kopieren aktivierter Graphik nach Datei ~/dotplot.pfd\n",
    "dev.off()\t                 # der Speichervorgang wird erst jetzt abgeschlossen!"
   ]
  },
  {
   "cell_type": "markdown",
   "metadata": {},
   "source": [
    "Speichern einer aktivierten Graphik als jpeg (wohin? -> working directory) unter dem Dateinamen dotplot.jpg durch Eingabe folgender Befehlszeilen:"
   ]
  },
  {
   "cell_type": "code",
   "execution_count": null,
   "metadata": {},
   "outputs": [],
   "source": [
    "stripchart(classroom$Gewicht, method = \"stack\", pch=20, at=0, frame=F, xlim=c(80,220), xlab=\"Weight in Pounds\")\n",
    "dev.copy(jpeg,\"dotplot.jpg\")\t\n",
    "dev.off()"
   ]
  },
  {
   "cell_type": "markdown",
   "metadata": {},
   "source": [
    "### 2.2 Häufigkeitstabelle und Histogramm (p.10-11)<a name=\"haeuf\">"
   ]
  },
  {
   "cell_type": "markdown",
   "metadata": {},
   "source": [
    "### 2.2.1 Häufigkeitstabellen (p. 10)<a name =\"table\">\n",
    "Ihr habt bereits den Befehl `table()` kennengelernt. Er gibt absolute Häufigkeiten von jedem Wert an:"
   ]
  },
  {
   "cell_type": "code",
   "execution_count": 10,
   "metadata": {},
   "outputs": [
    {
     "data": {
      "text/plain": [
       "\n",
       " 95 102 108 110 112 115 116 118 120 121 122 123 125 130 131 133 135 136 138 140 \n",
       "  1   1   2   2   1   2   2   2   3   1   1   1   5   5   1   1   3   1   2   4 \n",
       "142 145 148 150 153 155 157 160 164 165 170 175 180 185 190 195 215 \n",
       "  1   5   1  10   1  10   1   4   1   1   4   2   3   1   4   1   1 "
      ]
     },
     "metadata": {},
     "output_type": "display_data"
    }
   ],
   "source": [
    "table(classroom$Gewicht)"
   ]
  },
  {
   "cell_type": "code",
   "execution_count": 8,
   "metadata": {},
   "outputs": [
    {
     "data": {
      "text/plain": [
       "          Gewicht\n",
       "Geschlecht 95 102 108 110 112 115 116 118 120 121 122 123 125 130 131 133 135\n",
       "         1  0   0   0   0   0   0   0   0   0   0   0   1   0   2   0   0   2\n",
       "         2  1   1   2   2   1   2   2   2   3   1   1   0   5   3   1   1   1\n",
       "          Gewicht\n",
       "Geschlecht 136 138 140 142 145 148 150 153 155 157 160 164 165 170 175 180 185\n",
       "         1   1   1   3   1   4   1   7   1  10   1   4   1   1   4   2   3   1\n",
       "         2   0   1   1   0   1   0   3   0   0   0   0   0   0   0   0   0   0\n",
       "          Gewicht\n",
       "Geschlecht 190 195 215\n",
       "         1   4   1   1\n",
       "         2   0   0   0"
      ]
     },
     "metadata": {},
     "output_type": "display_data"
    }
   ],
   "source": [
    "table(classroom)\t# gibt zudem die Häufigkeiten der Gewichte nach Gechlecht an!"
   ]
  },
  {
   "cell_type": "markdown",
   "metadata": {},
   "source": [
    "#### 2.2.1.1 Häufigkeitstabelle mit Klassenintervallen à la Gonick + Smith<a name=\"classt\">\n",
    "Es soll nun zunächst eine Sequenz mit den Werten 87.5 , 102.5, 117.5, ..., 222.5 erstellt werden, also eine Sequenz von 87.5 bis 222.5 in 15er Schritten.\n",
    "\n",
    "Diese Werte sollen die Intervallgrenzen spezifizieren"
   ]
  },
  {
   "cell_type": "code",
   "execution_count": null,
   "metadata": {},
   "outputs": [],
   "source": [
    "classIntervals <- seq(87.5, 222.5, by=15)\n",
    "#classIntervals "
   ]
  },
  {
   "cell_type": "code",
   "execution_count": null,
   "metadata": {},
   "outputs": [],
   "source": [
    "classroom.cut <- cut(classroom$Gewicht, breaks=classIntervals, dig.lab=4)"
   ]
  },
  {
   "cell_type": "code",
   "execution_count": null,
   "metadata": {},
   "outputs": [],
   "source": [
    "table(classroom.cut)"
   ]
  },
  {
   "cell_type": "code",
   "execution_count": null,
   "metadata": {},
   "outputs": [],
   "source": [
    "hist(classroom$Gewicht, breaks=classIntervals)"
   ]
  },
  {
   "cell_type": "markdown",
   "metadata": {},
   "source": [
    "Nun sollen alle Daten den oben spezifizierten Intervallen nach klassifiziert werden.\n",
    "\n",
    "Hierzu kann der `cut()`-Befehl genutzt werden, der einen Zahlenvektor in Intervallklassen unterteilt.\n",
    "\n",
    "Jeder Wert des Zahlenvektors wird genau dem Intervall zuordnet, in das es fällt.\n",
    "\n",
    "Ausgabe ist ein Faktor mit diskreten Intervallklassen"
   ]
  },
  {
   "cell_type": "code",
   "execution_count": null,
   "metadata": {},
   "outputs": [],
   "source": [
    "classroom.cut <- cut(classroom$Gewicht, breaks=classIntervals, dig.lab = 4)\n",
    "print(classroom.cut)"
   ]
  },
  {
   "cell_type": "markdown",
   "metadata": {},
   "source": [
    "Was ist passiert?\n",
    "\n",
    "Beispiel: erster Wert aus `classroom$Gewicht`"
   ]
  },
  {
   "cell_type": "code",
   "execution_count": null,
   "metadata": {},
   "outputs": [],
   "source": [
    "classroom$Gewicht[1]"
   ]
  },
  {
   "cell_type": "markdown",
   "metadata": {},
   "source": [
    "wird zugeordnet dem Intervall:"
   ]
  },
  {
   "cell_type": "code",
   "execution_count": null,
   "metadata": {},
   "outputs": [],
   "source": [
    "classroom.cut[1]"
   ]
  },
  {
   "cell_type": "markdown",
   "metadata": {},
   "source": [
    "Klammer `(` bedeutet: exklusive Intervallgrenze links  \n",
    "Klammer `]` bedeutet: inklusive Intervallgrenze rechts"
   ]
  },
  {
   "cell_type": "markdown",
   "metadata": {},
   "source": [
    "Nun kann eine Häufigkeitstabelle mit dem Vektor classroom.cut erstellt werden:"
   ]
  },
  {
   "cell_type": "code",
   "execution_count": null,
   "metadata": {},
   "outputs": [],
   "source": [
    "table(classroom.cut)"
   ]
  },
  {
   "cell_type": "markdown",
   "metadata": {},
   "source": [
    "Die Tabelle soll entsprechend Gonick + Smith angeordnet werden:"
   ]
  },
  {
   "cell_type": "code",
   "execution_count": 72,
   "metadata": {},
   "outputs": [
    {
     "name": "stdout",
     "output_type": "stream",
     "text": [
      "              [,1]\n",
      "(87.5,102.5]     2\n",
      "(102.5,117.5]    9\n",
      "(117.5,132.5]   19\n",
      "(132.5,147.5]   17\n",
      "(147.5,162.5]   27\n",
      "(162.5,177.5]    8\n",
      "(177.5,192.5]    8\n",
      "(192.5,207.5]    1\n",
      "(207.5,222.5]    1\n"
     ]
    }
   ],
   "source": [
    "freq <- cbind(table(classroom.cut))\n",
    "print(freq)"
   ]
  },
  {
   "cell_type": "markdown",
   "metadata": {},
   "source": [
    "Nun noch die Spaltenüberschrift:"
   ]
  },
  {
   "cell_type": "code",
   "execution_count": null,
   "metadata": {},
   "outputs": [],
   "source": [
    "colnames(freq) <- \"Frequency\"\n",
    "print(freq)"
   ]
  },
  {
   "cell_type": "markdown",
   "metadata": {},
   "source": [
    "Nun soll eine Spalte hinzugefügt werden, welche die relativen Häufigkeiten der Werte eines Klassenintervalls darstellt:\n",
    "\n",
    "Errechnung durch Teilen der abs. Häufigkeiten durch die Summe aller Werte"
   ]
  },
  {
   "cell_type": "code",
   "execution_count": null,
   "metadata": {},
   "outputs": [],
   "source": [
    "table(classroom.cut) / length(classroom.cut)"
   ]
  },
  {
   "cell_type": "markdown",
   "metadata": {},
   "source": [
    "Hierzu kann auch die Funktion `prop.table()` genutzt werden:"
   ]
  },
  {
   "cell_type": "code",
   "execution_count": null,
   "metadata": {},
   "outputs": [],
   "source": [
    "prop.table(table(classroom.cut))"
   ]
  },
  {
   "cell_type": "markdown",
   "metadata": {},
   "source": [
    "Nun auch hier in die entsprechende Tabellenform gebracht, gerundet und mit Überschrift versehen:"
   ]
  },
  {
   "cell_type": "code",
   "execution_count": null,
   "metadata": {},
   "outputs": [],
   "source": [
    "gew.rel <- cbind(prop.table(table(classroom.cut)))\n",
    "gew.rel <- round(gew.rel,3)\n",
    "colnames(gew.rel) <- \"Rel.Frequency\"\n",
    "print(gew.rel)"
   ]
  },
  {
   "cell_type": "markdown",
   "metadata": {},
   "source": [
    "Schließlich fügt beide Tabellen zusammen:"
   ]
  },
  {
   "cell_type": "code",
   "execution_count": null,
   "metadata": {},
   "outputs": [],
   "source": [
    "mytable <- cbind(freq, gew.rel)\n",
    "print(mytable)"
   ]
  },
  {
   "cell_type": "markdown",
   "metadata": {},
   "source": [
    "#### 2.2.1.2. Speichern der Häufigkeitstabelle<a name=\"save_t\">\n",
    "Speichern im txt-Format (Tab-getrennt), Dateiname: Frequency.Table.txt, Ort: working directory"
   ]
  },
  {
   "cell_type": "code",
   "execution_count": null,
   "metadata": {},
   "outputs": [],
   "source": [
    "write.table(mytable, \"Frequency.Table.txt\", quote=F, sep=\"\\t\")\t"
   ]
  },
  {
   "cell_type": "markdown",
   "metadata": {},
   "source": [
    "Bei `quote=TRUE` würden die Intervallspezifizierungen in Anführungsstriche gesetzt"
   ]
  },
  {
   "cell_type": "markdown",
   "metadata": {},
   "source": [
    "### 2.2.2 Das Histogramm (p.11)<a name=\"hist\">"
   ]
  },
  {
   "cell_type": "markdown",
   "metadata": {},
   "source": [
    "Die Funktion lautet: `hist()`"
   ]
  },
  {
   "cell_type": "code",
   "execution_count": null,
   "metadata": {},
   "outputs": [],
   "source": [
    "hist(classroom$Gewicht)\t# mit auf der x-Achse: Intervallgrößen der Klassen; y-Achse: Häufigkeiten der Klassen"
   ]
  },
  {
   "cell_type": "markdown",
   "metadata": {},
   "source": [
    "Über das breaks-Argument können die Intervallgrößen der Klassen auf der x-Achse spezifiziert werden. Wird breaks durch eine einzige Zahl definiert, so spezifiziert diese Zahl die Anzahl der Säulengrenzen. \n",
    "\n",
    "Der classroom-Datensatz wird mit 6 breaks angezeigt, das ergibt Säulenintervalle von 20. Wie sähe das Histogramm mit 3 breaks (doppelt so große Intervalle) oder 12 breaks (halb so große Intervalle) aus?"
   ]
  },
  {
   "cell_type": "code",
   "execution_count": null,
   "metadata": {},
   "outputs": [],
   "source": [
    "hist(classroom$Gewicht, breaks=3)"
   ]
  },
  {
   "cell_type": "code",
   "execution_count": null,
   "metadata": {},
   "outputs": [],
   "source": [
    "hist(classroom$Gewicht, breaks=12)"
   ]
  },
  {
   "cell_type": "markdown",
   "metadata": {},
   "source": [
    "Ein beträchtlicher Nachteil dieser Spezifizierungen ist, dass nur die Anzahl der breaks, nicht aber deren Position bestimmt wird und selbst die Anzahl nicht in allen Fällen spezifiziert werden kann! siehe"
   ]
  },
  {
   "cell_type": "code",
   "execution_count": null,
   "metadata": {},
   "outputs": [],
   "source": [
    "hist(classroom$Gewicht, breaks=5)"
   ]
  },
  {
   "cell_type": "markdown",
   "metadata": {},
   "source": [
    "ist gleich:"
   ]
  },
  {
   "cell_type": "code",
   "execution_count": null,
   "metadata": {},
   "outputs": [],
   "source": [
    "hist(classroom$Gewicht, breaks=7)"
   ]
  },
  {
   "cell_type": "markdown",
   "metadata": {},
   "source": [
    "LÖSUNG: ist breaks ein numerischer Vektor, nicht eine einfache Zahl, dann stellen alle Elemente des Vektors Intervallgrenzen dar"
   ]
  },
  {
   "cell_type": "code",
   "execution_count": null,
   "metadata": {},
   "outputs": [],
   "source": [
    "print(range(classroom$Gewicht))  #Vektor mit kleinstem und größtem Wert"
   ]
  },
  {
   "cell_type": "markdown",
   "metadata": {},
   "source": [
    "Histogramm mit einer einzigen Klasse, Intervallgröße = Spannweite (zugegeben: diese Darstellung macht wenig Sinn):"
   ]
  },
  {
   "cell_type": "code",
   "execution_count": null,
   "metadata": {},
   "outputs": [],
   "source": [
    "hist(classroom$Gewicht, breaks=range(classroom$Gewicht))"
   ]
  },
  {
   "cell_type": "markdown",
   "metadata": {},
   "source": [
    "Histogramm mit 2 beliebig gewählten Intervallen / Klassen:"
   ]
  },
  {
   "cell_type": "code",
   "execution_count": null,
   "metadata": {},
   "outputs": [],
   "source": [
    "hist(classroom$Gewicht, breaks=c(80,150,220))"
   ]
  },
  {
   "cell_type": "markdown",
   "metadata": {},
   "source": [
    "Hier noch ein Beispiel eines Histogramms mit 2 Klassen, Intervallgröße = halbe Spannweite"
   ]
  },
  {
   "cell_type": "code",
   "execution_count": null,
   "metadata": {},
   "outputs": [],
   "source": [
    "hist(classroom$Gewicht, breaks=c(range(classroom$Gewicht)[1], sum(range(classroom$Gewicht))/2, range(classroom$Gewicht)[2]))"
   ]
  },
  {
   "cell_type": "markdown",
   "metadata": {},
   "source": [
    "Nun sollen die Säulenintervalle entsprechend Gonick + Smiths angepasst werden. Hier wären das die Werte 87.5 , 102.5, 117.5, ..., 222.5  also eine Sequenz von 87.5 bis 222.5 in 15er Schritten"
   ]
  },
  {
   "cell_type": "code",
   "execution_count": null,
   "metadata": {},
   "outputs": [],
   "source": [
    "hist(classroom$Gewicht, breaks=seq(from=87.5, to=222.5, by=15))"
   ]
  },
  {
   "cell_type": "markdown",
   "metadata": {},
   "source": [
    "Nun noch die Beschriftungen:"
   ]
  },
  {
   "cell_type": "code",
   "execution_count": null,
   "metadata": {},
   "outputs": [],
   "source": [
    "hist(classroom$Gewicht, breaks=seq(87.5, 222.5, by=15), xlab=\"Weight in Pounds\", main=\"Histogram Classroom Experiment\")"
   ]
  },
  {
   "cell_type": "markdown",
   "metadata": {},
   "source": [
    "Und ein paar optische Verbesserungen. Die x-Achse wird zunächst nicht gezeichnet (`xaxt='n'`) und hinterher genau bestimmt und hinzugefügt:"
   ]
  },
  {
   "cell_type": "code",
   "execution_count": null,
   "metadata": {},
   "outputs": [],
   "source": [
    "hist(classroom$Gewicht, breaks=seq(87.5, 222.5, by=15), xaxt='n', ylim=c(0,30),xlab=\"Weight in Pounds\", \n",
    "\tmain=\"Histogram Classroom Experiment\", col=\"azure3\",las=1)\n",
    "    axis(side=1, at=seq(87.5, 222.5, by=15))"
   ]
  },
  {
   "cell_type": "markdown",
   "metadata": {},
   "source": [
    "Gebt ?hist ein, wenn Ihr weitere Argumente betrachten / auszuprobieren wollt"
   ]
  },
  {
   "cell_type": "markdown",
   "metadata": {},
   "source": [
    "### 2.3 Stem and Leaf Diagram (p.12) <a name=\"stem\">\n",
    "zu deutsch u.a. Stamm-Blatt-Diagramm\n",
    "    \n",
    "Funktion: `stem()`\n",
    "   "
   ]
  },
  {
   "cell_type": "code",
   "execution_count": null,
   "metadata": {},
   "outputs": [],
   "source": [
    "stem(classroom$Gewicht)"
   ]
  },
  {
   "cell_type": "markdown",
   "metadata": {},
   "source": [
    "Durch Bestimmung des Arguments `scale=2` wird die Stammlänge verdoppelt ==> gewünschte Stammeinheiten"
   ]
  },
  {
   "cell_type": "code",
   "execution_count": null,
   "metadata": {},
   "outputs": [],
   "source": [
    "stem(classroom$Gewicht, scale=2)"
   ]
  },
  {
   "cell_type": "markdown",
   "metadata": {},
   "source": [
    "Die Dezimalstelle befindet sich 1 Zahl rechts vom Trennungsstrich |   \n",
    "10 | 288 wird folglich interpretiert: der Datensatz enthält den Wert 102 einmal sowie den Wert 108 zweimal       "
   ]
  },
  {
   "cell_type": "markdown",
   "metadata": {},
   "source": [
    "#### 2.3.1. Speichern des Outputs einer Code-Zelle <a name=\"capture\">\n",
    "\n",
    "Die Möglichkeiten des Speicherns sind begrenzt, denn das Diagramm wird nicht als Graphik gezeichnet. Es ist lediglich der Output vorhanden.\n",
    "Dieser kann aber exportiert werden durch den `capture.output()`-Befehl\n",
    "\n",
    "Hierunter wird das Stamm-Blatt-Diagramm in eine Datei mit dem Namen \"Stem.Leaf.doc\" exportiert, Speicherort working directory:"
   ]
  },
  {
   "cell_type": "code",
   "execution_count": 91,
   "metadata": {},
   "outputs": [],
   "source": [
    "capture.output(stem(classroom$Gewicht,scale=2), file=\"Stem.Leaf.doc\")"
   ]
  },
  {
   "cell_type": "markdown",
   "metadata": {},
   "source": [
    "### 2.4 Lage- und Streuungsparameter (ab p.14)<a name=\"para\">\n",
    "    \n",
    "Gewicht ist verhältnisskaliert, entsprechend sollen einige bedeutsame statistische Berechungen durchgeführt werden.\n",
    "\n",
    "Zum Verringern der Schreibarbeit Teilmengen des Data Frame für männliche und weibliche Personen:"
   ]
  },
  {
   "cell_type": "code",
   "execution_count": 93,
   "metadata": {},
   "outputs": [],
   "source": [
    "class.male   <- classroom[which(classroom$Geschlecht == 1),]\n",
    "class.female <- classroom[which(classroom$Geschlecht == 2),]"
   ]
  },
  {
   "cell_type": "markdown",
   "metadata": {},
   "source": [
    "#### 2.4.1 Das arithmetische Mittel<a name=\"mean\">"
   ]
  },
  {
   "cell_type": "code",
   "execution_count": null,
   "metadata": {},
   "outputs": [],
   "source": [
    "mean(class.male$Gewicht)\t# Mittelwert der Männergewichte\n",
    "\n",
    "mean(class.female$Gewicht)\t# Mittelwert der Frauengewichte\n",
    "\n",
    "mean(classroom$Gewicht)\t\t# Mittelwert der angegebenen Gewichte der gesamten Schulklasse"
   ]
  },
  {
   "cell_type": "markdown",
   "metadata": {},
   "source": [
    "Bemerkung: In diesem Datensatz gibt es keine `NA`, nicht verfügbare Daten. Wäre dies der Fall, wäre das Ergebnis der Mittelwertbewerchnungen NA, also nicht verfügbar. \n",
    "\n",
    "Das Argument `na.rm=T` bzw. `na.rm=TRUE` würde hier Abhilfe verschaffen: bei der Berechnung des Mittelwerts würden NAs nicht berücksichtigt:"
   ]
  },
  {
   "cell_type": "code",
   "execution_count": null,
   "metadata": {},
   "outputs": [],
   "source": [
    "mean(classroom$Gewicht, na.rm=T)"
   ]
  },
  {
   "cell_type": "markdown",
   "metadata": {},
   "source": [
    "#### 2.4.2 Der Median, Quartilen, ...<a name=\"median\">"
   ]
  },
  {
   "cell_type": "code",
   "execution_count": null,
   "metadata": {},
   "outputs": [],
   "source": [
    "median(class.male$Gewicht)\t# Median der Männergewichte\n",
    "\n",
    "median(class.female$Gewicht)\t# Median der Frauengewichte\n",
    "\n",
    "median(classroom$Gewicht)\t# Median der angegebenen Gewichte der gesamten Schulklasse"
   ]
  },
  {
   "cell_type": "markdown",
   "metadata": {},
   "source": [
    "Die Funktion ´quantile()` gibt an: Kleinster Wert, 1., 2. (=Median), und 3. Quartil, Größter Wert, z.B."
   ]
  },
  {
   "cell_type": "code",
   "execution_count": 99,
   "metadata": {},
   "outputs": [
    {
     "name": "stdout",
     "output_type": "stream",
     "text": [
      "  0%  25%  50%  75% 100% \n",
      " 123  145  155  170  215 \n"
     ]
    }
   ],
   "source": [
    "print(quantile(class.male$Gewicht))"
   ]
  },
  {
   "cell_type": "markdown",
   "metadata": {},
   "source": [
    "Übersichtlicher, plus Angabe des Arithmetischen Mittels:"
   ]
  },
  {
   "cell_type": "code",
   "execution_count": 101,
   "metadata": {},
   "outputs": [
    {
     "data": {
      "text/plain": [
       "   Min. 1st Qu.  Median    Mean 3rd Qu.    Max. \n",
       "  123.0   145.0   155.0   158.3   170.0   215.0 "
      ]
     },
     "metadata": {},
     "output_type": "display_data"
    }
   ],
   "source": [
    "summary(class.male$Gewicht)"
   ]
  },
  {
   "cell_type": "markdown",
   "metadata": {},
   "source": [
    "### 2.4.3 Der Modalwert<a name=\"modus\">\n",
    "\n",
    "Der Modalwert/Modus wäre  150:"
   ]
  },
  {
   "cell_type": "code",
   "execution_count": null,
   "metadata": {},
   "outputs": [],
   "source": [
    "which.max(table(classroom$Gewicht))\t# zeigt an: Modus=150. Der 24. Wert in der Häufigkeitstabelle table(classroom$Gewicht)"
   ]
  },
  {
   "cell_type": "markdown",
   "metadata": {},
   "source": [
    "Und kann natürlich auch für die Geschlechter getrennt errechnet werden.\n",
    "\n",
    "Und nun noch meine eigene Modus-Funktion, mit welcher mehrere Modalwerte anzeigen kann"
   ]
  },
  {
   "cell_type": "code",
   "execution_count": null,
   "metadata": {},
   "outputs": [],
   "source": [
    "modus <- function(x) table(x)[which(table(x) == max(table(x)))]\n",
    "modus(classroom$Gewicht)"
   ]
  },
  {
   "cell_type": "markdown",
   "metadata": {},
   "source": [
    "Es gibt tatsächlich zwei Modalwerte 150 und 155 (mit der Häufigkeit 10)"
   ]
  },
  {
   "cell_type": "markdown",
   "metadata": {},
   "source": [
    "### 2.4.4 Interquartilsabstand und Box and Whiskers Plot (p.20-21)<a name=\"iqr\">\n",
    "\n",
    "Interquartile Range: $Q3-Q1$"
   ]
  },
  {
   "cell_type": "code",
   "execution_count": null,
   "metadata": {},
   "outputs": [],
   "source": [
    "IQR(classroom$Gewicht)"
   ]
  },
  {
   "cell_type": "markdown",
   "metadata": {},
   "source": [
    "Und schließlich der boxplot() Befehl"
   ]
  },
  {
   "cell_type": "code",
   "execution_count": null,
   "metadata": {},
   "outputs": [],
   "source": [
    "boxplot(classroom$Gewicht)"
   ]
  },
  {
   "cell_type": "markdown",
   "metadata": {},
   "source": [
    "Oder getreu der Graphik in Gonick + Smith:"
   ]
  },
  {
   "cell_type": "code",
   "execution_count": null,
   "metadata": {},
   "outputs": [],
   "source": [
    "boxplot(classroom$Gewicht, horizontal = TRUE)"
   ]
  },
  {
   "cell_type": "markdown",
   "metadata": {},
   "source": [
    "Getrennt nach Männer uns Frauen:"
   ]
  },
  {
   "cell_type": "code",
   "execution_count": null,
   "metadata": {},
   "outputs": [],
   "source": [
    "boxplot(class.male$Gewicht, class.female$Gewicht, names = c(\"Males\",\"Females\"), \n",
    "\tmain=\"Boxplot Classroom Experiment\", ylab=\"Weight in Pounds\")"
   ]
  },
  {
   "cell_type": "markdown",
   "metadata": {},
   "source": [
    "### 2.4.5 Varianz und Standardabweichung<a name=\"var\">\n",
    "\n",
    "Hier die Daten aus Gonick + Smith 2005, p. 22:"
   ]
  },
  {
   "cell_type": "code",
   "execution_count": null,
   "metadata": {},
   "outputs": [],
   "source": [
    "werte <- c(3,5,7,7,38)"
   ]
  },
  {
   "cell_type": "markdown",
   "metadata": {},
   "source": [
    "Die Varianz wird errechnet über den Befehl `var()` ..."
   ]
  },
  {
   "cell_type": "code",
   "execution_count": null,
   "metadata": {},
   "outputs": [],
   "source": [
    "var(werte)"
   ]
  },
  {
   "cell_type": "markdown",
   "metadata": {},
   "source": [
    "und die Standardabweichung über den Befehl `sd()`:"
   ]
  },
  {
   "cell_type": "code",
   "execution_count": null,
   "metadata": {},
   "outputs": [],
   "source": [
    "sd(werte)"
   ]
  },
  {
   "cell_type": "markdown",
   "metadata": {},
   "source": [
    "Sie ist die Quadratwurzel `sqrt()` der Varianz"
   ]
  },
  {
   "cell_type": "code",
   "execution_count": null,
   "metadata": {},
   "outputs": [],
   "source": [
    "sqrt(var(werte)) == sd(werte)"
   ]
  },
  {
   "cell_type": "markdown",
   "metadata": {},
   "source": [
    "Mit den Daten des Classroom Experiments:"
   ]
  },
  {
   "cell_type": "code",
   "execution_count": null,
   "metadata": {},
   "outputs": [],
   "source": [
    "mean(classroom$Gewicht)\n",
    "var(classroom$Gewicht)\n",
    "sd(classroom$Gewicht)"
   ]
  },
  {
   "cell_type": "markdown",
   "metadata": {},
   "source": [
    "Nun noch ein Säulendiagramm mit den Gewichts-Mittelwerten von Männern und Frauen"
   ]
  },
  {
   "cell_type": "code",
   "execution_count": null,
   "metadata": {},
   "outputs": [],
   "source": [
    "barplot(c(mean(class.male$Gewicht), mean(class.female$Gewicht)), ylim=c(0,200),\n",
    "\tnames.arg=c(\"males\",\"females\"), ylab=\"weight (pounds)\",main=\"Classroom Experiment: m/f Means\",\n",
    "\tcol=c(\"khaki2\",\"khaki3\"))"
   ]
  },
  {
   "cell_type": "markdown",
   "metadata": {},
   "source": [
    "### 2.4.6 Die z-Transformation (p.24)<a name=\"z\">\n",
    "\n",
    "Die Formel ist ja:   \n",
    "\n",
    "$\\frac{x_i - \\bar{x}}{s}$ \n",
    " \n",
    "(x-mittelwert)/standardabweichung  \n",
    "\n",
    "Z-Transformation für den Wert 175 bzgl. aller Gewichte der Klasse:"
   ]
  },
  {
   "cell_type": "code",
   "execution_count": null,
   "metadata": {},
   "outputs": [],
   "source": [
    "(175-mean(classroom$Gewicht))/sd(classroom$Gewicht)"
   ]
  },
  {
   "cell_type": "markdown",
   "metadata": {},
   "source": [
    "175 liegt in diesem Datensatz 1,2573 mal die Standardabweichung vom Mittelwert entfernt."
   ]
  },
  {
   "cell_type": "markdown",
   "metadata": {},
   "source": [
    "Noch eleganter wäre natürlich eine eigene z-Score-Funktion, die sich auf beliebige Datensätze übertragen ließe. Ein Standard-Befehl in R ist der `scale()`-Befehl, mit dem z-Werte für alle Zahlenvektorelemente errechnet werden:"
   ]
  },
  {
   "cell_type": "code",
   "execution_count": null,
   "metadata": {},
   "outputs": [],
   "source": [
    "print(scale(classroom$Gewicht))\t# Unterhalb der z-scores ist zusätzlich angegeben: mean und sd; Ausgabe als Matrix"
   ]
  },
  {
   "cell_type": "markdown",
   "metadata": {},
   "source": [
    "Hier eine eigene Funktion, mit der ganz einfach einzelne oder mehrere z-Werte errechnet werden können:"
   ]
  },
  {
   "cell_type": "code",
   "execution_count": 113,
   "metadata": {},
   "outputs": [],
   "source": [
    "zscore <- function(x,data) {\t\t# Erstelle eine Funktion zscore mit den Argumenten x und data in genau dieser Reihenfolge\n",
    "            dif <- x-mean(data)\t\t# Erster Schritt: Differenz von x und dem Mittelwert von data \n",
    "                                    # (Objekt dif befindet sich nur in der INTERNEN Umgebung dieser Funktion)\n",
    "            res <- dif/sd(data)\t\t# Zweiter Schritt: Resultat aus der Division Differenz / Standardabw. von data (\n",
    "                                    # (Objekt res befindet sich nur in der INTERNEN Umgebung dieser Funktion)\n",
    "            return(res)\t\t\t\t# gibt den/die Wert/e von res in die EXTERNE Umgebung aus\n",
    "          }"
   ]
  },
  {
   "cell_type": "code",
   "execution_count": null,
   "metadata": {},
   "outputs": [],
   "source": [
    "zscore(x=100,data=classroom$Gewicht)"
   ]
  },
  {
   "cell_type": "code",
   "execution_count": null,
   "metadata": {},
   "outputs": [],
   "source": [
    "zscore(200,classroom$Gewicht)          # Default- Reihenfolge der Argumente!"
   ]
  },
  {
   "cell_type": "markdown",
   "metadata": {},
   "source": [
    "200 Pfund: z-transformierte Werte für männliche und weibliche Personen:"
   ]
  },
  {
   "cell_type": "code",
   "execution_count": null,
   "metadata": {},
   "outputs": [],
   "source": [
    "zscore(200,class.male$Gewicht) ; zscore(200,class.female$Gewicht)"
   ]
  },
  {
   "cell_type": "markdown",
   "metadata": {},
   "source": [
    "Bedeutet:\n",
    "\n",
    "Männer: der Wert 200 Pfund liegt 2,23957 Standardabweichungen über dem Mittelwert der Gewichte aller Männer  \n",
    "Frauen: der Wert 200 Pfund liegt dagegen 5,69845 Standardabweichungen über dem Mittelwert der Gewichte aller Frauen"
   ]
  },
  {
   "cell_type": "code",
   "execution_count": null,
   "metadata": {},
   "outputs": [],
   "source": [
    "#### ENDE DES TUTORIALS #####"
   ]
  }
 ],
 "metadata": {
  "kernelspec": {
   "display_name": "R",
   "language": "R",
   "name": "ir"
  },
  "language_info": {
   "codemirror_mode": "r",
   "file_extension": ".r",
   "mimetype": "text/x-r-source",
   "name": "R",
   "pygments_lexer": "r",
   "version": "3.5.1"
  }
 },
 "nbformat": 4,
 "nbformat_minor": 2
}
