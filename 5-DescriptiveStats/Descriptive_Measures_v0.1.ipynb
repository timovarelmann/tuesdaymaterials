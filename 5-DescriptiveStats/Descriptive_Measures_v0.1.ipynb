{
 "cells": [
  {
   "cell_type": "markdown",
   "metadata": {},
   "source": [
    "# Measures of central tendency and dispersion\n",
    "\n",
    "Course: Elementary Statistics / R  \n",
    "Author: timo.varelmann@uni-koeln.de  \n",
    "Version: 0.1 Preliminary (Version 1.0 will cover all measures and visualisations after we've been dealing with them)  \n",
    "Date: 13.11.2018"
   ]
  },
  {
   "cell_type": "markdown",
   "metadata": {},
   "source": [
    "In descriptive statistics, we differentiate:\n",
    "- measures of central tendency (Lageparameter) like mode, median, mean\n",
    "- measures of dispersion (Streuungsparameter) like range, inter quartile range, variance or standard deviation.\n",
    "\n",
    "This notebook covers these measures."
   ]
  },
  {
   "cell_type": "markdown",
   "metadata": {},
   "source": [
    "### Frequency and mode\n",
    "\n",
    "Values may occur a single time or repeatedly. Say you encounter 6 swans whose is color is:"
   ]
  },
  {
   "cell_type": "code",
   "execution_count": 2,
   "metadata": {},
   "outputs": [],
   "source": [
    "swans <- c(\"white\", \"white\", \"black\",\"white\",\"white\",\"black\")"
   ]
  },
  {
   "cell_type": "markdown",
   "metadata": {},
   "source": [
    "Your observations can be summarised in a table:\n",
    "\n",
    "| black | white |\n",
    "|-------|-------|\n",
    "|   2   |   4   |\n",
    "\n",
    "In R, `table()` provides a summary table:"
   ]
  },
  {
   "cell_type": "code",
   "execution_count": 8,
   "metadata": {},
   "outputs": [
    {
     "data": {
      "text/plain": [
       "swans\n",
       "black white \n",
       "    2     4 "
      ]
     },
     "metadata": {},
     "output_type": "display_data"
    }
   ],
   "source": [
    "table(swans)"
   ]
  },
  {
   "cell_type": "markdown",
   "metadata": {},
   "source": [
    "The **mode** is the value that was observed most frequently. In the example above, the mode is \"white\":"
   ]
  },
  {
   "cell_type": "code",
   "execution_count": 20,
   "metadata": {},
   "outputs": [
    {
     "data": {
      "text/html": [
       "<strong>white:</strong> 2"
      ],
      "text/latex": [
       "\\textbf{white:} 2"
      ],
      "text/markdown": [
       "**white:** 2"
      ],
      "text/plain": [
       "white \n",
       "    2 "
      ]
     },
     "metadata": {},
     "output_type": "display_data"
    }
   ],
   "source": [
    "which.max(table(swans))"
   ]
  },
  {
   "cell_type": "markdown",
   "metadata": {},
   "source": [
    "`which.max(table())` returns:\n",
    "- the mode\n",
    "- the position of the mode within the frequency table (which is maximum? it's the second value of the table above)\n",
    "\n",
    "... `max(table())` would provide the highest number of oberservations."
   ]
  },
  {
   "cell_type": "markdown",
   "metadata": {},
   "source": [
    "This textbook-example of calculation of mode has some disadvantages:\n",
    "\n",
    "A piece of music shows the following chords:"
   ]
  },
  {
   "cell_type": "code",
   "execution_count": 18,
   "metadata": {},
   "outputs": [
    {
     "data": {
      "text/plain": [
       "chords\n",
       "a C d G \n",
       "1 2 1 2 "
      ]
     },
     "metadata": {},
     "output_type": "display_data"
    },
    {
     "data": {
      "text/html": [
       "<strong>C:</strong> 2"
      ],
      "text/latex": [
       "\\textbf{C:} 2"
      ],
      "text/markdown": [
       "**C:** 2"
      ],
      "text/plain": [
       "C \n",
       "2 "
      ]
     },
     "metadata": {},
     "output_type": "display_data"
    }
   ],
   "source": [
    "chords <- c(\"C\",\"G\",\"a\",\"d\",\"G\",\"C\")\n",
    "\n",
    "table(chords)\n",
    "\n",
    "which.max(table(chords))"
   ]
  },
  {
   "cell_type": "markdown",
   "metadata": {},
   "source": [
    "The mode actually is C and G, both chords have 2 obsersations.\n",
    "\n",
    "Functions of the which-family always take the first element for which the conditions hold. Within the frequency table, C is the leftmost or first value for which max(table()) applies.\n",
    "\n",
    "Here is my alternative function:"
   ]
  },
  {
   "cell_type": "code",
   "execution_count": 22,
   "metadata": {},
   "outputs": [],
   "source": [
    "modus <- function(x) table(x)[which(table(x) == max(table(x)))]"
   ]
  },
  {
   "cell_type": "code",
   "execution_count": 24,
   "metadata": {},
   "outputs": [
    {
     "data": {
      "text/plain": [
       "x\n",
       "C G \n",
       "2 2 "
      ]
     },
     "metadata": {},
     "output_type": "display_data"
    }
   ],
   "source": [
    "modus(chords)"
   ]
  },
  {
   "cell_type": "markdown",
   "metadata": {},
   "source": [
    "#### Relative frequency\n",
    "\n",
    "The relative frequency is calculated by:\n",
    "\n",
    "$\\frac{frequency}{sample size}$\n",
    "\n",
    "This can be literally translated to R code:"
   ]
  },
  {
   "cell_type": "code",
   "execution_count": 29,
   "metadata": {},
   "outputs": [
    {
     "data": {
      "text/plain": [
       "chords\n",
       "        a         C         d         G \n",
       "0.1666667 0.3333333 0.1666667 0.3333333 "
      ]
     },
     "metadata": {},
     "output_type": "display_data"
    }
   ],
   "source": [
    "table(chords)/length(chords)"
   ]
  },
  {
   "cell_type": "markdown",
   "metadata": {},
   "source": [
    "Alternatively, use function `prop.table(table())`:"
   ]
  },
  {
   "cell_type": "code",
   "execution_count": 34,
   "metadata": {},
   "outputs": [
    {
     "data": {
      "text/plain": [
       "chords\n",
       "        a         C         d         G \n",
       "0.1666667 0.3333333 0.1666667 0.3333333 "
      ]
     },
     "metadata": {},
     "output_type": "display_data"
    }
   ],
   "source": [
    "prop.table(table(chords))"
   ]
  },
  {
   "cell_type": "markdown",
   "metadata": {},
   "source": [
    "*Mode*\n",
    "\n",
    "In these examples, qualitative data have been used. For quantitative discrete data it also makes sense to calculate the mode. \n",
    "\n",
    "Regarding scales, calculation of the mode is meaningful for nominal scaled data (like chords, colour of swans, ...) and above (ordinal, interval, ratio)."
   ]
  },
  {
   "cell_type": "markdown",
   "metadata": {},
   "source": [
    "### Median, Quartiles, Ranges"
   ]
  },
  {
   "cell_type": "markdown",
   "metadata": {},
   "source": [
    "For ordinal scaled data and above, calculation of the median is meaningful.\n",
    "\n",
    "The median separates lower and upper half of an ordered set of observations.\n",
    "\n",
    "Take a look at this vector:"
   ]
  },
  {
   "cell_type": "code",
   "execution_count": 55,
   "metadata": {},
   "outputs": [],
   "source": [
    "myval <- c(1,3,8,3,4,5,6,2,9)"
   ]
  },
  {
   "cell_type": "markdown",
   "metadata": {},
   "source": [
    "To understand the calculation of the median, first arrange the numbers by order form smallest to largest value. Use function `sort()`"
   ]
  },
  {
   "cell_type": "code",
   "execution_count": 56,
   "metadata": {},
   "outputs": [
    {
     "name": "stdout",
     "output_type": "stream",
     "text": [
      "[1] 1 2 3 3 4 5 6 8 9\n"
     ]
    }
   ],
   "source": [
    "print(sort(myval))"
   ]
  },
  {
   "cell_type": "markdown",
   "metadata": {},
   "source": [
    "The value in the centre of the arranged data is the median. Here, it's 4.\n",
    "\n",
    "R provides function `median()`:"
   ]
  },
  {
   "cell_type": "code",
   "execution_count": 57,
   "metadata": {},
   "outputs": [
    {
     "data": {
      "text/html": [
       "4"
      ],
      "text/latex": [
       "4"
      ],
      "text/markdown": [
       "4"
      ],
      "text/plain": [
       "[1] 4"
      ]
     },
     "metadata": {},
     "output_type": "display_data"
    }
   ],
   "source": [
    "median(myval)"
   ]
  },
  {
   "cell_type": "markdown",
   "metadata": {},
   "source": [
    "Vector `myval` has 9 elements; what if a set of data has an even size?\n",
    "\n",
    "Take a look at this vector:"
   ]
  },
  {
   "cell_type": "code",
   "execution_count": 49,
   "metadata": {},
   "outputs": [
    {
     "name": "stdout",
     "output_type": "stream",
     "text": [
      "[1] 1 1 3 4 6 7\n"
     ]
    }
   ],
   "source": [
    "myval2 <- c(3,7,1,1,4,6)\n",
    "print(sort(myval2))"
   ]
  },
  {
   "cell_type": "markdown",
   "metadata": {},
   "source": [
    "Which value separates the ordered set of values into two equal sets? It must be a value between 3 and 4.\n",
    "\n",
    "This is calculated by:"
   ]
  },
  {
   "cell_type": "code",
   "execution_count": 51,
   "metadata": {},
   "outputs": [
    {
     "data": {
      "text/html": [
       "3.5"
      ],
      "text/latex": [
       "3.5"
      ],
      "text/markdown": [
       "3.5"
      ],
      "text/plain": [
       "[1] 3.5"
      ]
     },
     "metadata": {},
     "output_type": "display_data"
    }
   ],
   "source": [
    "(3+4)/2"
   ]
  },
  {
   "cell_type": "code",
   "execution_count": 53,
   "metadata": {},
   "outputs": [
    {
     "data": {
      "text/html": [
       "3.5"
      ],
      "text/latex": [
       "3.5"
      ],
      "text/markdown": [
       "3.5"
      ],
      "text/plain": [
       "[1] 3.5"
      ]
     },
     "metadata": {},
     "output_type": "display_data"
    }
   ],
   "source": [
    "median(myval2)"
   ]
  },
  {
   "cell_type": "markdown",
   "metadata": {},
   "source": [
    "When dealing with ordinal scaled data, i.e. with data without equality of intervals, we only state that the median is between 3 and 4.   \n",
    "The exact value of 3.5 is not meaningful here."
   ]
  },
  {
   "cell_type": "markdown",
   "metadata": {},
   "source": [
    "### Quantiles\n",
    "\n",
    "After separation of the ordered obervations into an equal upper lower half by the median, we may go on and evenly separate each half.\n",
    "\n",
    "For sorted myval, number 3 separates the lower half (1,2,3,3,4) and number 6 separated the upper half (4,5,6,8,9) of the data set.\n",
    "\n",
    "Further, 1 is the smallest value (first element of sorted myval), and 9 is the largest value (last value of sorted myval)."
   ]
  },
  {
   "cell_type": "markdown",
   "metadata": {},
   "source": [
    "Function `quantile()` returns these values:"
   ]
  },
  {
   "cell_type": "code",
   "execution_count": 62,
   "metadata": {},
   "outputs": [
    {
     "name": "stdout",
     "output_type": "stream",
     "text": [
      "[1] 1 2 3 3 4 5 6 8 9\n",
      "  0%  25%  50%  75% 100% \n",
      "   1    3    4    6    9 \n"
     ]
    }
   ],
   "source": [
    "print(sort(myval))\n",
    "\n",
    "print(quantile(myval))"
   ]
  },
  {
   "cell_type": "markdown",
   "metadata": {},
   "source": [
    "| value of vector | interpretation |\n",
    "|-----------------|----------------|\n",
    "| 9 | 100% : maximum |\n",
    "| 6 | 75% : the 3rd quartile |\n",
    "| 4 | 50% : the 2nd quartile or median |\n",
    "| 3 | 25% : the 1rst quartile |\n",
    "| 1 | 0% : minimum |"
   ]
  },
  {
   "cell_type": "markdown",
   "metadata": {},
   "source": [
    "For interval or ratio scaled values, the distance metrics of range is meaningful.\n",
    "\n",
    "We may calculate the distance between max and min ($max - min$), which ist the *range*\n",
    "\n",
    "or the distance between the third and the first quartile ($Q3-Q1$), which is the *inter-quartile-range* (IQR).\n",
    "\n",
    "These are a measure of dispersion:"
   ]
  },
  {
   "cell_type": "code",
   "execution_count": 66,
   "metadata": {},
   "outputs": [
    {
     "data": {
      "text/html": [
       "8"
      ],
      "text/latex": [
       "8"
      ],
      "text/markdown": [
       "8"
      ],
      "text/plain": [
       "[1] 8"
      ]
     },
     "metadata": {},
     "output_type": "display_data"
    },
    {
     "data": {
      "text/html": [
       "3"
      ],
      "text/latex": [
       "3"
      ],
      "text/markdown": [
       "3"
      ],
      "text/plain": [
       "[1] 3"
      ]
     },
     "metadata": {},
     "output_type": "display_data"
    }
   ],
   "source": [
    "max(myval) - min(myval)\n",
    "\n",
    "IQR(myval)"
   ]
  },
  {
   "cell_type": "markdown",
   "metadata": {},
   "source": [
    "The visualitation of the boxplot nicely covers this:"
   ]
  },
  {
   "cell_type": "code",
   "execution_count": 65,
   "metadata": {},
   "outputs": [
    {
     "data": {
      "image/png": "[encoded data removed]",
      "text/plain": [
       "plot without title"
      ]
     },
     "metadata": {},
     "output_type": "display_data"
    }
   ],
   "source": [
    "boxplot(myval)"
   ]
  },
  {
   "cell_type": "markdown",
   "metadata": {},
   "source": [
    "### Arithmetic mean\n",
    "\n",
    "For interval and ratio scaled data, calculating a sum is a permitted operation, because equality of differences between the values is given.\n",
    "\n",
    "The arithmetic mean is a measure of central tendency. It is calculated by summing up all values of elements in a set of obeservations, and dividing this sum by the number of elements \n",
    "\n",
    "$$\\frac{1}{n}\\sum_{i=1}^n{x_i}$$\n",
    "\n",
    "It's meaningful only for interval and ratio scaled data."
   ]
  },
  {
   "cell_type": "markdown",
   "metadata": {},
   "source": [
    "Use this formula to calculate the arithmetic mean of myval:"
   ]
  },
  {
   "cell_type": "code",
   "execution_count": 75,
   "metadata": {},
   "outputs": [
    {
     "data": {
      "text/html": [
       "4.55555555555556"
      ],
      "text/latex": [
       "4.55555555555556"
      ],
      "text/markdown": [
       "4.55555555555556"
      ],
      "text/plain": [
       "[1] 4.555556"
      ]
     },
     "metadata": {},
     "output_type": "display_data"
    }
   ],
   "source": [
    "(myval[1] + myval[2] + myval[3] + myval[4] + myval[5] + myval[6] + myval[7] + myval[8] + myval[9]) / length(myval)"
   ]
  },
  {
   "cell_type": "markdown",
   "metadata": {},
   "source": [
    "Or:"
   ]
  },
  {
   "cell_type": "code",
   "execution_count": 74,
   "metadata": {},
   "outputs": [
    {
     "data": {
      "text/html": [
       "4.55555555555556"
      ],
      "text/latex": [
       "4.55555555555556"
      ],
      "text/markdown": [
       "4.55555555555556"
      ],
      "text/plain": [
       "[1] 4.555556"
      ]
     },
     "metadata": {},
     "output_type": "display_data"
    }
   ],
   "source": [
    "sum(myval)/length(myval)"
   ]
  },
  {
   "cell_type": "markdown",
   "metadata": {},
   "source": [
    "Function `mean()` immediately calculates the arithmetic mean in R:"
   ]
  },
  {
   "cell_type": "code",
   "execution_count": 70,
   "metadata": {},
   "outputs": [
    {
     "data": {
      "text/html": [
       "4.55555555555556"
      ],
      "text/latex": [
       "4.55555555555556"
      ],
      "text/markdown": [
       "4.55555555555556"
      ],
      "text/plain": [
       "[1] 4.555556"
      ]
     },
     "metadata": {},
     "output_type": "display_data"
    }
   ],
   "source": [
    "mean(myval)"
   ]
  },
  {
   "cell_type": "markdown",
   "metadata": {},
   "source": [
    "### Variance\n",
    "\n",
    "The variance is the arithmetic mean of squared distances between single observations and their arithmetic mean.\n",
    "\n",
    "$$\\frac{1}{n}\\sum_{i=1}^n(x_i-\\bar{x})^2 $$\n",
    "\n",
    "It's meaningful for interval and ratio scaled data."
   ]
  },
  {
   "cell_type": "markdown",
   "metadata": {},
   "source": [
    "To understand this metric of dispersion, take a look at distances of single oberservations and their arithmetic mean for the numbers 1, 3, 5 and 9."
   ]
  },
  {
   "cell_type": "code",
   "execution_count": 81,
   "metadata": {},
   "outputs": [],
   "source": [
    "a <- c(1,3,5,9)"
   ]
  },
  {
   "cell_type": "code",
   "execution_count": 82,
   "metadata": {},
   "outputs": [
    {
     "name": "stdout",
     "output_type": "stream",
     "text": [
      "[1] 1 3 5 9\n"
     ]
    },
    {
     "data": {
      "text/html": [
       "4.5"
      ],
      "text/latex": [
       "4.5"
      ],
      "text/markdown": [
       "4.5"
      ],
      "text/plain": [
       "[1] 4.5"
      ]
     },
     "metadata": {},
     "output_type": "display_data"
    },
    {
     "name": "stdout",
     "output_type": "stream",
     "text": [
      "[1] -3.5 -1.5  0.5  4.5\n"
     ]
    }
   ],
   "source": [
    "print(a)\n",
    "mean(a)\n",
    "print(a - mean(a))"
   ]
  },
  {
   "cell_type": "markdown",
   "metadata": {},
   "source": [
    "The sum of these distances equals zero:"
   ]
  },
  {
   "cell_type": "code",
   "execution_count": 84,
   "metadata": {},
   "outputs": [
    {
     "data": {
      "text/html": [
       "0"
      ],
      "text/latex": [
       "0"
      ],
      "text/markdown": [
       "0"
      ],
      "text/plain": [
       "[1] 0"
      ]
     },
     "metadata": {},
     "output_type": "display_data"
    }
   ],
   "source": [
    "sum(a - mean(a))"
   ]
  },
  {
   "cell_type": "markdown",
   "metadata": {},
   "source": [
    "This is always the case. The single observations are distributed around the mean. Their distances to the mean are positive and negative, and the sum of these distances is always 0. \n",
    "\n",
    "Though R may not represent this fact exactly:"
   ]
  },
  {
   "cell_type": "code",
   "execution_count": 86,
   "metadata": {},
   "outputs": [
    {
     "data": {
      "text/html": [
       "1.77635683940025e-15"
      ],
      "text/latex": [
       "1.77635683940025e-15"
      ],
      "text/markdown": [
       "1.77635683940025e-15"
      ],
      "text/plain": [
       "[1] 1.776357e-15"
      ]
     },
     "metadata": {},
     "output_type": "display_data"
    }
   ],
   "source": [
    "sum(myval - mean(myval))"
   ]
  },
  {
   "cell_type": "markdown",
   "metadata": {},
   "source": [
    "This small number, 0.0000000000000017763568390225, is due to the representation of the quotient $\\frac{41}{9}$ (the mean of vector myval) in R, which is in decimals."
   ]
  },
  {
   "cell_type": "code",
   "execution_count": 89,
   "metadata": {},
   "outputs": [
    {
     "data": {
      "text/html": [
       "4.55555555555556"
      ],
      "text/latex": [
       "4.55555555555556"
      ],
      "text/markdown": [
       "4.55555555555556"
      ],
      "text/plain": [
       "[1] 4.555556"
      ]
     },
     "metadata": {},
     "output_type": "display_data"
    }
   ],
   "source": [
    "mean(myval)"
   ]
  },
  {
   "cell_type": "markdown",
   "metadata": {},
   "source": [
    "Squaring the distances only provides positive numbers:\n"
   ]
  },
  {
   "cell_type": "code",
   "execution_count": 98,
   "metadata": {},
   "outputs": [
    {
     "name": "stdout",
     "output_type": "stream",
     "text": [
      "[1] -3.5 -1.5  0.5  4.5\n",
      "[1] 12.25  2.25  0.25 20.25\n"
     ]
    }
   ],
   "source": [
    "print(a - mean(a))\n",
    "print((a - mean(a))^2)"
   ]
  },
  {
   "cell_type": "code",
   "execution_count": 100,
   "metadata": {},
   "outputs": [
    {
     "data": {
      "text/html": [
       "35"
      ],
      "text/latex": [
       "35"
      ],
      "text/markdown": [
       "35"
      ],
      "text/plain": [
       "[1] 35"
      ]
     },
     "metadata": {},
     "output_type": "display_data"
    }
   ],
   "source": [
    "sum((a - mean(a))^2)"
   ]
  },
  {
   "cell_type": "markdown",
   "metadata": {},
   "source": [
    "For calculation of the sample variance, this sum is divided by n:"
   ]
  },
  {
   "cell_type": "code",
   "execution_count": 101,
   "metadata": {},
   "outputs": [
    {
     "data": {
      "text/html": [
       "8.75"
      ],
      "text/latex": [
       "8.75"
      ],
      "text/markdown": [
       "8.75"
      ],
      "text/plain": [
       "[1] 8.75"
      ]
     },
     "metadata": {},
     "output_type": "display_data"
    }
   ],
   "source": [
    "sum((a - mean(a))^2)/length(a)"
   ]
  },
  {
   "cell_type": "markdown",
   "metadata": {},
   "source": [
    "In R, variance `var()` is calculated by dividing the sum of squared distances by n-1:"
   ]
  },
  {
   "cell_type": "code",
   "execution_count": 102,
   "metadata": {},
   "outputs": [
    {
     "data": {
      "text/html": [
       "11.6666666666667"
      ],
      "text/latex": [
       "11.6666666666667"
      ],
      "text/markdown": [
       "11.6666666666667"
      ],
      "text/plain": [
       "[1] 11.66667"
      ]
     },
     "metadata": {},
     "output_type": "display_data"
    }
   ],
   "source": [
    "sum((a - mean(a))^2)/(length(a)-1)"
   ]
  },
  {
   "cell_type": "code",
   "execution_count": 103,
   "metadata": {},
   "outputs": [
    {
     "data": {
      "text/html": [
       "11.6666666666667"
      ],
      "text/latex": [
       "11.6666666666667"
      ],
      "text/markdown": [
       "11.6666666666667"
      ],
      "text/plain": [
       "[1] 11.66667"
      ]
     },
     "metadata": {},
     "output_type": "display_data"
    }
   ],
   "source": [
    "var(a)"
   ]
  },
  {
   "cell_type": "markdown",
   "metadata": {},
   "source": [
    "$$\\frac{1}{n-1}\\sum_{i=1}^n(x_i-\\bar{x})^2 $$\n",
    "\n",
    "Division by n-1 always returns a larger value than division by n. \n",
    "\n",
    "Why dividing squared distances by n-1? This is related to the estimation of dispersion parameters for whole populations, not samples of n obervations. The sample variance *underestimates* the unknown population variance. We will come back to this issue when dealing with population parameters."
   ]
  },
  {
   "cell_type": "markdown",
   "metadata": {},
   "source": [
    "### Standard Deviation\n",
    "\n",
    "Variance is a squared metrics, not operating in the units of the actual data. \n",
    "\n",
    "The square root of the variance provides a measure of dispersion that operates in the units of data:\n",
    "\n",
    "$$\\sqrt{\\frac{1}{n-1}\\sum_{i=1}^n(x_i-\\bar{x})^2} $$\n",
    "\n",
    "In R, use function `sd()` to calculate it:"
   ]
  },
  {
   "cell_type": "code",
   "execution_count": 104,
   "metadata": {},
   "outputs": [
    {
     "data": {
      "text/html": [
       "3.41565025531987"
      ],
      "text/latex": [
       "3.41565025531987"
      ],
      "text/markdown": [
       "3.41565025531987"
      ],
      "text/plain": [
       "[1] 3.41565"
      ]
     },
     "metadata": {},
     "output_type": "display_data"
    }
   ],
   "source": [
    "sd(a)"
   ]
  },
  {
   "cell_type": "markdown",
   "metadata": {},
   "source": [
    "This is the square root of var(a):"
   ]
  },
  {
   "cell_type": "code",
   "execution_count": 105,
   "metadata": {},
   "outputs": [
    {
     "data": {
      "text/html": [
       "TRUE"
      ],
      "text/latex": [
       "TRUE"
      ],
      "text/markdown": [
       "TRUE"
      ],
      "text/plain": [
       "[1] TRUE"
      ]
     },
     "metadata": {},
     "output_type": "display_data"
    }
   ],
   "source": [
    "sd(a) == sqrt(var(a))"
   ]
  }
 ],
 "metadata": {
  "celltoolbar": "Slideshow",
  "kernelspec": {
   "display_name": "R",
   "language": "R",
   "name": "ir"
  },
  "language_info": {
   "codemirror_mode": "r",
   "file_extension": ".r",
   "mimetype": "text/x-r-source",
   "name": "R",
   "pygments_lexer": "r",
   "version": "3.5.1"
  }
 },
 "nbformat": 4,
 "nbformat_minor": 2
}
