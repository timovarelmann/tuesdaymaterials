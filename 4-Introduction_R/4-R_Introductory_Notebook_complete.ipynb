{
 "cells": [
  {
   "cell_type": "markdown",
   "metadata": {},
   "source": [
    "# R Introductory Notebook complete\n",
    "\n",
    "This notebook covers both part I and part II\n",
    "\n",
    "Course: Elementare Statistik / R   \n",
    "Libraries required: none  \n",
    "Author: timo.varelmann@uni-koeln.de  \n",
    "Date: 28.10.2018"
   ]
  },
  {
   "cell_type": "markdown",
   "metadata": {},
   "source": [
    "List of contents:\n",
    "\n",
    "- [Basic operations](#basics)\n",
    " - [R language basics using summation examples](#basics-sum)\n",
    " - [Some more mathematical functions](#functions)\n",
    " - [Small numbers](#small)\n",
    "- [Object assignment and the workspace](#assignment)\n",
    "- [Vectors](#vectors)\n",
    " - [Combinations and sequences of elements](#seq)\n",
    " - [Vector classes](#classes)\n",
    " - [Position index](#PI)\n",
    " - [Exercise Position Index](#ex_one)\n",
    "- [Two-dimensional data structures I](#two-dim)\n",
    " - [Matrix](#matrix)\n",
    "   - [Binding](#bind)\n",
    "   - [Function `matrix()`](#func_mat)\n",
    "   - [Function `dim()`](#func_dim)\n",
    "   - [Exercise Matrix Building](#ex_mat)\n",
    " - [Position index](PImat)\n",
    " - [Some basic vector and matrix operations](#vector-ops)\n",
    "- [Two Dimensional Data Structures II](#data_structures2)\n",
    " - [Matrix and Data Frame - Important differences](#data_frame)\n",
    " - [Inspection of the Data Frame](#inspection)\n",
    " - [Creating Subsets](#subsets)\n",
    "   - [Index](#index)\n",
    "   - [\\$ Column Selection](#dollar)\n",
    "   - [Logical Expressions](#log_index)\n",
    "   - [Subset Function](#subset)\n",
    " - [Manipulating Data or Data Frame Attributes](#manipulation)\n",
    "   - [Changing column or variable names](#colnames)\n",
    "   - [Changing single values](#singlevals)\n",
    "   - [Extend the Data Frame](#extend)\n",
    "   - [Change Order of Columns](#change_columns)\n",
    "- [Save, load, and import files](#import)\n",
    "  - [The Working Directory](#wd)\n",
    "  - [Save Objects like Vectors, Matrices or Data Frames as `.RData`-File](#save)\n",
    "  - [Load `.RData`-Files](#load)\n",
    "  - [Read `.csv`-Files](#read.csv)\n",
    "  - [Read `.txt`-Files](#read.table)"
   ]
  },
  {
   "cell_type": "markdown",
   "metadata": {},
   "source": [
    "## Basic operations<a name=\"basics\">\n",
    "### R language basics using summation examples<a name=\"basics-sum\">"
   ]
  },
  {
   "cell_type": "markdown",
   "metadata": {},
   "source": [
    "In R, basic mathematical operations have the structure 'number - operant - number'  \n",
    "Like with any calculator or other programming language, such as Python, the sum of two numbers &mdash; 3 and 5 &mdash; can be written as follows:   \n",
    "`3+5`"
   ]
  },
  {
   "cell_type": "code",
   "execution_count": 4,
   "metadata": {},
   "outputs": [
    {
     "data": {
      "text/html": [
       "8"
      ],
      "text/latex": [
       "8"
      ],
      "text/markdown": [
       "8"
      ],
      "text/plain": [
       "[1] 8"
      ]
     },
     "metadata": {},
     "output_type": "display_data"
    },
    {
     "data": {
      "text/html": [
       "2"
      ],
      "text/latex": [
       "2"
      ],
      "text/markdown": [
       "2"
      ],
      "text/plain": [
       "[1] 2"
      ]
     },
     "metadata": {},
     "output_type": "display_data"
    }
   ],
   "source": [
    "3 + 5\n",
    "3 - 1"
   ]
  },
  {
   "cell_type": "markdown",
   "metadata": {},
   "source": [
    "As you may have noticed immediately: comments are not executed. All characters on the right-hand side of a `#` will be treated as comments. As such, you may also write comments within an executable code line like:"
   ]
  },
  {
   "cell_type": "code",
   "execution_count": 5,
   "metadata": {},
   "outputs": [
    {
     "data": {
      "text/html": [
       "8"
      ],
      "text/latex": [
       "8"
      ],
      "text/markdown": [
       "8"
      ],
      "text/plain": [
       "[1] 8"
      ]
     },
     "metadata": {},
     "output_type": "display_data"
    }
   ],
   "source": [
    "3 + 5 # This returns the sum of 3 and 5"
   ]
  },
  {
   "cell_type": "markdown",
   "metadata": {},
   "source": [
    "Unlike Python, in R all lines of code in a cell will be printed when the cell is run.  \n",
    "You don't need the R-function `print()` to return all of this:"
   ]
  },
  {
   "cell_type": "code",
   "execution_count": 1,
   "metadata": {},
   "outputs": [
    {
     "data": {
      "text/html": [
       "2.1"
      ],
      "text/latex": [
       "2.1"
      ],
      "text/markdown": [
       "2.1"
      ],
      "text/plain": [
       "[1] 2.1"
      ]
     },
     "metadata": {},
     "output_type": "display_data"
    },
    {
     "data": {
      "text/html": [
       "47"
      ],
      "text/latex": [
       "47"
      ],
      "text/markdown": [
       "47"
      ],
      "text/plain": [
       "[1] 47"
      ]
     },
     "metadata": {},
     "output_type": "display_data"
    },
    {
     "data": {
      "text/html": [
       "-21.5"
      ],
      "text/latex": [
       "-21.5"
      ],
      "text/markdown": [
       "-21.5"
      ],
      "text/plain": [
       "[1] -21.5"
      ]
     },
     "metadata": {},
     "output_type": "display_data"
    }
   ],
   "source": [
    "1.1 + 1\n",
    "2 + 45\n",
    "3.5 + -25"
   ]
  },
  {
   "cell_type": "markdown",
   "metadata": {},
   "source": [
    "The `+` operator accepts two arguments, one on the left side and one on the right side.  \n",
    "Here, the number 3 serves as an argument for the first and the second '+'"
   ]
  },
  {
   "cell_type": "code",
   "execution_count": 2,
   "metadata": {},
   "outputs": [
    {
     "data": {
      "text/html": [
       "6.1"
      ],
      "text/latex": [
       "6.1"
      ],
      "text/markdown": [
       "6.1"
      ],
      "text/plain": [
       "[1] 6.1"
      ]
     },
     "metadata": {},
     "output_type": "display_data"
    }
   ],
   "source": [
    "2 + 3 + 1.1"
   ]
  },
  {
   "cell_type": "markdown",
   "metadata": {},
   "source": [
    "Arguments of an operator must be numbers (including numbers assigned to variables) which can be positive, negative or zero. Negative numbers must be indicated by using `-`, in case of positive numbers, this is not neccessary.  \n",
    "Here is an example of the sum of two positive numbers and one negative number:"
   ]
  },
  {
   "cell_type": "code",
   "execution_count": 3,
   "metadata": {},
   "outputs": [
    {
     "data": {
      "text/html": [
       "4"
      ],
      "text/latex": [
       "4"
      ],
      "text/markdown": [
       "4"
      ],
      "text/plain": [
       "[1] 4"
      ]
     },
     "metadata": {},
     "output_type": "display_data"
    }
   ],
   "source": [
    "+2 + +5 + -3"
   ]
  },
  {
   "cell_type": "markdown",
   "metadata": {},
   "source": [
    "Let's write our code in a more intuitive way: just subtract number 3"
   ]
  },
  {
   "cell_type": "code",
   "execution_count": 5,
   "metadata": {},
   "outputs": [
    {
     "data": {
      "text/html": [
       "0"
      ],
      "text/latex": [
       "0"
      ],
      "text/markdown": [
       "0"
      ],
      "text/plain": [
       "[1] 0"
      ]
     },
     "metadata": {},
     "output_type": "display_data"
    }
   ],
   "source": [
    "-2 + 5 - 3"
   ]
  },
  {
   "cell_type": "markdown",
   "metadata": {},
   "source": [
    "Write your code in a way that is well structured!  \n",
    "Above, I have used empty spaces for readability. An empty space is ignored in the R language (at least, as long as it is not part of a 'character string', see further below).  \n",
    "So, this also works (though not well arranged)"
   ]
  },
  {
   "cell_type": "code",
   "execution_count": 5,
   "metadata": {},
   "outputs": [
    {
     "data": {
      "text/html": [
       "2.1"
      ],
      "text/latex": [
       "2.1"
      ],
      "text/markdown": [
       "2.1"
      ],
      "text/plain": [
       "[1] 2.1"
      ]
     },
     "metadata": {},
     "output_type": "display_data"
    },
    {
     "data": {
      "text/html": [
       "-43"
      ],
      "text/latex": [
       "-43"
      ],
      "text/markdown": [
       "-43"
      ],
      "text/plain": [
       "[1] -43"
      ]
     },
     "metadata": {},
     "output_type": "display_data"
    },
    {
     "data": {
      "text/html": [
       "-21.5"
      ],
      "text/latex": [
       "-21.5"
      ],
      "text/markdown": [
       "-21.5"
      ],
      "text/plain": [
       "[1] -21.5"
      ]
     },
     "metadata": {},
     "output_type": "display_data"
    }
   ],
   "source": [
    "1.1+     1\n",
    "    2      -                                                45\n",
    "                  3.5+-25"
   ]
  },
  {
   "cell_type": "markdown",
   "metadata": {},
   "source": [
    "If an input is not completed in a line of code, R turns to the next line of code for execution  &mdash; if the input is completed within that next line, it will be executed (here: the function will be executed, it's result will be returned).  \n",
    "R interprets the next line as separate input."
   ]
  },
  {
   "cell_type": "code",
   "execution_count": 6,
   "metadata": {},
   "outputs": [
    {
     "data": {
      "text/html": [
       "4"
      ],
      "text/latex": [
       "4"
      ],
      "text/markdown": [
       "4"
      ],
      "text/plain": [
       "[1] 4"
      ]
     },
     "metadata": {},
     "output_type": "display_data"
    },
    {
     "data": {
      "text/html": [
       "4"
      ],
      "text/latex": [
       "4"
      ],
      "text/markdown": [
       "4"
      ],
      "text/plain": [
       "[1] 4"
      ]
     },
     "metadata": {},
     "output_type": "display_data"
    }
   ],
   "source": [
    "1 +    # the argument of the operator is missing\n",
    "3      # here it is: the sum will be returned\n",
    "1  +     # This returns the single number, function is completed\n",
    "3    # This returns the single number, function is completed"
   ]
  },
  {
   "cell_type": "markdown",
   "metadata": {},
   "source": [
    "Important: if the code within a given cell ends without completion of a function, this will produce an error.  \n",
    "Try it out: uncomment the next line by erasing '#' and execute this cell:"
   ]
  },
  {
   "cell_type": "code",
   "execution_count": 1,
   "metadata": {},
   "outputs": [],
   "source": [
    "# 1 + "
   ]
  },
  {
   "cell_type": "markdown",
   "metadata": {},
   "source": [
    "### Some more mathematical functions<a name=\"functions\">"
   ]
  },
  {
   "cell_type": "markdown",
   "metadata": {},
   "source": [
    "Here are some basic mathematical operators that have two arguments:"
   ]
  },
  {
   "cell_type": "code",
   "execution_count": 16,
   "metadata": {},
   "outputs": [
    {
     "data": {
      "text/html": [
       "8"
      ],
      "text/latex": [
       "8"
      ],
      "text/markdown": [
       "8"
      ],
      "text/plain": [
       "[1] 8"
      ]
     },
     "metadata": {},
     "output_type": "display_data"
    },
    {
     "data": {
      "text/html": [
       "-1"
      ],
      "text/latex": [
       "-1"
      ],
      "text/markdown": [
       "-1"
      ],
      "text/plain": [
       "[1] -1"
      ]
     },
     "metadata": {},
     "output_type": "display_data"
    },
    {
     "data": {
      "text/html": [
       "12"
      ],
      "text/latex": [
       "12"
      ],
      "text/markdown": [
       "12"
      ],
      "text/plain": [
       "[1] 12"
      ]
     },
     "metadata": {},
     "output_type": "display_data"
    },
    {
     "data": {
      "text/html": [
       "0.75"
      ],
      "text/latex": [
       "0.75"
      ],
      "text/markdown": [
       "0.75"
      ],
      "text/plain": [
       "[1] 0.75"
      ]
     },
     "metadata": {},
     "output_type": "display_data"
    },
    {
     "data": {
      "text/html": [
       "81"
      ],
      "text/latex": [
       "81"
      ],
      "text/markdown": [
       "81"
      ],
      "text/plain": [
       "[1] 81"
      ]
     },
     "metadata": {},
     "output_type": "display_data"
    }
   ],
   "source": [
    "3+5 # sum up\n",
    "3-4 # subtract\n",
    "3*4 # multiply\n",
    "3/4 # divide\n",
    "3^4 # exponent calculation"
   ]
  },
  {
   "cell_type": "markdown",
   "metadata": {},
   "source": [
    "Make use of parentheses for priorization.  \n",
    "Compare:"
   ]
  },
  {
   "cell_type": "code",
   "execution_count": 8,
   "metadata": {},
   "outputs": [
    {
     "data": {
      "text/html": [
       "1"
      ],
      "text/latex": [
       "1"
      ],
      "text/markdown": [
       "1"
      ],
      "text/plain": [
       "[1] 1"
      ]
     },
     "metadata": {},
     "output_type": "display_data"
    },
    {
     "data": {
      "text/html": [
       "0.000248361259292615"
      ],
      "text/latex": [
       "0.000248361259292615"
      ],
      "text/markdown": [
       "0.000248361259292615"
      ],
      "text/plain": [
       "[1] 0.0002483613"
      ]
     },
     "metadata": {},
     "output_type": "display_data"
    },
    {
     "data": {
      "text/html": [
       "-6.37050177778115"
      ],
      "text/latex": [
       "-6.37050177778115"
      ],
      "text/markdown": [
       "-6.37050177778115"
      ],
      "text/plain": [
       "[1] -6.370502"
      ]
     },
     "metadata": {},
     "output_type": "display_data"
    },
    {
     "data": {
      "text/html": [
       "81"
      ],
      "text/latex": [
       "81"
      ],
      "text/markdown": [
       "81"
      ],
      "text/plain": [
       "[1] 81"
      ]
     },
     "metadata": {},
     "output_type": "display_data"
    }
   ],
   "source": [
    "3^4/9-8   # vs.\n",
    "3^(4/9-8) # vs.\n",
    "3^(4/9)-8 # vs.\n",
    "3^4/(9-8)"
   ]
  },
  {
   "cell_type": "markdown",
   "metadata": {},
   "source": [
    "Unlike the structure of mathematical operators you have just learned above (argument - operator - argument), the majority of functions in R make use of the structure: `function()`  \n",
    "Arguments will be written in parenthesis.\n",
    "\n",
    "As such, 3+4 can be rewritten by using the function `sum` followed by arguments in parentheses "
   ]
  },
  {
   "cell_type": "code",
   "execution_count": 19,
   "metadata": {},
   "outputs": [
    {
     "data": {
      "text/html": [
       "7"
      ],
      "text/latex": [
       "7"
      ],
      "text/markdown": [
       "7"
      ],
      "text/plain": [
       "[1] 7"
      ]
     },
     "metadata": {},
     "output_type": "display_data"
    }
   ],
   "source": [
    "sum(3,4)"
   ]
  },
  {
   "cell_type": "markdown",
   "metadata": {},
   "source": [
    "The function `sum()` returns the sum of all the values present in its arguments.  \n",
    "It represents the big operator for calculating the sum of a sequence:\n",
    "\n",
    "$\\sum(2,3,6,-3)$ can be written and executed as"
   ]
  },
  {
   "cell_type": "code",
   "execution_count": 20,
   "metadata": {},
   "outputs": [
    {
     "data": {
      "text/html": [
       "8"
      ],
      "text/latex": [
       "8"
      ],
      "text/markdown": [
       "8"
      ],
      "text/plain": [
       "[1] 8"
      ]
     },
     "metadata": {},
     "output_type": "display_data"
    }
   ],
   "source": [
    "sum(2,3,6,-3)"
   ]
  },
  {
   "cell_type": "markdown",
   "metadata": {},
   "source": [
    "The function `prod()` returns the product of all the values present in its arguments.  \n",
    "It represents the big operator for calculating the product of a sequence:\n",
    "\n",
    "$\\prod(2,3,6,-3)$ can be written and executed as"
   ]
  },
  {
   "cell_type": "code",
   "execution_count": 21,
   "metadata": {},
   "outputs": [
    {
     "data": {
      "text/html": [
       "8"
      ],
      "text/latex": [
       "8"
      ],
      "text/markdown": [
       "8"
      ],
      "text/plain": [
       "[1] 8"
      ]
     },
     "metadata": {},
     "output_type": "display_data"
    }
   ],
   "source": [
    "prod(2,2,2)"
   ]
  },
  {
   "cell_type": "markdown",
   "metadata": {},
   "source": [
    "R has an elaborated documentation of functions.  \n",
    "Type a question mark followed by the the name of a function to open it:"
   ]
  },
  {
   "cell_type": "code",
   "execution_count": null,
   "metadata": {},
   "outputs": [],
   "source": []
  },
  {
   "cell_type": "markdown",
   "metadata": {},
   "source": [
    "Arguments of a given function can also be used to specify some function operations.\n",
    "\n",
    "For example, in order to round a given number &mdash; besides an argument that specifies the number to be rounded &mdash; you should also specify the number of decimal places to which the number should be rounded. That additional argument `digits` is a number:\n",
    "round(x=1/3, digits=3)"
   ]
  },
  {
   "cell_type": "markdown",
   "metadata": {},
   "source": [
    "If you don't use the digits-argument, R takes a default specification when executing the function.  \n",
    "For `round()`, `digits=0` is the default.\n",
    "\n",
    "So this returns 0:"
   ]
  },
  {
   "cell_type": "code",
   "execution_count": 23,
   "metadata": {},
   "outputs": [
    {
     "data": {
      "text/html": [
       "0"
      ],
      "text/latex": [
       "0"
      ],
      "text/markdown": [
       "0"
      ],
      "text/plain": [
       "[1] 0"
      ]
     },
     "metadata": {},
     "output_type": "display_data"
    }
   ],
   "source": [
    "round(x=1/3)"
   ]
  },
  {
   "cell_type": "markdown",
   "metadata": {},
   "source": [
    "Further, the order of arguments matters as soon as you don't indicate which argument ('x' or 'digits') you are going to specify.  \n",
    "The documentation `?round` shows default order of arguments and default argument specifications: \n",
    "\n",
    "round(x, digits=0)\n",
    "\n",
    "With that knowledge in mind, you can reformulate round(x=1/3, digits=3) as follows:"
   ]
  },
  {
   "cell_type": "code",
   "execution_count": 24,
   "metadata": {},
   "outputs": [
    {
     "data": {
      "text/html": [
       "0.333"
      ],
      "text/latex": [
       "0.333"
      ],
      "text/markdown": [
       "0.333"
      ],
      "text/plain": [
       "[1] 0.333"
      ]
     },
     "metadata": {},
     "output_type": "display_data"
    },
    {
     "data": {
      "text/html": [
       "0.333"
      ],
      "text/latex": [
       "0.333"
      ],
      "text/markdown": [
       "0.333"
      ],
      "text/plain": [
       "[1] 0.333"
      ]
     },
     "metadata": {},
     "output_type": "display_data"
    },
    {
     "data": {
      "text/html": [
       "0.333"
      ],
      "text/latex": [
       "0.333"
      ],
      "text/markdown": [
       "0.333"
      ],
      "text/plain": [
       "[1] 0.333"
      ]
     },
     "metadata": {},
     "output_type": "display_data"
    },
    {
     "data": {
      "text/html": [
       "0.333"
      ],
      "text/latex": [
       "0.333"
      ],
      "text/markdown": [
       "0.333"
      ],
      "text/plain": [
       "[1] 0.333"
      ]
     },
     "metadata": {},
     "output_type": "display_data"
    }
   ],
   "source": [
    "round(1/3 ,3)          # That's the most economical way (least code writing)\n",
    "round(1/3 ,digits=3)   # That's what you will often see in textbooks; standard coding. Background knwowlegdge:\n",
    "                       # The input of a function is typically written on the left-hand side\n",
    "round(x=1/3 ,3)        # This is also possible, though you won't read such a code quite often.\n",
    "round(digits=3, x=1/3) # This is also possible. If you know the arguments' names (here 'x' and 'digits'), \n",
    "                       # but not their default order, just add the argument names everytime. That's safe."
   ]
  },
  {
   "cell_type": "markdown",
   "metadata": {},
   "source": [
    "Here are some more basic mathematical operations which have the structure function():"
   ]
  },
  {
   "cell_type": "code",
   "execution_count": 26,
   "metadata": {},
   "outputs": [
    {
     "data": {
      "text/html": [
       "3"
      ],
      "text/latex": [
       "3"
      ],
      "text/markdown": [
       "3"
      ],
      "text/plain": [
       "[1] 3"
      ]
     },
     "metadata": {},
     "output_type": "display_data"
    },
    {
     "data": {
      "text/html": [
       "2"
      ],
      "text/latex": [
       "2"
      ],
      "text/markdown": [
       "2"
      ],
      "text/plain": [
       "[1] 2"
      ]
     },
     "metadata": {},
     "output_type": "display_data"
    },
    {
     "data": {
      "text/html": [
       "2.19722457733622"
      ],
      "text/latex": [
       "2.19722457733622"
      ],
      "text/markdown": [
       "2.19722457733622"
      ],
      "text/plain": [
       "[1] 2.197225"
      ]
     },
     "metadata": {},
     "output_type": "display_data"
    },
    {
     "data": {
      "text/html": [
       "4"
      ],
      "text/latex": [
       "4"
      ],
      "text/markdown": [
       "4"
      ],
      "text/plain": [
       "[1] 4"
      ]
     },
     "metadata": {},
     "output_type": "display_data"
    },
    {
     "data": {
      "text/html": [
       "2"
      ],
      "text/latex": [
       "2"
      ],
      "text/markdown": [
       "2"
      ],
      "text/plain": [
       "[1] 2"
      ]
     },
     "metadata": {},
     "output_type": "display_data"
    }
   ],
   "source": [
    "sqrt(9)        # Square root of 9\n",
    "log(9,base=3)  # Logarithm of 9, base 3. \n",
    "               # If the base is not specified, the default base is the mathematical constant e. \n",
    "log(9)         # Thus, this returns the natural logarithm of 9\n",
    "log2(16)       # This is an example of a prespecified log-function with base 2\n",
    "log10(100)     # And this with base 10."
   ]
  },
  {
   "cell_type": "markdown",
   "metadata": {},
   "source": [
    "Finally: two examples of mathematical constants:"
   ]
  },
  {
   "cell_type": "code",
   "execution_count": 27,
   "metadata": {},
   "outputs": [
    {
     "data": {
      "text/html": [
       "2.71828182845905"
      ],
      "text/latex": [
       "2.71828182845905"
      ],
      "text/markdown": [
       "2.71828182845905"
      ],
      "text/plain": [
       "[1] 2.718282"
      ]
     },
     "metadata": {},
     "output_type": "display_data"
    },
    {
     "data": {
      "text/html": [
       "3.14159265358979"
      ],
      "text/latex": [
       "3.14159265358979"
      ],
      "text/markdown": [
       "3.14159265358979"
      ],
      "text/plain": [
       "[1] 3.141593"
      ]
     },
     "metadata": {},
     "output_type": "display_data"
    }
   ],
   "source": [
    "exp(1)         # The mathematical constant e\n",
    "pi             # The mathematical constant pi"
   ]
  },
  {
   "cell_type": "markdown",
   "metadata": {},
   "source": [
    "And absolute value or modulus (in German: \"Betrag\"):"
   ]
  },
  {
   "cell_type": "code",
   "execution_count": 28,
   "metadata": {},
   "outputs": [
    {
     "data": {
      "text/html": [
       "1.4"
      ],
      "text/latex": [
       "1.4"
      ],
      "text/markdown": [
       "1.4"
      ],
      "text/plain": [
       "[1] 1.4"
      ]
     },
     "metadata": {},
     "output_type": "display_data"
    }
   ],
   "source": [
    "abs(-1.4)"
   ]
  },
  {
   "cell_type": "markdown",
   "metadata": {},
   "source": [
    "### Small numbers<a name=\"small\">\n",
    "In R or other programming languages, there is a special presentation of small numbers:"
   ]
  },
  {
   "cell_type": "code",
   "execution_count": 29,
   "metadata": {},
   "outputs": [
    {
     "data": {
      "text/html": [
       "2.3283064365387e-10"
      ],
      "text/latex": [
       "2.3283064365387e-10"
      ],
      "text/markdown": [
       "2.3283064365387e-10"
      ],
      "text/plain": [
       "[1] 2.328306e-10"
      ]
     },
     "metadata": {},
     "output_type": "display_data"
    }
   ],
   "source": [
    "4^-16 "
   ]
  },
  {
   "cell_type": "markdown",
   "metadata": {},
   "source": [
    "This is 0.00000000023283064365387 , because:\n",
    "\n",
    "$xey = x\\cdot10^y ;  y \\in \\mathbb{Z}$\n",
    "\n",
    "In this example, x is 2.3283064365387 and y is -10."
   ]
  },
  {
   "cell_type": "markdown",
   "metadata": {},
   "source": [
    "You can also use `e` in your input code line:"
   ]
  },
  {
   "cell_type": "code",
   "execution_count": 30,
   "metadata": {},
   "outputs": [
    {
     "data": {
      "text/html": [
       "0.00233"
      ],
      "text/latex": [
       "0.00233"
      ],
      "text/markdown": [
       "0.00233"
      ],
      "text/plain": [
       "[1] 0.00233"
      ]
     },
     "metadata": {},
     "output_type": "display_data"
    },
    {
     "data": {
      "text/html": [
       "2330"
      ],
      "text/latex": [
       "2330"
      ],
      "text/markdown": [
       "2330"
      ],
      "text/plain": [
       "[1] 2330"
      ]
     },
     "metadata": {},
     "output_type": "display_data"
    }
   ],
   "source": [
    "2.33e-3\n",
    "2.33e3"
   ]
  },
  {
   "cell_type": "markdown",
   "metadata": {},
   "source": [
    "## Object assignment and the workspace<a name=\"assignment\">"
   ]
  },
  {
   "cell_type": "markdown",
   "metadata": {},
   "source": [
    "Let's assign number 9 to an object called \"number\".  \n",
    "By convention, the recipient of assignment is written on the left-hand side:"
   ]
  },
  {
   "cell_type": "code",
   "execution_count": 2,
   "metadata": {},
   "outputs": [],
   "source": [
    "number <- 9"
   ]
  },
  {
   "cell_type": "markdown",
   "metadata": {},
   "source": [
    "An equal sign would do the same, here recipient of assignment **must (!)** be on the left-hand side:"
   ]
  },
  {
   "cell_type": "code",
   "execution_count": 4,
   "metadata": {},
   "outputs": [],
   "source": [
    "number = 9"
   ]
  },
  {
   "cell_type": "markdown",
   "metadata": {},
   "source": [
    "Let's print it:"
   ]
  },
  {
   "cell_type": "code",
   "execution_count": 6,
   "metadata": {},
   "outputs": [
    {
     "data": {
      "text/html": [
       "9"
      ],
      "text/latex": [
       "9"
      ],
      "text/markdown": [
       "9"
      ],
      "text/plain": [
       "[1] 9"
      ]
     },
     "metadata": {},
     "output_type": "display_data"
    },
    {
     "name": "stdout",
     "output_type": "stream",
     "text": [
      "[1] 9\n"
     ]
    }
   ],
   "source": [
    "number\n",
    "print(number)"
   ]
  },
  {
   "cell_type": "markdown",
   "metadata": {},
   "source": [
    "The bracket [ ] in the output indicates a position, later we'll come back to this issue"
   ]
  },
  {
   "cell_type": "markdown",
   "metadata": {},
   "source": [
    "Let's overwrite this object:"
   ]
  },
  {
   "cell_type": "code",
   "execution_count": 8,
   "metadata": {},
   "outputs": [
    {
     "data": {
      "text/html": [
       "5"
      ],
      "text/latex": [
       "5"
      ],
      "text/markdown": [
       "5"
      ],
      "text/plain": [
       "[1] 5"
      ]
     },
     "metadata": {},
     "output_type": "display_data"
    }
   ],
   "source": [
    "(number <- 5)  # Parentheses around object assignment: return it immediately"
   ]
  },
  {
   "cell_type": "markdown",
   "metadata": {},
   "source": [
    "Let's create more objects somehow differently called \"number\".\n",
    "\n",
    "Regarding object names keep in mind:\n",
    "- case sensitity\n",
    "- numbers can be added to the object name, as long as the name doesn't start with a number\n",
    "- `.` or `_` can also be part of the object name, as long as the name doesn't start with these symbols\n",
    "- mathematical / boolean operators may not be added to an object name"
   ]
  },
  {
   "cell_type": "code",
   "execution_count": 15,
   "metadata": {},
   "outputs": [],
   "source": [
    "Number <- 10          \n",
    "number1 <- 1          \n",
    "my.Number1 <- number1"
   ]
  },
  {
   "cell_type": "markdown",
   "metadata": {},
   "source": [
    "After having specified some objects in the cells above, let's take a closer look at them.\n",
    "Objects 'number' and 'Number' are different objects with different elements:"
   ]
  },
  {
   "cell_type": "code",
   "execution_count": null,
   "metadata": {},
   "outputs": [],
   "source": [
    "number         \n",
    "Number         \n",
    "number == Number"
   ]
  },
  {
   "cell_type": "markdown",
   "metadata": {},
   "source": [
    "On the other hand, these are different objects with the same element:"
   ]
  },
  {
   "cell_type": "code",
   "execution_count": null,
   "metadata": {},
   "outputs": [],
   "source": [
    "number1   \n",
    "my.Number1       \n",
    "number1 == my.Number1"
   ]
  },
  {
   "cell_type": "markdown",
   "metadata": {},
   "source": [
    "The objects (number, my.Number1 ...) are stored in the R workspace. In Jupyter, the workspace is active as long the notebook is active. You can make use of these objects in every cell of a notebook as long they are stored in workspace.\n",
    "\n",
    "After a shutdown of the notebook the workspace will be empty when you start this notebook again.\n",
    "\n",
    "If you want to know all objects that are currently stored in workspace, type:  \n",
    "`ls()`  \n",
    "This returns all object in the workspace."
   ]
  },
  {
   "cell_type": "code",
   "execution_count": null,
   "metadata": {},
   "outputs": [],
   "source": []
  },
  {
   "cell_type": "markdown",
   "metadata": {},
   "source": [
    "`rm()` removes an object from workspace:"
   ]
  },
  {
   "cell_type": "code",
   "execution_count": null,
   "metadata": {},
   "outputs": [],
   "source": [
    "rm(my.Number1)"
   ]
  },
  {
   "cell_type": "markdown",
   "metadata": {},
   "source": [
    "Now, the object 'my.Number1' is deleted. Check it by executing `ls()`again.  \n",
    "This also means that executing 'my.Number1' would produce an error now."
   ]
  },
  {
   "cell_type": "markdown",
   "metadata": {},
   "source": [
    "This removes all objects from the current workspace:"
   ]
  },
  {
   "cell_type": "code",
   "execution_count": null,
   "metadata": {},
   "outputs": [],
   "source": [
    "rm(list=ls())"
   ]
  },
  {
   "cell_type": "markdown",
   "metadata": {},
   "source": [
    "## Vectors<a name=\"vectors\">\n",
    "The simplest and most essential data structure in R is the vector, which is a single entity consisting of an ordered collection of elements. It's one-dimensional."
   ]
  },
  {
   "cell_type": "markdown",
   "metadata": {},
   "source": [
    "### Combinations and sequences of elements<a name=\"seq\">"
   ]
  },
  {
   "cell_type": "markdown",
   "metadata": {},
   "source": [
    "Even typing and executing a single number will produce a vector:"
   ]
  },
  {
   "cell_type": "code",
   "execution_count": null,
   "metadata": {},
   "outputs": [],
   "source": [
    "5"
   ]
  },
  {
   "cell_type": "markdown",
   "metadata": {},
   "source": [
    "How many (ordered) elements does the vector have, i.e. what is its length?"
   ]
  },
  {
   "cell_type": "code",
   "execution_count": null,
   "metadata": {},
   "outputs": [],
   "source": [
    "length(5)"
   ]
  },
  {
   "cell_type": "markdown",
   "metadata": {},
   "source": [
    "To create a numeric vector with length > 1, one possiblitity is to combine or concatenate any numbers using the function `c()`, e.g."
   ]
  },
  {
   "cell_type": "code",
   "execution_count": null,
   "metadata": {},
   "outputs": [],
   "source": [
    "c(1,3,6,-0.1)"
   ]
  },
  {
   "cell_type": "markdown",
   "metadata": {},
   "source": [
    "Let's assign this vector to an object and do some inspections:"
   ]
  },
  {
   "cell_type": "code",
   "execution_count": null,
   "metadata": {},
   "outputs": [],
   "source": [
    "myNumbers <- c(1,3,6,-0.1)\n",
    "length(myNumbers)"
   ]
  },
  {
   "cell_type": "markdown",
   "metadata": {},
   "source": [
    "Another possibility to create a vector is by repeating a number, e.g. by replacing number 4 seven times using function `rep()`"
   ]
  },
  {
   "cell_type": "code",
   "execution_count": null,
   "metadata": {},
   "outputs": [],
   "source": [
    "rep(4, times=7)"
   ]
  },
  {
   "cell_type": "markdown",
   "metadata": {},
   "source": [
    "You may also want to create a sequence of numbers using function `seq()`, e.g."
   ]
  },
  {
   "cell_type": "code",
   "execution_count": null,
   "metadata": {},
   "outputs": [],
   "source": [
    "-4:1                     # A sequence of integers from -4 to 10, same output as\n",
    "seq(from=-4, to=1, by=1) # or\n",
    "seq(-4,1,1)              # ... you immerdiately see the default order of arguments here!"
   ]
  },
  {
   "cell_type": "markdown",
   "metadata": {},
   "source": [
    "The `seq()`-fuction takes numbers as arguments. Instead of specifying the arguments by numbers, you can also use a variable that has been tied to a number:"
   ]
  },
  {
   "cell_type": "code",
   "execution_count": null,
   "metadata": {},
   "outputs": [],
   "source": [
    "myEndofSequence <- 10\n",
    "mySequence <- seq(1,myEndofSequence,0.5)\n",
    "mySequence"
   ]
  },
  {
   "cell_type": "markdown",
   "metadata": {},
   "source": [
    "Finally, we can easily combine two or more vectors into a new one by using function `c()`.  \n",
    "(Python users: there will be no nesting of vectors)"
   ]
  },
  {
   "cell_type": "code",
   "execution_count": null,
   "metadata": {},
   "outputs": [],
   "source": [
    "vector1  <- c(2,3,4,7)\n",
    "vector2  <- c(10,23)\n",
    "\n",
    "vector12 <- c(vector1,vector2)\n",
    "\n",
    "vector12\n",
    "class(vector12)"
   ]
  },
  {
   "cell_type": "markdown",
   "metadata": {},
   "source": [
    "### Vector classes<a name=\"classes\">"
   ]
  },
  {
   "cell_type": "markdown",
   "metadata": {},
   "source": [
    "Vectors have specific classes. Here is an example of a numerical vector:"
   ]
  },
  {
   "cell_type": "code",
   "execution_count": null,
   "metadata": {},
   "outputs": [],
   "source": [
    "mynumb <- c(-1.2,6,2)\n",
    "mynumb\n",
    "length(mynumb)\n",
    "class(mynumb)"
   ]
  },
  {
   "cell_type": "markdown",
   "metadata": {},
   "source": [
    "Remember how to produce sequences of integers.   \n",
    "R automatically classifies numbers as numeric or integer. Integers are a subset of numerics.   \n",
    "Sometimes, this classification works: Let's create an integer vector:"
   ]
  },
  {
   "cell_type": "code",
   "execution_count": null,
   "metadata": {},
   "outputs": [],
   "source": [
    "myseq <- 1:5\n",
    "myseq\n",
    "class(myseq)"
   ]
  },
  {
   "cell_type": "markdown",
   "metadata": {},
   "source": [
    "Many times, it doesn't work (though I am not aware of any negative consequence of this fact). For example, a single number is always treated as numeric:"
   ]
  },
  {
   "cell_type": "code",
   "execution_count": 18,
   "metadata": {},
   "outputs": [
    {
     "data": {
      "text/html": [
       "5"
      ],
      "text/latex": [
       "5"
      ],
      "text/markdown": [
       "5"
      ],
      "text/plain": [
       "[1] 5"
      ]
     },
     "metadata": {},
     "output_type": "display_data"
    },
    {
     "data": {
      "text/html": [
       "'numeric'"
      ],
      "text/latex": [
       "'numeric'"
      ],
      "text/markdown": [
       "'numeric'"
      ],
      "text/plain": [
       "[1] \"numeric\""
      ]
     },
     "metadata": {},
     "output_type": "display_data"
    }
   ],
   "source": [
    "5\n",
    "class(5)"
   ]
  },
  {
   "cell_type": "markdown",
   "metadata": {},
   "source": [
    "Function `seq` also treats all numbers as numeric:"
   ]
  },
  {
   "cell_type": "code",
   "execution_count": null,
   "metadata": {},
   "outputs": [],
   "source": [
    "myseq <- seq(1,5,1)\n",
    "myseq\n",
    "class(myseq)"
   ]
  },
  {
   "cell_type": "markdown",
   "metadata": {},
   "source": [
    "Remember `ls()` returns a vector of all objects in the workspace.  \n",
    "This is a vector of character strings, indicated by the quotation marks around all vector elements when printed.\n",
    "\n",
    "Let's check it:"
   ]
  },
  {
   "cell_type": "code",
   "execution_count": null,
   "metadata": {},
   "outputs": [],
   "source": [
    "ls()\n",
    "\n",
    "class(ls())"
   ]
  },
  {
   "cell_type": "markdown",
   "metadata": {},
   "source": [
    "Let's create a vector of character strings of length = 3"
   ]
  },
  {
   "cell_type": "code",
   "execution_count": null,
   "metadata": {},
   "outputs": [],
   "source": [
    "mychar <- c(\"Dorte\",\"Sebastian\",\"Frodo Baggins\")\n",
    "mychar\n",
    "class(mychar)"
   ]
  },
  {
   "cell_type": "markdown",
   "metadata": {},
   "source": [
    "Finally, let's create a vector of logical values:"
   ]
  },
  {
   "cell_type": "code",
   "execution_count": null,
   "metadata": {},
   "outputs": [],
   "source": [
    "mylogicals <- c(TRUE,FALSE,FALSE,FALSE)\n",
    "mylogicals\n",
    "class(mylogicals)"
   ]
  },
  {
   "cell_type": "markdown",
   "metadata": {},
   "source": [
    "Instead of typing TRUE or FALSE, a T or an F suffices"
   ]
  },
  {
   "cell_type": "code",
   "execution_count": null,
   "metadata": {},
   "outputs": [],
   "source": [
    "mylogicals <- c(T,F,F,F)"
   ]
  },
  {
   "cell_type": "markdown",
   "metadata": {},
   "source": [
    "We will not consider all classes right now."
   ]
  },
  {
   "cell_type": "markdown",
   "metadata": {},
   "source": [
    "Important: The class of a given vector is *exclusive*, there can only be one vector class of a given vector.\n",
    "\n",
    "If you combine a numerical and character vector to a single vector, numerical vector elements are converted to characters. You cannot do calculations such as summation with character strings any more!"
   ]
  },
  {
   "cell_type": "code",
   "execution_count": null,
   "metadata": {},
   "outputs": [],
   "source": [
    "myvector <- c(mynumb,mychar)\n",
    "myvector\n",
    "class(myvector)"
   ]
  },
  {
   "cell_type": "markdown",
   "metadata": {},
   "source": [
    "If vector combined elements are numerical and logical, T gets 1 and F gets 0"
   ]
  },
  {
   "cell_type": "code",
   "execution_count": null,
   "metadata": {},
   "outputs": [],
   "source": [
    "myvector <- c(mynumb,mylogicals)\n",
    "myvector\n",
    "class(myvector)"
   ]
  },
  {
   "cell_type": "markdown",
   "metadata": {},
   "source": [
    "### Position index<a name=\"PI\">"
   ]
  },
  {
   "cell_type": "markdown",
   "metadata": {},
   "source": [
    "There are two different ways to return a vector:"
   ]
  },
  {
   "cell_type": "code",
   "execution_count": null,
   "metadata": {},
   "outputs": [],
   "source": [
    "5\n",
    "print(5)"
   ]
  },
  {
   "cell_type": "markdown",
   "metadata": {},
   "source": [
    "A difference in the output only occurs in the Jupyter environment, not in the console of the R environment.  \n",
    "Above, the 1 in brackets shows the position of vector element presented on the left-most side of the output row.  \n",
    "Remember, just typing a number in R returns a numeric vector with length=1."
   ]
  },
  {
   "cell_type": "markdown",
   "metadata": {},
   "source": [
    "Now take a look at this vector and it's position indices:"
   ]
  },
  {
   "cell_type": "code",
   "execution_count": null,
   "metadata": {},
   "outputs": [],
   "source": [
    "seqUp <- 1:100\n",
    "print(seqUp)"
   ]
  },
  {
   "cell_type": "markdown",
   "metadata": {},
   "source": [
    "And compare it to:"
   ]
  },
  {
   "cell_type": "code",
   "execution_count": 1,
   "metadata": {},
   "outputs": [
    {
     "name": "stdout",
     "output_type": "stream",
     "text": [
      "  [1] 100  99  98  97  96  95  94  93  92  91  90  89  88  87  86  85  84  83\n",
      " [19]  82  81  80  79  78  77  76  75  74  73  72  71  70  69  68  67  66  65\n",
      " [37]  64  63  62  61  60  59  58  57  56  55  54  53  52  51  50  49  48  47\n",
      " [55]  46  45  44  43  42  41  40  39  38  37  36  35  34  33  32  31  30  29\n",
      " [73]  28  27  26  25  24  23  22  21  20  19  18  17  16  15  14  13  12  11\n",
      " [91]  10   9   8   7   6   5   4   3   2   1\n"
     ]
    }
   ],
   "source": [
    "seqDown <- 100:1\n",
    "print(seqDown)"
   ]
  },
  {
   "cell_type": "markdown",
   "metadata": {},
   "source": [
    "If you want to only return the vector element which has the 91rst position within vector seqDown, you do this by using the index brackets:"
   ]
  },
  {
   "cell_type": "code",
   "execution_count": null,
   "metadata": {},
   "outputs": [],
   "source": [
    "seqDown[91]"
   ]
  },
  {
   "cell_type": "markdown",
   "metadata": {},
   "source": [
    "If you want to return all seqDown vector elements except the one which has the 91rst position:"
   ]
  },
  {
   "cell_type": "code",
   "execution_count": null,
   "metadata": {},
   "outputs": [],
   "source": [
    "seqDown[-91]"
   ]
  },
  {
   "cell_type": "markdown",
   "metadata": {},
   "source": [
    "Unfortunately, this Jupyter-specific presentation is quite chaotic. To clearly arrange your output like in the standard R environment, use `print()` again:"
   ]
  },
  {
   "cell_type": "code",
   "execution_count": 2,
   "metadata": {},
   "outputs": [
    {
     "name": "stdout",
     "output_type": "stream",
     "text": [
      " [1] 100  99  98  97  96  95  94  93  92  91  90  89  88  87  86  85  84  83  82\n",
      "[20]  81  80  79  78  77  76  75  74  73  72  71  70  69  68  67  66  65  64  63\n",
      "[39]  62  61  60  59  58  57  56  55  54  53  52  51  50  49  48  47  46  45  44\n",
      "[58]  43  42  41  40  39  38  37  36  35  34  33  32  31  30  29  28  27  26  25\n",
      "[77]  24  23  22  21  20  19  18  17  16  15  14  13  12  11   9   8   7   6   5\n",
      "[96]   4   3   2   1\n"
     ]
    }
   ],
   "source": [
    "print(seqDown[-91])"
   ]
  },
  {
   "cell_type": "markdown",
   "metadata": {},
   "source": [
    "As you already know, -91 is a vector, length is 1 and class is numeric. In R, you make use of a vector in order to specify the positions of a vector.\n",
    "\n",
    "So, in order to print the second and the last seqDown vector element, you can use this vector  \n",
    "`c(2,100)`   \n",
    "to specify the index:"
   ]
  },
  {
   "cell_type": "code",
   "execution_count": null,
   "metadata": {},
   "outputs": [],
   "source": [
    "seqDown[c(2,100)]"
   ]
  },
  {
   "cell_type": "markdown",
   "metadata": {},
   "source": [
    "###  Exercise Position Index<a name=\"ex_one\">\n",
    "1. Specify the position index of vector seqDown in such a way that it returns the elements at position 2, 4, 6 and 8\n",
    "\n",
    "2. Specify the position index in such a way that it always returns the last element of a vector. It should work even if you don't know the number of elements of your vector. \n",
    "\n",
    "3. Check your solution by use of the vector:     \n",
    "    `myRandVec <- 2:sample(2:300,size=1)` .   \n",
    "The elements of this vector are a sequence of integers from 2 to a random integer between 2 and 300. So you do not know how many vector elements there are."
   ]
  },
  {
   "cell_type": "code",
   "execution_count": null,
   "metadata": {},
   "outputs": [],
   "source": []
  },
  {
   "cell_type": "markdown",
   "metadata": {},
   "source": [
    "## Two-dimensional data structures<a name=\"two-dim\">"
   ]
  },
  {
   "cell_type": "markdown",
   "metadata": {},
   "source": [
    "R makes use of different classes of two-dimensional constructs like lists, arrays, matrices or data frames.   \n",
    "This notebook will introduce to matrix and data frame."
   ]
  },
  {
   "cell_type": "markdown",
   "metadata": {},
   "source": [
    "### Matrix<a name=\"matrix\">\n",
    "\n",
    "A matrix is two-dimensional array with\n",
    "- same length of all columns and same length of all rows\n",
    "- same class of elements\n",
    "\n",
    "There are several ways to create a matrix."
   ]
  },
  {
   "cell_type": "markdown",
   "metadata": {},
   "source": [
    "#### Binding<a name=\"bind\">\n",
    "\n",
    "You can create a matrix by means of binding (one-dimensional) vectors.  \n",
    "\n",
    "Requirement: The vectors have to be of the same length and must have the same vector class.\n",
    "\n",
    "Let's create two vectors, e.g."
   ]
  },
  {
   "cell_type": "code",
   "execution_count": 20,
   "metadata": {},
   "outputs": [],
   "source": [
    "a <- c(1,2,4)\n",
    "b <- c(6,7,-9)"
   ]
  },
  {
   "cell_type": "markdown",
   "metadata": {},
   "source": [
    "You can bind these vectors vertically. In this case, each vector becomes a *column* of the matrix. Make use of the function `cbind()` (you may remember this function as \"column-bind\")"
   ]
  },
  {
   "cell_type": "code",
   "execution_count": null,
   "metadata": {},
   "outputs": [],
   "source": [
    "cbind(a,b)"
   ]
  },
  {
   "cell_type": "markdown",
   "metadata": {},
   "source": [
    "Or you can bind the vectors horizontally. In this case, each vector becomes to be a *row* of the matrix. Make use of the function `rbind()` (you may remember this function as \"row-bind\")"
   ]
  },
  {
   "cell_type": "code",
   "execution_count": null,
   "metadata": {},
   "outputs": [],
   "source": [
    "rbind(a,b) "
   ]
  },
  {
   "cell_type": "markdown",
   "metadata": {},
   "source": [
    "Instead of using objects a and b, you can also write vectors immediatiately within the `cbind()` or `rbind()` function.\n",
    "\n",
    "Here you do not have column or row names:"
   ]
  },
  {
   "cell_type": "code",
   "execution_count": null,
   "metadata": {},
   "outputs": [],
   "source": [
    "rbind(c(1,2,4),c(6,7,9))"
   ]
  },
  {
   "cell_type": "markdown",
   "metadata": {},
   "source": [
    "#### Function `matrix()`<a name=\"func_mat\">"
   ]
  },
  {
   "cell_type": "markdown",
   "metadata": {},
   "source": [
    "Function `matrix()` creates a matrix from a given set of values.   \n",
    "\n",
    "Take the six values of the vector c(1,2,3,4,5,6). To create a two-dimensional data structure, length of rows multiplied by length of columns must be equal to the number of values we have, which is 6.   \n",
    "Dimensions of the matrix to be created could be:\n",
    "- 1 row, 6 columns\n",
    "- 2 rows, 3 columns\n",
    "- 3 rows, 2 columns\n",
    "- 6 rows, 1 column"
   ]
  },
  {
   "cell_type": "code",
   "execution_count": 26,
   "metadata": {},
   "outputs": [
    {
     "data": {
      "text/html": [
       "<table>\n",
       "<tbody>\n",
       "\t<tr><td>1</td><td>3</td><td>5</td></tr>\n",
       "\t<tr><td>2</td><td>4</td><td>6</td></tr>\n",
       "</tbody>\n",
       "</table>\n"
      ],
      "text/latex": [
       "\\begin{tabular}{lll}\n",
       "\t 1 & 3 & 5\\\\\n",
       "\t 2 & 4 & 6\\\\\n",
       "\\end{tabular}\n"
      ],
      "text/markdown": [
       "\n",
       "| 1 | 3 | 5 | \n",
       "| 2 | 4 | 6 | \n",
       "\n",
       "\n"
      ],
      "text/plain": [
       "     [,1] [,2] [,3]\n",
       "[1,] 1    3    5   \n",
       "[2,] 2    4    6   "
      ]
     },
     "metadata": {},
     "output_type": "display_data"
    }
   ],
   "source": [
    "matrix(c(1,2,3,4,5,6), nrow=2, ncol=3)"
   ]
  },
  {
   "cell_type": "markdown",
   "metadata": {},
   "source": [
    "#### Function `dim()`<a name=\"func_dim\">\n",
    "\n",
    "Here is another way to create a matrix. Take a single vector and convert it to a matrix"
   ]
  },
  {
   "cell_type": "code",
   "execution_count": null,
   "metadata": {},
   "outputs": [],
   "source": [
    "d <- 1:15\n",
    "mymatrix <- matrix(d)"
   ]
  },
  {
   "cell_type": "markdown",
   "metadata": {},
   "source": [
    "The matrix above has 15 rows and 1 column. It has the dimensions (dim) 15 and 1. This is the length of rows and columns.\n",
    "\n",
    "Remember: **the first value refers to rows, the second to columns**\n",
    "\n",
    "The following line returns a vector showing the dimensions:"
   ]
  },
  {
   "cell_type": "code",
   "execution_count": null,
   "metadata": {},
   "outputs": [],
   "source": [
    "dim(mymatrix)"
   ]
  },
  {
   "cell_type": "markdown",
   "metadata": {},
   "source": [
    "Let's manipulate these dimensions. \n",
    "\n",
    "We do that by changing the dimension-vector returned by `dim()`. Be careful: length of rows multiplied by length of columns must be equal to the number of elements of mymatrix, which is 15.   \n",
    "(3 * 5 = 15)"
   ]
  },
  {
   "cell_type": "code",
   "execution_count": null,
   "metadata": {},
   "outputs": [],
   "source": [
    "dim(mymatrix) <- c(3,5)\n",
    "mymatrix"
   ]
  },
  {
   "cell_type": "markdown",
   "metadata": {},
   "source": [
    "#### Exercise Matrix Building<a name=\"ex_mat\">\n",
    "\n",
    "Create two matrices called 'mymat1' and 'mymat2'. These matrices should look like:\n",
    "\n",
    "mymat1\n",
    "\n",
    "&nbsp;&nbsp;1&nbsp;&nbsp;&nbsp;   2  \n",
    "&nbsp;&nbsp;3&nbsp;&nbsp;&nbsp;   4  \n",
    "&nbsp;-4 &nbsp;&nbsp; 6\n",
    "\n",
    "mymat2\n",
    "\n",
    "&nbsp;&nbsp; 1 &nbsp;&nbsp;&nbsp;  3  \n",
    "&nbsp;&nbsp; 2 &nbsp;&nbsp;&nbsp;  4  \n",
    "&nbsp; -4 &nbsp;&nbsp;&nbsp;  4\n",
    "\n",
    "Insert a new cell below this cell and create these matrices."
   ]
  },
  {
   "cell_type": "markdown",
   "metadata": {},
   "source": [
    "Some inspection of these matrices:"
   ]
  },
  {
   "cell_type": "code",
   "execution_count": null,
   "metadata": {},
   "outputs": [],
   "source": [
    "class(mymat1) # It should be a matrix\n",
    "dim(mymat1)   # Rows should have length 3, columns should have length 2\n",
    "str(mymat1)   # The structure shows\n",
    "              #  - elements within rows 1 to 3 and columns 1 to 2 are numerical\n",
    "              #  - and have the values 1 3 -4 2 4 6 "
   ]
  },
  {
   "cell_type": "markdown",
   "metadata": {},
   "source": [
    "#### Position index<a name=\"PImat\">"
   ]
  },
  {
   "cell_type": "markdown",
   "metadata": {},
   "source": [
    "'mymat1' should look like this:\n",
    "\n",
    "mymat1   \n",
    "&nbsp;&nbsp;1 &nbsp;&nbsp;&nbsp; 2  \n",
    "&nbsp;&nbsp;3 &nbsp;&nbsp;&nbsp; 4  \n",
    "&nbsp; -4 &nbsp;&nbsp; 6\n",
    "\n",
    "Let's only select the second row. Make use of the position index in brackets: mymat1[ , ]  \n",
    "Remember: the left-hand side refers to rows, the right-hand side to colums.\n",
    "\n",
    "Thus `mymat1[2,]` will return the second row of the matrix 'mymat1' (as a vector):"
   ]
  },
  {
   "cell_type": "code",
   "execution_count": null,
   "metadata": {},
   "outputs": [],
   "source": [
    "mymat1[2,]"
   ]
  },
  {
   "cell_type": "markdown",
   "metadata": {},
   "source": [
    "Knowing this, we can also select only the second column:"
   ]
  },
  {
   "cell_type": "code",
   "execution_count": null,
   "metadata": {},
   "outputs": [],
   "source": [
    "mymat1[,2]"
   ]
  },
  {
   "cell_type": "markdown",
   "metadata": {},
   "source": [
    "The 6 in 'mymat1' has the position third row, second column:"
   ]
  },
  {
   "cell_type": "code",
   "execution_count": null,
   "metadata": {},
   "outputs": [],
   "source": [
    "mymat1[3,2]"
   ]
  },
  {
   "cell_type": "markdown",
   "metadata": {},
   "source": [
    "print() demonstrates the matrix structure:"
   ]
  },
  {
   "cell_type": "code",
   "execution_count": null,
   "metadata": {},
   "outputs": [],
   "source": [
    "print(mymat1)"
   ]
  },
  {
   "cell_type": "markdown",
   "metadata": {},
   "source": [
    "#### Some basic vector and matrix operations<a name=\"vector-ops\">"
   ]
  },
  {
   "cell_type": "markdown",
   "metadata": {},
   "source": [
    "Let's multiply all vector elements by the same number.\n",
    "\n",
    "Vector 'a' has the three elements 2, 4 and 5, and all of them should be multiplied by 1.5.   \n",
    "Doing so in R, just execute:"
   ]
  },
  {
   "cell_type": "code",
   "execution_count": null,
   "metadata": {},
   "outputs": [],
   "source": [
    "a*1.5"
   ]
  },
  {
   "cell_type": "markdown",
   "metadata": {},
   "source": [
    "The same can be done with summation: add number 1.5 to all vector elements:"
   ]
  },
  {
   "cell_type": "code",
   "execution_count": null,
   "metadata": {},
   "outputs": [],
   "source": [
    "a+1.5"
   ]
  },
  {
   "cell_type": "markdown",
   "metadata": {},
   "source": [
    "If you want to sum up all vector elements, use function `sum()`:"
   ]
  },
  {
   "cell_type": "code",
   "execution_count": null,
   "metadata": {},
   "outputs": [],
   "source": [
    "sum(a)"
   ]
  },
  {
   "cell_type": "markdown",
   "metadata": {},
   "source": [
    "The same can be done if we want to multiply all elements of a matrix with the same number.  \n",
    "Let's take mymat1 again and multiply all matrix elements with number 1.5:"
   ]
  },
  {
   "cell_type": "code",
   "execution_count": null,
   "metadata": {},
   "outputs": [],
   "source": [
    "mymat1 <- cbind(c(1,2,-4),c(2,4,6))\n",
    "mymat1\n",
    "mymat1*1.5"
   ]
  },
  {
   "cell_type": "markdown",
   "metadata": {},
   "source": [
    "Add 1.5 to all elements of the matix:"
   ]
  },
  {
   "cell_type": "code",
   "execution_count": null,
   "metadata": {},
   "outputs": [],
   "source": [
    "mymat1+1.5"
   ]
  },
  {
   "cell_type": "markdown",
   "metadata": {},
   "source": [
    "By use of the position index, we can add 1.5 to the elements of a specific row or column.  \n",
    "\n",
    "For example, take the first row of the matrix and add 1.5:"
   ]
  },
  {
   "cell_type": "code",
   "execution_count": null,
   "metadata": {},
   "outputs": [],
   "source": [
    "mymat1[1,]+1.5"
   ]
  },
  {
   "cell_type": "markdown",
   "metadata": {},
   "source": [
    "*Caution*: by doing so, matrix mymat1 remains unchanged. The first row is still the original row."
   ]
  },
  {
   "cell_type": "markdown",
   "metadata": {},
   "source": [
    "You may want to create an updated matrix by overwriting the original matrix.  \n",
    "\n",
    "In this example, you do this by taking the first row of mymat1, and assign the sum of first row elements and 1.5 to it:"
   ]
  },
  {
   "cell_type": "code",
   "execution_count": null,
   "metadata": {},
   "outputs": [],
   "source": [
    "mymat1[1,] <- mymat1[1,]+1.5"
   ]
  },
  {
   "cell_type": "markdown",
   "metadata": {},
   "source": [
    "Now, mymat1 is updated:"
   ]
  },
  {
   "cell_type": "code",
   "execution_count": null,
   "metadata": {},
   "outputs": [],
   "source": [
    "mymat1"
   ]
  },
  {
   "cell_type": "markdown",
   "metadata": {
    "slideshow": {
     "slide_type": "slide"
    }
   },
   "source": [
    "## Two Dimensional Data Structures II <a name=\"data_structures2\">"
   ]
  },
  {
   "cell_type": "markdown",
   "metadata": {
    "slideshow": {
     "slide_type": "slide"
    }
   },
   "source": [
    "### Matrix and Data Frame - Important differences<a name=\"data_frame\">\n",
    "For the purposes of our course, managing, manipulating and analysing data, the `data frame` is the most important two dimensional data structure in R. When reading datasets stored in a `csv` or `txt` data file formats, they are converted into a data frame by default. \n",
    "\n",
    "Like a `matrix`, all columns of the data frame have equal length, as do all rows. Also, data of a given column are of the same class (e.g. numerical, integer, character string, logical, factor).  \n",
    "But in contrast to matrices, different columns of a data frame may comprise different classes of data.\n",
    "\n",
    "We can demonstrate this by constructing a data frame.  \n",
    "Let there be three vectors &ndash; of same length &ndash; with vector classes `character` and `numeric`\n",
    "    \n",
    "`subject <- c(\"A\",\"B\",\"C\",\"A\",\"B\",\"C\")`  \n",
    "`test <- c(1,1,1,2,2,2)`  \n",
    "`score <- c(22,31,10,20,45,2)`"
   ]
  },
  {
   "cell_type": "code",
   "execution_count": 32,
   "metadata": {
    "slideshow": {
     "slide_type": "subslide"
    }
   },
   "outputs": [
    {
     "name": "stdout",
     "output_type": "stream",
     "text": [
      "     subject test score\n",
      "[1,] \"A\"     \"1\"  \"22\" \n",
      "[2,] \"B\"     \"1\"  \"31\" \n",
      "[3,] \"C\"     \"1\"  \"10\" \n",
      "[4,] \"A\"     \"2\"  \"20\" \n",
      "[5,] \"B\"     \"2\"  \"45\" \n",
      "[6,] \"C\"     \"2\"  \"2\"  \n"
     ]
    }
   ],
   "source": [
    "mymatrix <- cbind(subject,test,score)\n",
    "print(mymatrix)"
   ]
  },
  {
   "cell_type": "markdown",
   "metadata": {
    "slideshow": {
     "slide_type": "slide"
    }
   },
   "source": [
    "One way to create a matrix is to bind vectors, here we use `cbind()` for columnar binding:\n",
    "\n",
    "`mymatrix <- cbind(subject,test,score)`"
   ]
  },
  {
   "cell_type": "code",
   "execution_count": null,
   "metadata": {
    "slideshow": {
     "slide_type": "subslide"
    }
   },
   "outputs": [],
   "source": []
  },
  {
   "cell_type": "markdown",
   "metadata": {
    "slideshow": {
     "slide_type": "subslide"
    }
   },
   "source": [
    "Caution: The standard Jupyter notebook output (Jupyter Lab Version 0.34.9) shows a table which looks fine, but this is misleading. As matrices may cover only a single vector class and the matrix is build of numerical data and character strings, numerical data are \"downgraded\" to character strings, which is nominal data type (see next session). As a consequence, e.g.  summing up all data of variable score is impossible:\n",
    "\n",
    "`sum(mymatrix[,3])` produces an error."
   ]
  },
  {
   "cell_type": "code",
   "execution_count": null,
   "metadata": {
    "slideshow": {
     "slide_type": "fragment"
    }
   },
   "outputs": [],
   "source": [
    "  "
   ]
  },
  {
   "cell_type": "markdown",
   "metadata": {
    "slideshow": {
     "slide_type": "subslide"
    }
   },
   "source": [
    "In Jupyter, it is essential to use the `print()` function in order to create a clearly arranged output that covers basic or standard information of data structures in R.   \n",
    "Now you may immediately recognise that all variables consist of character strings marked by quote signs:"
   ]
  },
  {
   "cell_type": "code",
   "execution_count": 153,
   "metadata": {
    "slideshow": {
     "slide_type": "fragment"
    }
   },
   "outputs": [
    {
     "name": "stdout",
     "output_type": "stream",
     "text": [
      "     subject test score\n",
      "[1,] \"A\"     \"1\"  \"22\" \n",
      "[2,] \"B\"     \"1\"  \"31\" \n",
      "[3,] \"C\"     \"1\"  \"10\" \n",
      "[4,] \"A\"     \"2\"  \"20\" \n",
      "[5,] \"B\"     \"2\"  \"45\" \n",
      "[6,] \"C\"     \"2\"  \"2\"  \n"
     ]
    }
   ],
   "source": [
    "print(mymatrix)"
   ]
  },
  {
   "cell_type": "markdown",
   "metadata": {
    "slideshow": {
     "slide_type": "slide"
    }
   },
   "source": [
    "Now create a data frame (called mydf) of the three variables using function `data.frame()` and compare the output the matrix output above:"
   ]
  },
  {
   "cell_type": "code",
   "execution_count": 34,
   "metadata": {
    "slideshow": {
     "slide_type": "fragment"
    }
   },
   "outputs": [
    {
     "name": "stdout",
     "output_type": "stream",
     "text": [
      "  subject test score\n",
      "1       A    1    22\n",
      "2       B    1    31\n",
      "3       C    1    10\n",
      "4       A    2    20\n",
      "5       B    2    45\n",
      "6       C    2     2\n"
     ]
    }
   ],
   "source": [
    "mydf <- data.frame(subject,test,score)\n",
    "print(mydf) "
   ]
  },
  {
   "cell_type": "markdown",
   "metadata": {
    "slideshow": {
     "slide_type": "fragment"
    }
   },
   "source": [
    "If your intuition is that this data frame has no character string data, you're right.  \n",
    "Inspection of the data frame using function `str()` provides information about its structure:"
   ]
  },
  {
   "cell_type": "code",
   "execution_count": 155,
   "metadata": {
    "slideshow": {
     "slide_type": "subslide"
    }
   },
   "outputs": [
    {
     "name": "stdout",
     "output_type": "stream",
     "text": [
      "'data.frame':\t6 obs. of  3 variables:\n",
      " $ subject: Factor w/ 3 levels \"A\",\"B\",\"C\": 1 2 3 1 2 3\n",
      " $ test   : num  1 1 1 2 2 2\n",
      " $ score  : num  22 31 10 20 45 2\n"
     ]
    }
   ],
   "source": [
    "str(mydf)"
   ]
  },
  {
   "cell_type": "markdown",
   "metadata": {
    "slideshow": {
     "slide_type": "subslide"
    }
   },
   "source": [
    "Inspection of data structures will be covered in the next section of this notebook. For now, it is important to see that the data frame consists of different types of data: variables test and score are numerical vectors, whereas variable subject is a vector of class factor (the character string has been converted to a factor).   \n",
    "As such, this correctly sums up all score values:"
   ]
  },
  {
   "cell_type": "code",
   "execution_count": 156,
   "metadata": {
    "slideshow": {
     "slide_type": "subslide"
    }
   },
   "outputs": [
    {
     "data": {
      "text/html": [
       "130"
      ],
      "text/latex": [
       "130"
      ],
      "text/markdown": [
       "130"
      ],
      "text/plain": [
       "[1] 130"
      ]
     },
     "metadata": {},
     "output_type": "display_data"
    }
   ],
   "source": [
    "sum(mydf[,3])"
   ]
  },
  {
   "cell_type": "markdown",
   "metadata": {
    "slideshow": {
     "slide_type": "slide"
    }
   },
   "source": [
    "### Inspection of the data frame<a name=\"inspection\">\n",
    "Remember that an object will be stored in the workspace until shutdown of the notebook (use function `ls()` to show all objects stored).   \n",
    "We will do some inspections on the object mydf:\n",
    "    \n",
    "- Object class: `class()`"
   ]
  },
  {
   "cell_type": "code",
   "execution_count": null,
   "metadata": {
    "slideshow": {
     "slide_type": "fragment"
    }
   },
   "outputs": [],
   "source": []
  },
  {
   "cell_type": "markdown",
   "metadata": {
    "slideshow": {
     "slide_type": "subslide"
    }
   },
   "source": [
    "- Number of rows and number of culumns: `nrow()` , `ncol()`"
   ]
  },
  {
   "cell_type": "code",
   "execution_count": null,
   "metadata": {
    "slideshow": {
     "slide_type": "fragment"
    }
   },
   "outputs": [],
   "source": []
  },
  {
   "cell_type": "markdown",
   "metadata": {
    "slideshow": {
     "slide_type": "subslide"
    }
   },
   "source": [
    "- dimensions: `dim()` (showing both rows and columns; in that order)"
   ]
  },
  {
   "cell_type": "code",
   "execution_count": 35,
   "metadata": {
    "slideshow": {
     "slide_type": "fragment"
    }
   },
   "outputs": [
    {
     "data": {
      "text/html": [
       "<ol class=list-inline>\n",
       "\t<li>6</li>\n",
       "\t<li>3</li>\n",
       "</ol>\n"
      ],
      "text/latex": [
       "\\begin{enumerate*}\n",
       "\\item 6\n",
       "\\item 3\n",
       "\\end{enumerate*}\n"
      ],
      "text/markdown": [
       "1. 6\n",
       "2. 3\n",
       "\n",
       "\n"
      ],
      "text/plain": [
       "[1] 6 3"
      ]
     },
     "metadata": {},
     "output_type": "display_data"
    }
   ],
   "source": [
    "dim(mydf)"
   ]
  },
  {
   "cell_type": "markdown",
   "metadata": {
    "slideshow": {
     "slide_type": "subslide"
    }
   },
   "source": [
    "- names of columns: `colnames()`"
   ]
  },
  {
   "cell_type": "code",
   "execution_count": 36,
   "metadata": {
    "slideshow": {
     "slide_type": "fragment"
    }
   },
   "outputs": [
    {
     "data": {
      "text/html": [
       "<ol class=list-inline>\n",
       "\t<li>'subject'</li>\n",
       "\t<li>'test'</li>\n",
       "\t<li>'score'</li>\n",
       "</ol>\n"
      ],
      "text/latex": [
       "\\begin{enumerate*}\n",
       "\\item 'subject'\n",
       "\\item 'test'\n",
       "\\item 'score'\n",
       "\\end{enumerate*}\n"
      ],
      "text/markdown": [
       "1. 'subject'\n",
       "2. 'test'\n",
       "3. 'score'\n",
       "\n",
       "\n"
      ],
      "text/plain": [
       "[1] \"subject\" \"test\"    \"score\"  "
      ]
     },
     "metadata": {},
     "output_type": "display_data"
    }
   ],
   "source": [
    "colnames(mydf)"
   ]
  },
  {
   "cell_type": "markdown",
   "metadata": {
    "slideshow": {
     "slide_type": "subslide"
    }
   },
   "source": [
    "- the \"head\" of the data frame (the first six rows): `head()`  \n",
    "- the \"tail\" of the data frame (the last six rows): `tail()`  \n",
    "  - both functions provide a good and quick check when a data frame is created, though Jupyter output misses important information unless executing `print(head())`"
   ]
  },
  {
   "cell_type": "code",
   "execution_count": null,
   "metadata": {
    "slideshow": {
     "slide_type": "fragment"
    }
   },
   "outputs": [],
   "source": []
  },
  {
   "cell_type": "markdown",
   "metadata": {
    "slideshow": {
     "slide_type": "subslide"
    }
   },
   "source": [
    "- structure of the data frame:   "
   ]
  },
  {
   "cell_type": "code",
   "execution_count": 157,
   "metadata": {
    "slideshow": {
     "slide_type": "fragment"
    }
   },
   "outputs": [
    {
     "name": "stdout",
     "output_type": "stream",
     "text": [
      "'data.frame':\t6 obs. of  3 variables:\n",
      " $ subject: Factor w/ 3 levels \"A\",\"B\",\"C\": 1 2 3 1 2 3\n",
      " $ test   : num  1 1 1 2 2 2\n",
      " $ score  : num  22 31 10 20 45 2\n"
     ]
    }
   ],
   "source": [
    "str(mydf)"
   ]
  },
  {
   "cell_type": "markdown",
   "metadata": {
    "slideshow": {
     "slide_type": "fragment"
    }
   },
   "source": [
    "This output contains:  \n",
    "A. Information about object mydf: object class is data.frame, which has 6 rows (observations) and 3 columns (variables)  \n",
    "\n",
    "B. Information about all columns/variables\n",
    " 1. column subject: categorical vector class \"Factor\" with 3 levels \"A\", \"B\", \"C\": first values of this vector\n",
    " 2. column test: numerical vector: first values of this vector\n",
    " 3. column score: numberical vector: first values of this vector\n"
   ]
  },
  {
   "cell_type": "markdown",
   "metadata": {
    "slideshow": {
     "slide_type": "slide"
    }
   },
   "source": [
    "### Creating Subsets<a name=\"subsets\">"
   ]
  },
  {
   "cell_type": "markdown",
   "metadata": {
    "slideshow": {
     "slide_type": "slide"
    }
   },
   "source": [
    "#### Index<a name=\"index\">\n",
    "Like in matrices, indices can be used to specify subsets of a data frame. The first index refers to rows, the second the columns: \n",
    "    \n",
    "`df[row,col]`\n",
    "\n",
    "For data frame mydf, `mydf[,3]` returns the third column as a vector:"
   ]
  },
  {
   "cell_type": "code",
   "execution_count": null,
   "metadata": {
    "slideshow": {
     "slide_type": "fragment"
    }
   },
   "outputs": [],
   "source": []
  },
  {
   "cell_type": "markdown",
   "metadata": {
    "slideshow": {
     "slide_type": "subslide"
    }
   },
   "source": [
    "What follows here are vector inspections regarding the third column of the data frame:\n",
    "- head and tail of the vector: `head(mydf[,3])`, `tail(mydf[,3])`\n",
    "- length: `length(mydf[,3])` giving the number of vector elements"
   ]
  },
  {
   "cell_type": "code",
   "execution_count": null,
   "metadata": {
    "slideshow": {
     "slide_type": "fragment"
    }
   },
   "outputs": [],
   "source": []
  },
  {
   "cell_type": "markdown",
   "metadata": {
    "slideshow": {
     "slide_type": "subslide"
    }
   },
   "source": [
    "- vector class: `class(mydf[,3])`"
   ]
  },
  {
   "cell_type": "code",
   "execution_count": 37,
   "metadata": {
    "slideshow": {
     "slide_type": "fragment"
    }
   },
   "outputs": [
    {
     "data": {
      "text/html": [
       "'numeric'"
      ],
      "text/latex": [
       "'numeric'"
      ],
      "text/markdown": [
       "'numeric'"
      ],
      "text/plain": [
       "[1] \"numeric\""
      ]
     },
     "metadata": {},
     "output_type": "display_data"
    }
   ],
   "source": [
    "class(mydf[,3])"
   ]
  },
  {
   "cell_type": "markdown",
   "metadata": {
    "slideshow": {
     "slide_type": "subslide"
    }
   },
   "source": [
    "As this is a numerical vector, we can also show (for example):\n",
    "- the maximimum value: `max(mydf[,3])`\n",
    "- the minimum value: `min(mydf[,3])`\n",
    "- min and max value: `range(mydf[,3])`"
   ]
  },
  {
   "cell_type": "raw",
   "metadata": {
    "slideshow": {
     "slide_type": "fragment"
    }
   },
   "source": []
  },
  {
   "cell_type": "markdown",
   "metadata": {
    "slideshow": {
     "slide_type": "subslide"
    }
   },
   "source": [
    "Remember that the output of all of these inspections is again a vector. As such, you can index the output of `range(mydf[,3])`, for example in order to show the first position of the output vector of `range(mydf[,3])[1]` equals the minimum value `min(mydf[,3])`."
   ]
  },
  {
   "cell_type": "code",
   "execution_count": 40,
   "metadata": {
    "slideshow": {
     "slide_type": "fragment"
    }
   },
   "outputs": [
    {
     "data": {
      "text/html": [
       "<ol class=list-inline>\n",
       "\t<li>2</li>\n",
       "\t<li>45</li>\n",
       "</ol>\n"
      ],
      "text/latex": [
       "\\begin{enumerate*}\n",
       "\\item 2\n",
       "\\item 45\n",
       "\\end{enumerate*}\n"
      ],
      "text/markdown": [
       "1. 2\n",
       "2. 45\n",
       "\n",
       "\n"
      ],
      "text/plain": [
       "[1]  2 45"
      ]
     },
     "metadata": {},
     "output_type": "display_data"
    }
   ],
   "source": [
    "range(mydf[,3])"
   ]
  },
  {
   "cell_type": "markdown",
   "metadata": {
    "slideshow": {
     "slide_type": "subslide"
    }
   },
   "source": [
    "The first column of the data frame is a vector of class factor. You immediately recognise it when executing `mydf[,1]`. It is a categorical vector with three levels."
   ]
  },
  {
   "cell_type": "code",
   "execution_count": 44,
   "metadata": {
    "slideshow": {
     "slide_type": "fragment"
    }
   },
   "outputs": [
    {
     "data": {
      "text/html": [
       "FALSE"
      ],
      "text/latex": [
       "FALSE"
      ],
      "text/markdown": [
       "FALSE"
      ],
      "text/plain": [
       "[1] FALSE"
      ]
     },
     "metadata": {},
     "output_type": "display_data"
    }
   ],
   "source": [
    "range(mydf[,3])[1] != min(mydf[,3])"
   ]
  },
  {
   "cell_type": "markdown",
   "metadata": {
    "slideshow": {
     "slide_type": "subslide"
    }
   },
   "source": [
    "Use both position indices to indicate a single value of the data frame, e.g. second row second column: `mydf[2,2]`"
   ]
  },
  {
   "cell_type": "code",
   "execution_count": null,
   "metadata": {
    "slideshow": {
     "slide_type": "fragment"
    }
   },
   "outputs": [],
   "source": []
  },
  {
   "cell_type": "markdown",
   "metadata": {
    "slideshow": {
     "slide_type": "subslide"
    }
   },
   "source": [
    "Use combinations of numbers with `c()` or sequences like `2:4` to index more than one row or column position. \n",
    "\n",
    "For example:\n",
    "`mydf[2:4,c(1,3)]`"
   ]
  },
  {
   "cell_type": "code",
   "execution_count": null,
   "metadata": {
    "slideshow": {
     "slide_type": "fragment"
    }
   },
   "outputs": [],
   "source": []
  },
  {
   "cell_type": "markdown",
   "metadata": {
    "slideshow": {
     "slide_type": "subslide"
    }
   },
   "source": [
    "Remember that in all indexing examples above, a numerical or integer vector was used to index row or column positions. Values of these vectors were positive.\n",
    "\n",
    "If negative vector elements are used, indexed rows or columns are exluded.  \n",
    "For example:\n",
    "\n",
    "`mydf[-(2:4),]`\n",
    "\n",
    "returns the original data frame *except* rows 2 to 4:"
   ]
  },
  {
   "cell_type": "code",
   "execution_count": 45,
   "metadata": {
    "slideshow": {
     "slide_type": "fragment"
    }
   },
   "outputs": [
    {
     "data": {
      "text/html": [
       "<table>\n",
       "<thead><tr><th scope=col>subject</th><th scope=col>test</th></tr></thead>\n",
       "<tbody>\n",
       "\t<tr><td>A</td><td>1</td></tr>\n",
       "\t<tr><td>B</td><td>1</td></tr>\n",
       "\t<tr><td>C</td><td>1</td></tr>\n",
       "\t<tr><td>A</td><td>2</td></tr>\n",
       "\t<tr><td>B</td><td>2</td></tr>\n",
       "\t<tr><td>C</td><td>2</td></tr>\n",
       "</tbody>\n",
       "</table>\n"
      ],
      "text/latex": [
       "\\begin{tabular}{r|ll}\n",
       " subject & test\\\\\n",
       "\\hline\n",
       "\t A & 1\\\\\n",
       "\t B & 1\\\\\n",
       "\t C & 1\\\\\n",
       "\t A & 2\\\\\n",
       "\t B & 2\\\\\n",
       "\t C & 2\\\\\n",
       "\\end{tabular}\n"
      ],
      "text/markdown": [
       "\n",
       "subject | test | \n",
       "|---|---|---|---|---|---|\n",
       "| A | 1 | \n",
       "| B | 1 | \n",
       "| C | 1 | \n",
       "| A | 2 | \n",
       "| B | 2 | \n",
       "| C | 2 | \n",
       "\n",
       "\n"
      ],
      "text/plain": [
       "  subject test\n",
       "1 A       1   \n",
       "2 B       1   \n",
       "3 C       1   \n",
       "4 A       2   \n",
       "5 B       2   \n",
       "6 C       2   "
      ]
     },
     "metadata": {},
     "output_type": "display_data"
    }
   ],
   "source": [
    "mydf[,-3]"
   ]
  },
  {
   "cell_type": "markdown",
   "metadata": {
    "slideshow": {
     "slide_type": "slide"
    }
   },
   "source": [
    "#### `$` Column Selection<a name=\"dollar\">\n",
    "Instead of using the second position index, the symbol `$` can be used to selcted a specific column of a data frame, followed by one of the `colnames()`. e.g.  \n",
    "`mydf$test` returns the second column or variable `test` as a vector:"
   ]
  },
  {
   "cell_type": "code",
   "execution_count": 49,
   "metadata": {
    "slideshow": {
     "slide_type": "fragment"
    }
   },
   "outputs": [
    {
     "data": {
      "text/html": [
       "<ol class=list-inline>\n",
       "\t<li>22</li>\n",
       "\t<li>31</li>\n",
       "\t<li>10</li>\n",
       "\t<li>20</li>\n",
       "\t<li>45</li>\n",
       "\t<li>2</li>\n",
       "</ol>\n"
      ],
      "text/latex": [
       "\\begin{enumerate*}\n",
       "\\item 22\n",
       "\\item 31\n",
       "\\item 10\n",
       "\\item 20\n",
       "\\item 45\n",
       "\\item 2\n",
       "\\end{enumerate*}\n"
      ],
      "text/markdown": [
       "1. 22\n",
       "2. 31\n",
       "3. 10\n",
       "4. 20\n",
       "5. 45\n",
       "6. 2\n",
       "\n",
       "\n"
      ],
      "text/plain": [
       "[1] 22 31 10 20 45  2"
      ]
     },
     "metadata": {},
     "output_type": "display_data"
    }
   ],
   "source": [
    "mydf$score"
   ]
  },
  {
   "cell_type": "markdown",
   "metadata": {
    "slideshow": {
     "slide_type": "subslide"
    }
   },
   "source": [
    "Column selection using `$` is an intuitive way when dealing with specific variables. The matrix data structure does not support this syntax."
   ]
  },
  {
   "cell_type": "markdown",
   "metadata": {
    "slideshow": {
     "slide_type": "slide"
    }
   },
   "source": [
    "#### Logical Expressions<a name=\"log_index\">\n",
    "Not only numerical/integer, but also logical vectors are used to index subsets of data frames, matrices or vectors. By the use of logical expressions a subset can be created that exactly meets the criteria of that expression.\n",
    "\n",
    "Let's say, the subset should cover only and all rows for which this expression is `TRUE`:\n",
    "    \n",
    "`mydf$test == 1`"
   ]
  },
  {
   "cell_type": "code",
   "execution_count": null,
   "metadata": {
    "slideshow": {
     "slide_type": "skip"
    }
   },
   "outputs": [],
   "source": []
  },
  {
   "cell_type": "markdown",
   "metadata": {
    "slideshow": {
     "slide_type": "fragment"
    }
   },
   "source": [
    "To do so, this logical vector is used as row index of the data frame:\n",
    "\n",
    "`mydf[mydf$test == 1,]`"
   ]
  },
  {
   "cell_type": "code",
   "execution_count": 50,
   "metadata": {
    "slideshow": {
     "slide_type": "fragment"
    }
   },
   "outputs": [
    {
     "data": {
      "text/html": [
       "<ol class=list-inline>\n",
       "\t<li>TRUE</li>\n",
       "\t<li>TRUE</li>\n",
       "\t<li>TRUE</li>\n",
       "\t<li>FALSE</li>\n",
       "\t<li>FALSE</li>\n",
       "\t<li>FALSE</li>\n",
       "</ol>\n"
      ],
      "text/latex": [
       "\\begin{enumerate*}\n",
       "\\item TRUE\n",
       "\\item TRUE\n",
       "\\item TRUE\n",
       "\\item FALSE\n",
       "\\item FALSE\n",
       "\\item FALSE\n",
       "\\end{enumerate*}\n"
      ],
      "text/markdown": [
       "1. TRUE\n",
       "2. TRUE\n",
       "3. TRUE\n",
       "4. FALSE\n",
       "5. FALSE\n",
       "6. FALSE\n",
       "\n",
       "\n"
      ],
      "text/plain": [
       "[1]  TRUE  TRUE  TRUE FALSE FALSE FALSE"
      ]
     },
     "metadata": {},
     "output_type": "display_data"
    }
   ],
   "source": [
    "mydf$test == 1"
   ]
  },
  {
   "cell_type": "markdown",
   "metadata": {
    "slideshow": {
     "slide_type": "subslide"
    }
   },
   "source": [
    "Let's extend the logical expression and create another subset for which the expressions \"test value equals 1\" AND \"score value greater than or equal 20\" is true:  \n",
    "\n",
    "`mydf$test==1 & mydf$score >= 20`"
   ]
  },
  {
   "cell_type": "code",
   "execution_count": 59,
   "metadata": {
    "slideshow": {
     "slide_type": "fragment"
    }
   },
   "outputs": [
    {
     "name": "stdout",
     "output_type": "stream",
     "text": [
      "  subject test score\n",
      "3       C    1    10\n",
      "4       A    2    20\n",
      "5       B    2    45\n"
     ]
    }
   ],
   "source": [
    "\n",
    "print(mydf[xor(A,B),])"
   ]
  },
  {
   "cell_type": "markdown",
   "metadata": {
    "slideshow": {
     "slide_type": "slide"
    }
   },
   "source": [
    "#### Subset Function<a name=\"subset\">\n",
    "Function `subset()` provides a convenient way to create a subset of a given data frame, matrix or vector using logical expressions.\n",
    "\n",
    "Here is a subset of mydf which consists of all rows for which the expression \"test value equals 2\" is true:\n",
    "    \n",
    "`subset(mydf, test==2)`  "
   ]
  },
  {
   "cell_type": "code",
   "execution_count": null,
   "metadata": {
    "slideshow": {
     "slide_type": "fragment"
    }
   },
   "outputs": [],
   "source": []
  },
  {
   "cell_type": "markdown",
   "metadata": {
    "slideshow": {
     "slide_type": "subslide"
    }
   },
   "source": [
    "Here is another subset for which the expressions \"test value equals 2\" and \"scores value greater than or equal 20\" is true:  \n",
    "\n",
    "`subset(mydf, test==2 & scores >=20)`"
   ]
  },
  {
   "cell_type": "code",
   "execution_count": null,
   "metadata": {
    "slideshow": {
     "slide_type": "fragment"
    }
   },
   "outputs": [],
   "source": []
  },
  {
   "cell_type": "markdown",
   "metadata": {
    "slideshow": {
     "slide_type": "subslide"
    }
   },
   "source": [
    "Be careful. The `subset()`output is an individual subset *apart* from the original data frame. As such, manipulations within these subsets would have no consequences for the original data frame."
   ]
  },
  {
   "cell_type": "markdown",
   "metadata": {
    "slideshow": {
     "slide_type": "slide"
    }
   },
   "source": [
    "### Manipulating Data or Data Frame Attributes<a name=\"manipulation\">"
   ]
  },
  {
   "cell_type": "markdown",
   "metadata": {
    "slideshow": {
     "slide_type": "slide"
    }
   },
   "source": [
    "#### Changing column or variable names<a name=\"colnames\">\n",
    "To change column or variable names, the function `colnames()` we know from data frame inspection is used. \n",
    "\n",
    "`colnames(mydf)` gives a vector of character strings of column names:"
   ]
  },
  {
   "cell_type": "code",
   "execution_count": 60,
   "metadata": {
    "slideshow": {
     "slide_type": "fragment"
    }
   },
   "outputs": [
    {
     "data": {
      "text/html": [
       "<ol class=list-inline>\n",
       "\t<li>'subject'</li>\n",
       "\t<li>'test'</li>\n",
       "\t<li>'score'</li>\n",
       "</ol>\n"
      ],
      "text/latex": [
       "\\begin{enumerate*}\n",
       "\\item 'subject'\n",
       "\\item 'test'\n",
       "\\item 'score'\n",
       "\\end{enumerate*}\n"
      ],
      "text/markdown": [
       "1. 'subject'\n",
       "2. 'test'\n",
       "3. 'score'\n",
       "\n",
       "\n"
      ],
      "text/plain": [
       "[1] \"subject\" \"test\"    \"score\"  "
      ]
     },
     "metadata": {},
     "output_type": "display_data"
    },
    {
     "data": {
      "text/html": [
       "'character'"
      ],
      "text/latex": [
       "'character'"
      ],
      "text/markdown": [
       "'character'"
      ],
      "text/plain": [
       "[1] \"character\""
      ]
     },
     "metadata": {},
     "output_type": "display_data"
    }
   ],
   "source": [
    "colnames(mydf)\n",
    "class(colnames(mydf))"
   ]
  },
  {
   "cell_type": "markdown",
   "metadata": {
    "slideshow": {
     "slide_type": "subslide"
    }
   },
   "source": [
    "Changing the column names of a data frame is provided by changing these vector elements.   \n",
    "\n",
    "Take the third element of colnames vector:\n",
    "`colnames(mydf)[3]`"
   ]
  },
  {
   "cell_type": "code",
   "execution_count": null,
   "metadata": {
    "slideshow": {
     "slide_type": "fragment"
    }
   },
   "outputs": [],
   "source": []
  },
  {
   "cell_type": "markdown",
   "metadata": {
    "slideshow": {
     "slide_type": "subslide"
    }
   },
   "source": [
    "You can now change or overwrite this element with a different character string. Say, we want the referring variable within our data frame to be called \"scores\" (the plural):\n",
    "\n",
    "`colnames(mydf)[3] <- \"scores\"`"
   ]
  },
  {
   "cell_type": "code",
   "execution_count": null,
   "metadata": {
    "slideshow": {
     "slide_type": "fragment"
    }
   },
   "outputs": [],
   "source": []
  },
  {
   "cell_type": "markdown",
   "metadata": {
    "slideshow": {
     "slide_type": "fragment"
    }
   },
   "source": [
    "Now a quick look at the head of our data frame can show the result of that manipulation:"
   ]
  },
  {
   "cell_type": "code",
   "execution_count": null,
   "metadata": {
    "slideshow": {
     "slide_type": "fragment"
    }
   },
   "outputs": [],
   "source": []
  },
  {
   "cell_type": "markdown",
   "metadata": {
    "slideshow": {
     "slide_type": "slide"
    }
   },
   "source": [
    "#### Changing single values<a name=\"singlevals\">\n",
    "Errors may occur when dealing with data, and correcting these data may become mandatory. Though, it will be a messy enterprise if you cannot track your data manipulation in retrospect. For example, using spreadsheats and just overwriting single cells makes your manipulations untrackable.   \n",
    "R-Scripts or (Jupyter) Notebooks make it easy to track manipulations in retrospect, they facilitate literate coding.\n",
    "\n",
    "The principle is the same as in changing column names: take a subset of data or data structure attribute and change / overwrite it.\n",
    "    \n",
    "Let's say the score of subject C test 1 was 12, not 10. A possibility to change that score is to specify the regarding position by use of its position index `mydf[3,3]`, and overwrite the element at that position:\n",
    "    \n",
    "`mydf[3,3] <- 12`"
   ]
  },
  {
   "cell_type": "code",
   "execution_count": null,
   "metadata": {
    "slideshow": {
     "slide_type": "fragment"
    }
   },
   "outputs": [],
   "source": []
  },
  {
   "cell_type": "markdown",
   "metadata": {
    "slideshow": {
     "slide_type": "slide"
    }
   },
   "source": [
    "#### Extend the Data Frame<a name=\"extend\">"
   ]
  },
  {
   "cell_type": "markdown",
   "metadata": {
    "slideshow": {
     "slide_type": "fragment"
    }
   },
   "source": [
    "There are different strategies to extend the data frame.  \n",
    "\n",
    "- One way is binding using functions `cbind()` or `rbind`.\n",
    "\n",
    "Say, we want to add a second score to the data frame as fourth column that is\n",
    "\n",
    "`score2 <- c(24,53,33,22,11,14)`\n",
    "\n",
    "We can use columnar binding to extend the data frame:\n",
    "\n",
    "`cbind(mydf,score2)`"
   ]
  },
  {
   "cell_type": "code",
   "execution_count": null,
   "metadata": {
    "slideshow": {
     "slide_type": "fragment"
    }
   },
   "outputs": [],
   "source": []
  },
  {
   "cell_type": "markdown",
   "metadata": {
    "slideshow": {
     "slide_type": "subslide"
    }
   },
   "source": [
    "CAUTION: Doing so, the original data frame remains unchanged. The function `cbind()` takes the data frame and the vector as arguments and binds them. That's all. The only way to store that extended data frame in workspace is to create an object that covers it (a new object, or overwriting the existing mydf), e.g.\n",
    "\n",
    "`mydf <- cbind(mydf,score2)`"
   ]
  },
  {
   "cell_type": "code",
   "execution_count": null,
   "metadata": {
    "slideshow": {
     "slide_type": "fragment"
    }
   },
   "outputs": [],
   "source": []
  },
  {
   "cell_type": "markdown",
   "metadata": {
    "slideshow": {
     "slide_type": "subslide"
    }
   },
   "source": [
    "- Another way to achieve the same result is:\n",
    "\n",
    "`mydf[,4] <- score2`\n",
    "\n",
    "and adding the variable name:\n",
    "\n",
    "`colnames(mydf)[4] <- \"score2\"`"
   ]
  },
  {
   "cell_type": "code",
   "execution_count": null,
   "metadata": {
    "slideshow": {
     "slide_type": "fragment"
    }
   },
   "outputs": [],
   "source": []
  },
  {
   "cell_type": "markdown",
   "metadata": {
    "slideshow": {
     "slide_type": "subslide"
    }
   },
   "source": [
    "- Finally, you may add a new column called \"scores2\" to the right of the existig data frame by using the `$`-sign, and assign the values to that column:\n",
    "\n",
    "`mydf$score2 <- score2`"
   ]
  },
  {
   "cell_type": "code",
   "execution_count": 63,
   "metadata": {
    "slideshow": {
     "slide_type": "fragment"
    }
   },
   "outputs": [
    {
     "data": {
      "text/html": [
       "<table>\n",
       "<thead><tr><th scope=col>subject</th><th scope=col>test</th><th scope=col>score</th><th scope=col>V4</th></tr></thead>\n",
       "<tbody>\n",
       "\t<tr><td>A </td><td>1 </td><td>22</td><td>1 </td></tr>\n",
       "\t<tr><td>B </td><td>1 </td><td>31</td><td>2 </td></tr>\n",
       "\t<tr><td>C </td><td>1 </td><td>10</td><td>3 </td></tr>\n",
       "\t<tr><td>A </td><td>2 </td><td>20</td><td>4 </td></tr>\n",
       "\t<tr><td>B </td><td>2 </td><td>45</td><td>5 </td></tr>\n",
       "\t<tr><td>C </td><td>2 </td><td> 2</td><td>6 </td></tr>\n",
       "</tbody>\n",
       "</table>\n"
      ],
      "text/latex": [
       "\\begin{tabular}{r|llll}\n",
       " subject & test & score & V4\\\\\n",
       "\\hline\n",
       "\t A  & 1  & 22 & 1 \\\\\n",
       "\t B  & 1  & 31 & 2 \\\\\n",
       "\t C  & 1  & 10 & 3 \\\\\n",
       "\t A  & 2  & 20 & 4 \\\\\n",
       "\t B  & 2  & 45 & 5 \\\\\n",
       "\t C  & 2  &  2 & 6 \\\\\n",
       "\\end{tabular}\n"
      ],
      "text/markdown": [
       "\n",
       "subject | test | score | V4 | \n",
       "|---|---|---|---|---|---|\n",
       "| A  | 1  | 22 | 1  | \n",
       "| B  | 1  | 31 | 2  | \n",
       "| C  | 1  | 10 | 3  | \n",
       "| A  | 2  | 20 | 4  | \n",
       "| B  | 2  | 45 | 5  | \n",
       "| C  | 2  |  2 | 6  | \n",
       "\n",
       "\n"
      ],
      "text/plain": [
       "  subject test score V4\n",
       "1 A       1    22    1 \n",
       "2 B       1    31    2 \n",
       "3 C       1    10    3 \n",
       "4 A       2    20    4 \n",
       "5 B       2    45    5 \n",
       "6 C       2     2    6 "
      ]
     },
     "metadata": {},
     "output_type": "display_data"
    }
   ],
   "source": [
    "mydf[,4] <- c(1,2,3,4,5,6)\n",
    "mydf"
   ]
  },
  {
   "cell_type": "markdown",
   "metadata": {
    "slideshow": {
     "slide_type": "slide"
    }
   },
   "source": [
    "#### Delete Columns\n",
    "Above knowlege of data frame management and manipulation is suffient to understand column deletion. Remember that negative column indices exlude columns. As such, this returns the data frame mydf execpt its fourth column:\n",
    "\n",
    "`mydf[,-4]`"
   ]
  },
  {
   "cell_type": "code",
   "execution_count": null,
   "metadata": {
    "slideshow": {
     "slide_type": "fragment"
    }
   },
   "outputs": [],
   "source": []
  },
  {
   "cell_type": "markdown",
   "metadata": {
    "slideshow": {
     "slide_type": "subslide"
    }
   },
   "source": [
    "For permanent deletion of that data frame column in workspace, mydf has to be overwritten:\n",
    "\n",
    "`mydf <- mydf[,-4]`"
   ]
  },
  {
   "cell_type": "code",
   "execution_count": null,
   "metadata": {
    "slideshow": {
     "slide_type": "fragment"
    }
   },
   "outputs": [],
   "source": []
  },
  {
   "cell_type": "markdown",
   "metadata": {
    "slideshow": {
     "slide_type": "slide"
    }
   },
   "source": [
    "#### Change Order of Columns<a name=\"change_columns\">\n",
    "Again, take a look at the column names which produces a charcter vector with length = ncol:\n",
    "    \n",
    "`colnames(mydf)`"
   ]
  },
  {
   "cell_type": "code",
   "execution_count": 175,
   "metadata": {
    "slideshow": {
     "slide_type": "fragment"
    }
   },
   "outputs": [
    {
     "data": {
      "text/html": [
       "<ol class=list-inline>\n",
       "\t<li>'subject'</li>\n",
       "\t<li>'test'</li>\n",
       "\t<li>'score'</li>\n",
       "</ol>\n"
      ],
      "text/latex": [
       "\\begin{enumerate*}\n",
       "\\item 'subject'\n",
       "\\item 'test'\n",
       "\\item 'score'\n",
       "\\end{enumerate*}\n"
      ],
      "text/markdown": [
       "1. 'subject'\n",
       "2. 'test'\n",
       "3. 'score'\n",
       "\n",
       "\n"
      ],
      "text/plain": [
       "[1] \"subject\" \"test\"    \"score\"  "
      ]
     },
     "metadata": {},
     "output_type": "display_data"
    }
   ],
   "source": [
    "colnames(mydf)"
   ]
  },
  {
   "cell_type": "markdown",
   "metadata": {
    "slideshow": {
     "slide_type": "subslide"
    }
   },
   "source": [
    "Say we want \"test\" to be the first and \"subject\" to the second column. To achieve this, create a character vector which covers the exact column names in the desired order, and place it in the column index position of mydf\n",
    "\n",
    "`mydf[,c(\"test\", \"subject\", \"score\")]`\n",
    "\n",
    "or\n",
    "\n",
    "`mydf[,c(colnames(mydf)[2], colnames(mydf)[1], colnames(mydf)[3])]`\n",
    "\n",
    "Finally, overwrite the original data frame:\n",
    "\n",
    "`mydf <- mydf[,c(\"test\", \"subject\", \"score\")]`"
   ]
  },
  {
   "cell_type": "code",
   "execution_count": null,
   "metadata": {
    "slideshow": {
     "slide_type": "fragment"
    }
   },
   "outputs": [],
   "source": []
  },
  {
   "cell_type": "markdown",
   "metadata": {
    "slideshow": {
     "slide_type": "slide"
    }
   },
   "source": [
    "## Save, load, and import files<a name=\"import\">"
   ]
  },
  {
   "cell_type": "markdown",
   "metadata": {
    "slideshow": {
     "slide_type": "slide"
    }
   },
   "source": [
    "### The Working Directory<a name=\"wd\">\n",
    "The working directory (wd) is the location in the file system where files are stored or from where files are imported. In Jupyter, the working directory is automatically set at the location within the Jupyter file system where the notebook is stored. \n",
    "\n",
    "`getwd()` returns the current wd-path:"
   ]
  },
  {
   "cell_type": "code",
   "execution_count": 64,
   "metadata": {
    "slideshow": {
     "slide_type": "fragment"
    }
   },
   "outputs": [
    {
     "data": {
      "text/html": [
       "'/home/timo/LV2018-19/20181023'"
      ],
      "text/latex": [
       "'/home/timo/LV2018-19/20181023'"
      ],
      "text/markdown": [
       "'/home/timo/LV2018-19/20181023'"
      ],
      "text/plain": [
       "[1] \"/home/timo/LV2018-19/20181023\""
      ]
     },
     "metadata": {},
     "output_type": "display_data"
    }
   ],
   "source": [
    "getwd()"
   ]
  },
  {
   "cell_type": "markdown",
   "metadata": {
    "slideshow": {
     "slide_type": "subslide"
    }
   },
   "source": [
    "The working directoty is changed by function `setwd()` which takes the new path as argument (written as character string; in quotes):"
   ]
  },
  {
   "cell_type": "code",
   "execution_count": 217,
   "metadata": {
    "slideshow": {
     "slide_type": "fragment"
    }
   },
   "outputs": [],
   "source": []
  },
  {
   "cell_type": "markdown",
   "metadata": {
    "slideshow": {
     "slide_type": "slide"
    }
   },
   "source": [
    "### Save Objects like Vectors, Matrices or Data Frames as `.RData`-File<a name =\"save\">\n",
    "Function `save()` is used to store an external representation of an object as `.RData`-file in the current working directory (or in another working directory to be specified).\n",
    "    \n",
    "It is mandatory to indicate:\n",
    "    - which object should be taken for saving and \n",
    "    - the file-name (name it like the object name, though you're free to choose another file name).\n",
    "\n",
    "Save an external representation of mydf as \"mydf.RData\" in the current working directory:\n",
    "    \n",
    "`save(mydf, file=\"mydf.RData\")`\n",
    "    \n",
    "Save it in another working directory, e.g. in your JupyterHub home-folder (this is my home folder ...):\n",
    "    \n",
    "`save(mydf, file=\"/home/timo/mydf.RData\")` (this is my home folder, change the path correspondingly)."
   ]
  },
  {
   "cell_type": "code",
   "execution_count": null,
   "metadata": {
    "slideshow": {
     "slide_type": "fragment"
    }
   },
   "outputs": [],
   "source": []
  },
  {
   "cell_type": "markdown",
   "metadata": {
    "slideshow": {
     "slide_type": "slide"
    }
   },
   "source": [
    "### Load `.RData`-Files<a name=\"load\">"
   ]
  },
  {
   "cell_type": "markdown",
   "metadata": {
    "slideshow": {
     "slide_type": "subslide"
    }
   },
   "source": [
    "Function `load()` reloads `.RData`-files, i.e. object representations that have been saved with function `save()`.\n",
    "\n",
    "`load(\"mydf.RData\")` reloads the saved dataset from the working directory.\n",
    "\n",
    "`load(\"/home/timo/mydf.RData\")` reloads the dataset saved in (my) JupyterHub Home folder."
   ]
  },
  {
   "cell_type": "code",
   "execution_count": null,
   "metadata": {
    "slideshow": {
     "slide_type": "fragment"
    }
   },
   "outputs": [],
   "source": []
  },
  {
   "cell_type": "markdown",
   "metadata": {
    "slideshow": {
     "slide_type": "slide"
    }
   },
   "source": [
    "### Read `.csv`-Files<a name=\"read.csv\">"
   ]
  },
  {
   "cell_type": "markdown",
   "metadata": {
    "slideshow": {
     "slide_type": "subslide"
    }
   },
   "source": [
    "`csv` (comma-separated file) is a common file format that stores tabular data as plain text, separated by comma. It is a standard (though mostly not default) format for saving data that are created with spreadsheet software like Excel.\n",
    "\n",
    "The European standard separator is semicolon, not comma.\n",
    "\n",
    "Function `read.csv()` imports .csv-datasets separated by comma, `read.csv2()` reads semicolon-separated files.\n",
    "\n",
    "These functions take as arguments (amongst others):\n",
    "- the file name / the path (mandatory)\n",
    "- `header`: if `TRUE` (default), data of the first row will be recognised as column names\n",
    "- `sep`: default for `read.csv()` is `sep=\",\"`; default for `read.csv2()` is `sep=\";\"`\n",
    "- `dec`: the character used in the file for decimal points (comma or point)\n",
    "- `fill`: if `TRUE` then in case the rows have unequal length, blank fields are implicitly added\n",
    "\n",
    "**Tip**: Truncated paths of files that were uploaded in Jupyter can be copied easily and fast by *right-mouse-click* on the file, followed by *Copy Path*. \n",
    "\n",
    "Take for example a copied path of file *Classroom.csv* which is \"LV2018-19/Data/Classroom.csv\" in my JupyterLab environment. To open this semicolon separated csv-file, complete the path as \"~/LV2018-19/Data/Classroom.csv\" or type \"home/*username*/...\" instead of \"~/...\".\n",
    "\n",
    "`read.csv2(\"~/LV2018-19/Data/Classroom.csv\")`"
   ]
  },
  {
   "cell_type": "code",
   "execution_count": null,
   "metadata": {
    "slideshow": {
     "slide_type": "fragment"
    }
   },
   "outputs": [],
   "source": []
  },
  {
   "cell_type": "markdown",
   "metadata": {
    "slideshow": {
     "slide_type": "slide"
    }
   },
   "source": [
    "### Read `.txt`-Files<a name=\"read.table\">"
   ]
  },
  {
   "cell_type": "markdown",
   "metadata": {
    "slideshow": {
     "slide_type": "fragment"
    }
   },
   "source": [
    "`txt` is another common file format that stores data such as tabular data as plain text. The separator differs, common are comma, semicolon, space or tab.\n",
    "\n",
    "Function `read.table()` imports .txt datasets, and takes as arguments (amongst others):\n",
    "\n",
    "- the file name / the path (mandatory)\n",
    "- `header`: if `TRUE`, data of the first row will be recognised as column names (default is `FALSE`)\n",
    "- `sep`: default is `sep=\"\\t\"` (tab). Change settings to `sep=\";\"`, `sep=\",\"` or `sep=\" \"` depending on the separator of the .txt-file\n",
    "- `dec`: the character used in the file for decimal points (comma or point)\n",
    "- `fill`: if `TRUE` then in case the rows have unequal length, blank fields are implicitly added\n",
    "\n",
    "Example:  \n",
    "`read.table(\"~/LV2018-19/Data/Scores.txt\", header=T, fill=T)`"
   ]
  },
  {
   "cell_type": "code",
   "execution_count": null,
   "metadata": {
    "slideshow": {
     "slide_type": "fragment"
    }
   },
   "outputs": [],
   "source": []
  }
 ],
 "metadata": {
  "kernelspec": {
   "display_name": "R",
   "language": "R",
   "name": "ir"
  },
  "language_info": {
   "codemirror_mode": "r",
   "file_extension": ".r",
   "mimetype": "text/x-r-source",
   "name": "R",
   "pygments_lexer": "r",
   "version": "3.5.1"
  }
 },
 "nbformat": 4,
 "nbformat_minor": 2
}
