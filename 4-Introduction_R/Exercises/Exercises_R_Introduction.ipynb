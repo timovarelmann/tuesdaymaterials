{
 "cells": [
  {
   "cell_type": "markdown",
   "metadata": {},
   "source": [
    "# Exercises: R Introductory Notebook\n",
    "Course: Elementare Statistik / R  \n",
    "Libraries required: none  \n",
    "Author: timo.varelmann@uni-koeln.de    \n",
    "Date: 30.10.2018"
   ]
  },
  {
   "cell_type": "markdown",
   "metadata": {},
   "source": [
    "## 1. Exercise \"Body Length\""
   ]
  },
  {
   "cell_type": "markdown",
   "metadata": {},
   "source": [
    "Somebody surveyed body length, collecting data in German social networks. Participants were ask to indicate their body length in meter, not centimeter. A vector with raw data of that survey is stored in the file \"b_length.RData\".\n",
    "Participants also gave information about their age, stored in file \"age.RData\". Positions of vector age correspond with positions of vector b_length, i.e. data of person _a_ will be found in position *a* of both vectors.\n",
    "\n",
    "1. Upload file \"b_length.RData\" and \"age.RData\" in Jupyter.\n",
    "2. Load the datasets into the working space of this notebook.\n",
    "3. Create a data frame, variables age and b_length (in that order). Assign an object named \"survey_raw\" with that data frame.\n",
    "4. Do some inspections on the data frame.\n",
    "5. Did all participants indicate their body length in meter? Use function `which()` (look up its usage) to create a procedure that identifies those persons (i.e. positions in the vector) that indicated their body length in centimeter.\n",
    "6. How old were the participants who used unit centimeter?\n",
    "7. Correct respective data from centimeter to meter and assign the corrected data frame to a new object called \"survey\" (in one step).\n",
    "8. Extend that data frame by a new column \"b_length_inch\" which gives all body length data in inch (1 meter = 39,3700787 inch)\n",
    "9. Create two data subsets of that data frame, one for all participants age 18 to 40, another for 41 to 64. Calculate the range (i.e. the distance between maximum and minimum body length) in meter for both age groups.\n",
    "\n",
    "(extra) 10. Create a new column called \"age_group\"; this column should cover the following information about the corresponding age group: number 1 for group 18-40 years, number 2 for group 41-64 years. Factorise all data within that new column using function `factor()` and change the order of columns to: age, age_group, b_length, b_length_inch\n",
    "\n",
    "Finally, save object survey as .RData-file."
   ]
  },
  {
   "cell_type": "markdown",
   "metadata": {},
   "source": [
    "## Exercise \"Scores\"\n",
    "\n",
    "The Scores-Exercise-Dataset provides information on subject ID, version of a test that subjects did (1, 2 or 3), and their respective scores. Scores2 provides additional information about test version 4.\n",
    "\n",
    "1. Read both txt-files correctly.\n",
    "2. Create a data frame that covers all data including test version 4. Factorise data of the test column using function `factor()`.\n",
    "2. Calculate min and max values of scores for each test version; if you encounter a problem doing so, do a little investigation to find a solution for that."
   ]
  }
 ],
 "metadata": {
  "kernelspec": {
   "display_name": "R",
   "language": "R",
   "name": "ir"
  },
  "language_info": {
   "codemirror_mode": "r",
   "file_extension": ".r",
   "mimetype": "text/x-r-source",
   "name": "R",
   "pygments_lexer": "r",
   "version": "3.5.1"
  }
 },
 "nbformat": 4,
 "nbformat_minor": 2
}
