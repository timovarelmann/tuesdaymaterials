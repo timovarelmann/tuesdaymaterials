{
 "cells": [
  {
   "cell_type": "markdown",
   "metadata": {
    "slideshow": {
     "slide_type": "slide"
    }
   },
   "source": [
    "# Presentations:\n",
    "The course will end with short presentations of your descriptive data analysis projects. This is **mandatory** for achieving your credit points.  "
   ]
  },
  {
   "cell_type": "markdown",
   "metadata": {},
   "source": [
    "## Topic\n",
    "\n",
    "- You may collect the data to be analysed by yourself or create simulated data sets (if you use functions like `sample()` or `rnorm()`, look at the R-dcumentation).  \n",
    "- **OR** You may execute descriptive analysis of an existing dataset, e.g.\n",
    " - Data provided by Streaming- / Download-Platforms\n",
    " - Data provided by governmental organisation (e.g.Statistische Bundesamt https://www.destatis.de/DE/Publikationen/Thematisch/BildungForschungKultur/Hochschulen/StudierendeHochschulenEndg.html )\n",
    " - Data used in R-tutorials or blogs\n",
    " - Data used for analyses in science disciplines like music information retrieval, z.B. https://www.audiocontentanalysis.org/data-sets/\n",
    " - Data used in an replication-experiment of Marshall & Cohen 1988\n",
    "   - original article: https://www.islandscholar.ca/islandora/object/ir%3Air-batch6-1783/datastream/PDF/view\n",
    "   - information on the replication experiment: https://vkc.mc.vanderbilt.edu/smpc2015/wp-content/uploads/2014/07/SMPC-program-2015.pdf (p. 106)\n",
    "\n",
    "Please contact me when you have chosen your topic!"
   ]
  },
  {
   "cell_type": "markdown",
   "metadata": {
    "slideshow": {
     "slide_type": "subslide"
    }
   },
   "source": [
    "Some examples of students' topics in the last terms:\n",
    "- \"Wie populär ist Pop\"? Vergleich von Klicks unterschiedlicher Genre bei kostenlosen Streamprogrammen am Beispiel von Spotify\n",
    "- Neuerscheinungen der Kinofilme im Jahr 2014 \n",
    "- Mediennutzung in der Freizeit. Ein Vergleich internetbasierter und nicht-internetbasierter Medien\n",
    "- Einfluss gelenkter Aufmerksamkeit auf die Bewertung geometrischer Figuren\n",
    "- Musikparadigmen in Horrorfilm-Originalen und -Remakes"
   ]
  },
  {
   "cell_type": "markdown",
   "metadata": {},
   "source": [
    "## Presentation "
   ]
  },
  {
   "cell_type": "markdown",
   "metadata": {},
   "source": [
    "For your 5-10 min presentations, you will create a Jupyter Notebook that includes notes, possibly some code, results of your analysis and visualisations. Present the contents of your notebook in the slide-modus.\n",
    "\n",
    "You can use a single notebook for analysis and presentation (skip the content, i.e. cells, you do not want to present)"
   ]
  },
  {
   "cell_type": "markdown",
   "metadata": {},
   "source": [
    "Presentation modus:\n",
    "1. Launch Classic Notebook (under \"Help\")\n",
    "2. Open your notebook in the classic environment\n",
    "3. View -> Cell Toolbar -> Slideshow\n",
    "4. Choose Slide Type for each cell\n",
    "5. Enter RISE slideshow modus (click on the button)"
   ]
  },
  {
   "cell_type": "markdown",
   "metadata": {},
   "source": [
    "Date of presentations: the last meeting on 30 January"
   ]
  },
  {
   "cell_type": "markdown",
   "metadata": {},
   "source": [
    "## Hand in your notebook\n",
    "\n",
    "Please send me your notebook (together with your data files) for feedback.\n",
    "\n",
    "The first Cell (Markdown) should include:\n",
    "- Title\n",
    "- Name, Matrikelnr., Affiliation\n",
    "- Document names of datasets\n",
    "- Packages used (if necessary)\n",
    "\n",
    "Structure your notebook in a literate way. Use headings for structure and write don your general ideas and argumentation in markdown (see formatting features in the corresponding notebook). Provide comments on your coding in markdown or by `#` within the code cells."
   ]
  }
 ],
 "metadata": {
  "kernelspec": {
   "display_name": "R",
   "language": "R",
   "name": "ir"
  },
  "language_info": {
   "codemirror_mode": "r",
   "file_extension": ".r",
   "mimetype": "text/x-r-source",
   "name": "R",
   "pygments_lexer": "r",
   "version": "3.5.1"
  }
 },
 "nbformat": 4,
 "nbformat_minor": 2
}
